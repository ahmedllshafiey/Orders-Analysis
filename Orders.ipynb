{
 "cells": [
  {
   "cell_type": "code",
   "execution_count": 2,
   "metadata": {},
   "outputs": [],
   "source": [
    "import pandas as pd\n",
    "import numpy as np\n",
    "import plotly.express as px\n",
    "from matplotlib import pyplot as plt\n",
    "import seaborn as sns\n",
    "\n",
    "# Configure pandas display options for better readability\n",
    "pd.options.display.float_format = '{:.2f}'.format\n",
    "pd.options.display.max_columns = None\n",
    "pd.options.display.max_rows = None"
   ]
  },
  {
   "cell_type": "code",
   "execution_count": 3,
   "metadata": {},
   "outputs": [],
   "source": [
    "# Load the data from the specified CSV file\n",
    "df = pd.read_csv('Database/all_data.csv', encoding='iso-8859-1')"
   ]
  },
  {
   "cell_type": "code",
   "execution_count": 4,
   "metadata": {},
   "outputs": [
    {
     "name": "stdout",
     "output_type": "stream",
     "text": [
      "<class 'pandas.core.frame.DataFrame'>\n",
      "RangeIndex: 2161 entries, 0 to 2160\n",
      "Data columns (total 22 columns):\n",
      " #   Column          Non-Null Count  Dtype  \n",
      "---  ------          --------------  -----  \n",
      " 0   CustomerID      2158 non-null   float64\n",
      " 1   FirstName       2158 non-null   object \n",
      " 2   LastName        2158 non-null   object \n",
      " 3   City            2158 non-null   object \n",
      " 4   Country         2158 non-null   object \n",
      " 5   Phone           2158 non-null   object \n",
      " 6   OrderID         2155 non-null   float64\n",
      " 7   OrderDate       2155 non-null   object \n",
      " 8   OrderNumber     2155 non-null   float64\n",
      " 9   TotalAmount     2155 non-null   float64\n",
      " 10  ProductID       2157 non-null   float64\n",
      " 11  ProductName     2157 non-null   object \n",
      " 12  UnitPrice       2157 non-null   float64\n",
      " 13  Package         2157 non-null   object \n",
      " 14  IsDiscontinued  2157 non-null   object \n",
      " 15  SupplierID      2157 non-null   float64\n",
      " 16  CompanyName     2157 non-null   object \n",
      " 17  ContactName     2157 non-null   object \n",
      " 18  City.1          2157 non-null   object \n",
      " 19  Country.1       2157 non-null   object \n",
      " 20  Phone.1         2157 non-null   object \n",
      " 21  Fax             947 non-null    object \n",
      "dtypes: float64(7), object(15)\n",
      "memory usage: 371.6+ KB\n"
     ]
    }
   ],
   "source": [
    "# Display basic information about the dataset\n",
    "df.info()"
   ]
  },
  {
   "cell_type": "code",
   "execution_count": 5,
   "metadata": {},
   "outputs": [
    {
     "data": {
      "text/html": [
       "<div>\n",
       "<style scoped>\n",
       "    .dataframe tbody tr th:only-of-type {\n",
       "        vertical-align: middle;\n",
       "    }\n",
       "\n",
       "    .dataframe tbody tr th {\n",
       "        vertical-align: top;\n",
       "    }\n",
       "\n",
       "    .dataframe thead th {\n",
       "        text-align: right;\n",
       "    }\n",
       "</style>\n",
       "<table border=\"1\" class=\"dataframe\">\n",
       "  <thead>\n",
       "    <tr style=\"text-align: right;\">\n",
       "      <th></th>\n",
       "      <th>CustomerID</th>\n",
       "      <th>FirstName</th>\n",
       "      <th>LastName</th>\n",
       "      <th>City</th>\n",
       "      <th>Country</th>\n",
       "      <th>Phone</th>\n",
       "      <th>OrderID</th>\n",
       "      <th>OrderDate</th>\n",
       "      <th>OrderNumber</th>\n",
       "      <th>TotalAmount</th>\n",
       "      <th>ProductID</th>\n",
       "      <th>ProductName</th>\n",
       "      <th>UnitPrice</th>\n",
       "      <th>Package</th>\n",
       "      <th>IsDiscontinued</th>\n",
       "      <th>SupplierID</th>\n",
       "      <th>CompanyName</th>\n",
       "      <th>ContactName</th>\n",
       "      <th>City.1</th>\n",
       "      <th>Country.1</th>\n",
       "      <th>Phone.1</th>\n",
       "      <th>Fax</th>\n",
       "    </tr>\n",
       "  </thead>\n",
       "  <tbody>\n",
       "    <tr>\n",
       "      <th>1412</th>\n",
       "      <td>41.00</td>\n",
       "      <td>Annette</td>\n",
       "      <td>Roulet</td>\n",
       "      <td>Toulouse</td>\n",
       "      <td>France</td>\n",
       "      <td>61.77.61.10</td>\n",
       "      <td>540.00</td>\n",
       "      <td>12/19/2013 0:00</td>\n",
       "      <td>542917.00</td>\n",
       "      <td>2760.80</td>\n",
       "      <td>2.00</td>\n",
       "      <td>Chang</td>\n",
       "      <td>19.00</td>\n",
       "      <td>24 - 12 oz bottles</td>\n",
       "      <td>False</td>\n",
       "      <td>1.00</td>\n",
       "      <td>Exotic Liquids</td>\n",
       "      <td>Charlotte Cooper</td>\n",
       "      <td>London</td>\n",
       "      <td>UK</td>\n",
       "      <td>(171) 555-2222</td>\n",
       "      <td>NaN</td>\n",
       "    </tr>\n",
       "    <tr>\n",
       "      <th>1179</th>\n",
       "      <td>47.00</td>\n",
       "      <td>Felipe</td>\n",
       "      <td>Izquierdo</td>\n",
       "      <td>I. de Margarita</td>\n",
       "      <td>Venezuela</td>\n",
       "      <td>(8) 34-56-12</td>\n",
       "      <td>450.00</td>\n",
       "      <td>10/8/2013 0:00</td>\n",
       "      <td>542827.00</td>\n",
       "      <td>1073.90</td>\n",
       "      <td>19.00</td>\n",
       "      <td>Teatime Chocolate Biscuits</td>\n",
       "      <td>9.20</td>\n",
       "      <td>10 boxes x 12 pieces</td>\n",
       "      <td>False</td>\n",
       "      <td>8.00</td>\n",
       "      <td>Specialty Biscuits, Ltd.</td>\n",
       "      <td>Peter Wilson</td>\n",
       "      <td>Manchester</td>\n",
       "      <td>UK</td>\n",
       "      <td>(161) 555-4448</td>\n",
       "      <td>NaN</td>\n",
       "    </tr>\n",
       "    <tr>\n",
       "      <th>914</th>\n",
       "      <td>44.00</td>\n",
       "      <td>Renate</td>\n",
       "      <td>Messner</td>\n",
       "      <td>Frankfurt a.M.</td>\n",
       "      <td>Germany</td>\n",
       "      <td>069-0245984</td>\n",
       "      <td>346.00</td>\n",
       "      <td>7/9/2013 0:00</td>\n",
       "      <td>542723.00</td>\n",
       "      <td>2493.00</td>\n",
       "      <td>20.00</td>\n",
       "      <td>Sir Rodney's Marmalade</td>\n",
       "      <td>81.00</td>\n",
       "      <td>30 gift boxes</td>\n",
       "      <td>False</td>\n",
       "      <td>8.00</td>\n",
       "      <td>Specialty Biscuits, Ltd.</td>\n",
       "      <td>Peter Wilson</td>\n",
       "      <td>Manchester</td>\n",
       "      <td>UK</td>\n",
       "      <td>(161) 555-4448</td>\n",
       "      <td>NaN</td>\n",
       "    </tr>\n",
       "    <tr>\n",
       "      <th>1548</th>\n",
       "      <td>81.00</td>\n",
       "      <td>Anabela</td>\n",
       "      <td>Domingues</td>\n",
       "      <td>Sao Paulo</td>\n",
       "      <td>Brazil</td>\n",
       "      <td>(11) 555-2167</td>\n",
       "      <td>592.00</td>\n",
       "      <td>1/19/2014 0:00</td>\n",
       "      <td>542969.00</td>\n",
       "      <td>919.50</td>\n",
       "      <td>72.00</td>\n",
       "      <td>Mozzarella di Giovanni</td>\n",
       "      <td>34.80</td>\n",
       "      <td>24 - 200 g pkgs.</td>\n",
       "      <td>False</td>\n",
       "      <td>14.00</td>\n",
       "      <td>Formaggi Fortini s.r.l.</td>\n",
       "      <td>Elio Rossi</td>\n",
       "      <td>Ravenna</td>\n",
       "      <td>Italy</td>\n",
       "      <td>(0544) 60323</td>\n",
       "      <td>(0544) 60603</td>\n",
       "    </tr>\n",
       "    <tr>\n",
       "      <th>1857</th>\n",
       "      <td>55.00</td>\n",
       "      <td>Rene</td>\n",
       "      <td>Phillips</td>\n",
       "      <td>Anchorage</td>\n",
       "      <td>USA</td>\n",
       "      <td>(907) 555-7584</td>\n",
       "      <td>718.00</td>\n",
       "      <td>3/20/2014 0:00</td>\n",
       "      <td>543095.00</td>\n",
       "      <td>848.00</td>\n",
       "      <td>51.00</td>\n",
       "      <td>Manjimup Dried Apples</td>\n",
       "      <td>53.00</td>\n",
       "      <td>50 - 300 g pkgs.</td>\n",
       "      <td>False</td>\n",
       "      <td>24.00</td>\n",
       "      <td>G'day, Mate</td>\n",
       "      <td>Wendy Mackenzie</td>\n",
       "      <td>Sydney</td>\n",
       "      <td>Australia</td>\n",
       "      <td>(02) 555-5914</td>\n",
       "      <td>(02) 555-4873</td>\n",
       "    </tr>\n",
       "  </tbody>\n",
       "</table>\n",
       "</div>"
      ],
      "text/plain": [
       "      CustomerID FirstName   LastName             City    Country  \\\n",
       "1412       41.00   Annette     Roulet         Toulouse     France   \n",
       "1179       47.00    Felipe  Izquierdo  I. de Margarita  Venezuela   \n",
       "914        44.00    Renate    Messner   Frankfurt a.M.    Germany   \n",
       "1548       81.00   Anabela  Domingues        Sao Paulo     Brazil   \n",
       "1857       55.00      Rene   Phillips        Anchorage        USA   \n",
       "\n",
       "               Phone  OrderID        OrderDate  OrderNumber  TotalAmount  \\\n",
       "1412     61.77.61.10   540.00  12/19/2013 0:00    542917.00      2760.80   \n",
       "1179    (8) 34-56-12   450.00   10/8/2013 0:00    542827.00      1073.90   \n",
       "914      069-0245984   346.00    7/9/2013 0:00    542723.00      2493.00   \n",
       "1548   (11) 555-2167   592.00   1/19/2014 0:00    542969.00       919.50   \n",
       "1857  (907) 555-7584   718.00   3/20/2014 0:00    543095.00       848.00   \n",
       "\n",
       "      ProductID                 ProductName  UnitPrice               Package  \\\n",
       "1412       2.00                       Chang      19.00    24 - 12 oz bottles   \n",
       "1179      19.00  Teatime Chocolate Biscuits       9.20  10 boxes x 12 pieces   \n",
       "914       20.00      Sir Rodney's Marmalade      81.00         30 gift boxes   \n",
       "1548      72.00      Mozzarella di Giovanni      34.80      24 - 200 g pkgs.   \n",
       "1857      51.00       Manjimup Dried Apples      53.00      50 - 300 g pkgs.   \n",
       "\n",
       "     IsDiscontinued  SupplierID               CompanyName       ContactName  \\\n",
       "1412          False        1.00            Exotic Liquids  Charlotte Cooper   \n",
       "1179          False        8.00  Specialty Biscuits, Ltd.      Peter Wilson   \n",
       "914           False        8.00  Specialty Biscuits, Ltd.      Peter Wilson   \n",
       "1548          False       14.00   Formaggi Fortini s.r.l.        Elio Rossi   \n",
       "1857          False       24.00               G'day, Mate   Wendy Mackenzie   \n",
       "\n",
       "          City.1  Country.1         Phone.1            Fax  \n",
       "1412      London         UK  (171) 555-2222            NaN  \n",
       "1179  Manchester         UK  (161) 555-4448            NaN  \n",
       "914   Manchester         UK  (161) 555-4448            NaN  \n",
       "1548     Ravenna      Italy    (0544) 60323   (0544) 60603  \n",
       "1857      Sydney  Australia   (02) 555-5914  (02) 555-4873  "
      ]
     },
     "execution_count": 5,
     "metadata": {},
     "output_type": "execute_result"
    }
   ],
   "source": [
    "# Display a random sample of 5 rows for quick inspection\n",
    "df.sample(5)"
   ]
  },
  {
   "cell_type": "code",
   "execution_count": 6,
   "metadata": {},
   "outputs": [
    {
     "data": {
      "text/html": [
       "<div>\n",
       "<style scoped>\n",
       "    .dataframe tbody tr th:only-of-type {\n",
       "        vertical-align: middle;\n",
       "    }\n",
       "\n",
       "    .dataframe tbody tr th {\n",
       "        vertical-align: top;\n",
       "    }\n",
       "\n",
       "    .dataframe thead th {\n",
       "        text-align: right;\n",
       "    }\n",
       "</style>\n",
       "<table border=\"1\" class=\"dataframe\">\n",
       "  <thead>\n",
       "    <tr style=\"text-align: right;\">\n",
       "      <th></th>\n",
       "      <th>CustomerID</th>\n",
       "      <th>FirstName</th>\n",
       "      <th>LastName</th>\n",
       "      <th>City</th>\n",
       "      <th>Country</th>\n",
       "      <th>Phone</th>\n",
       "      <th>OrderID</th>\n",
       "      <th>OrderDate</th>\n",
       "      <th>OrderNumber</th>\n",
       "      <th>TotalAmount</th>\n",
       "      <th>ProductID</th>\n",
       "      <th>ProductName</th>\n",
       "      <th>UnitPrice</th>\n",
       "      <th>Package</th>\n",
       "      <th>IsDiscontinued</th>\n",
       "      <th>SupplierID</th>\n",
       "      <th>CompanyName</th>\n",
       "      <th>ContactName</th>\n",
       "      <th>City.1</th>\n",
       "      <th>Country.1</th>\n",
       "      <th>Phone.1</th>\n",
       "      <th>Fax</th>\n",
       "    </tr>\n",
       "  </thead>\n",
       "  <tbody>\n",
       "    <tr>\n",
       "      <th>2155</th>\n",
       "      <td>NaN</td>\n",
       "      <td>NaN</td>\n",
       "      <td>NaN</td>\n",
       "      <td>NaN</td>\n",
       "      <td>NaN</td>\n",
       "      <td>NaN</td>\n",
       "      <td>NaN</td>\n",
       "      <td>NaN</td>\n",
       "      <td>NaN</td>\n",
       "      <td>NaN</td>\n",
       "      <td>78.00</td>\n",
       "      <td>Stroopwafels</td>\n",
       "      <td>9.75</td>\n",
       "      <td>24 pieces</td>\n",
       "      <td>False</td>\n",
       "      <td>22.00</td>\n",
       "      <td>Zaanse Snoepfabriek</td>\n",
       "      <td>Dirk Luchte</td>\n",
       "      <td>Zaandam</td>\n",
       "      <td>Netherlands</td>\n",
       "      <td>(12345) 1212</td>\n",
       "      <td>(12345) 1210</td>\n",
       "    </tr>\n",
       "    <tr>\n",
       "      <th>2156</th>\n",
       "      <td>NaN</td>\n",
       "      <td>NaN</td>\n",
       "      <td>NaN</td>\n",
       "      <td>NaN</td>\n",
       "      <td>NaN</td>\n",
       "      <td>NaN</td>\n",
       "      <td>NaN</td>\n",
       "      <td>NaN</td>\n",
       "      <td>NaN</td>\n",
       "      <td>NaN</td>\n",
       "      <td>79.00</td>\n",
       "      <td>DataScience</td>\n",
       "      <td>50.00</td>\n",
       "      <td>1</td>\n",
       "      <td>False</td>\n",
       "      <td>NaN</td>\n",
       "      <td>NaN</td>\n",
       "      <td>NaN</td>\n",
       "      <td>NaN</td>\n",
       "      <td>NaN</td>\n",
       "      <td>NaN</td>\n",
       "      <td>NaN</td>\n",
       "    </tr>\n",
       "    <tr>\n",
       "      <th>2157</th>\n",
       "      <td>92.00</td>\n",
       "      <td>Ali</td>\n",
       "      <td>Ali</td>\n",
       "      <td>Cairo</td>\n",
       "      <td>Egypt</td>\n",
       "      <td>0</td>\n",
       "      <td>NaN</td>\n",
       "      <td>NaN</td>\n",
       "      <td>NaN</td>\n",
       "      <td>NaN</td>\n",
       "      <td>NaN</td>\n",
       "      <td>NaN</td>\n",
       "      <td>NaN</td>\n",
       "      <td>NaN</td>\n",
       "      <td>NaN</td>\n",
       "      <td>NaN</td>\n",
       "      <td>NaN</td>\n",
       "      <td>NaN</td>\n",
       "      <td>NaN</td>\n",
       "      <td>NaN</td>\n",
       "      <td>NaN</td>\n",
       "      <td>NaN</td>\n",
       "    </tr>\n",
       "    <tr>\n",
       "      <th>2158</th>\n",
       "      <td>22.00</td>\n",
       "      <td>Diego</td>\n",
       "      <td>Roel</td>\n",
       "      <td>Madrid</td>\n",
       "      <td>Spain</td>\n",
       "      <td>(91) 555 94 44</td>\n",
       "      <td>NaN</td>\n",
       "      <td>NaN</td>\n",
       "      <td>NaN</td>\n",
       "      <td>NaN</td>\n",
       "      <td>NaN</td>\n",
       "      <td>NaN</td>\n",
       "      <td>NaN</td>\n",
       "      <td>NaN</td>\n",
       "      <td>NaN</td>\n",
       "      <td>NaN</td>\n",
       "      <td>NaN</td>\n",
       "      <td>NaN</td>\n",
       "      <td>NaN</td>\n",
       "      <td>NaN</td>\n",
       "      <td>NaN</td>\n",
       "      <td>NaN</td>\n",
       "    </tr>\n",
       "    <tr>\n",
       "      <th>2159</th>\n",
       "      <td>57.00</td>\n",
       "      <td>Marie</td>\n",
       "      <td>Bertrand</td>\n",
       "      <td>Paris</td>\n",
       "      <td>France</td>\n",
       "      <td>(1) 42.34.22.66</td>\n",
       "      <td>NaN</td>\n",
       "      <td>NaN</td>\n",
       "      <td>NaN</td>\n",
       "      <td>NaN</td>\n",
       "      <td>NaN</td>\n",
       "      <td>NaN</td>\n",
       "      <td>NaN</td>\n",
       "      <td>NaN</td>\n",
       "      <td>NaN</td>\n",
       "      <td>NaN</td>\n",
       "      <td>NaN</td>\n",
       "      <td>NaN</td>\n",
       "      <td>NaN</td>\n",
       "      <td>NaN</td>\n",
       "      <td>NaN</td>\n",
       "      <td>NaN</td>\n",
       "    </tr>\n",
       "    <tr>\n",
       "      <th>2160</th>\n",
       "      <td>NaN</td>\n",
       "      <td>NaN</td>\n",
       "      <td>NaN</td>\n",
       "      <td>NaN</td>\n",
       "      <td>NaN</td>\n",
       "      <td>NaN</td>\n",
       "      <td>NaN</td>\n",
       "      <td>NaN</td>\n",
       "      <td>NaN</td>\n",
       "      <td>NaN</td>\n",
       "      <td>NaN</td>\n",
       "      <td>NaN</td>\n",
       "      <td>NaN</td>\n",
       "      <td>NaN</td>\n",
       "      <td>NaN</td>\n",
       "      <td>30.00</td>\n",
       "      <td>DSClub</td>\n",
       "      <td>AEmad</td>\n",
       "      <td>Alex</td>\n",
       "      <td>Egypt</td>\n",
       "      <td>11111</td>\n",
       "      <td>11111</td>\n",
       "    </tr>\n",
       "  </tbody>\n",
       "</table>\n",
       "</div>"
      ],
      "text/plain": [
       "      CustomerID FirstName  LastName    City Country            Phone  \\\n",
       "2155         NaN       NaN       NaN     NaN     NaN              NaN   \n",
       "2156         NaN       NaN       NaN     NaN     NaN              NaN   \n",
       "2157       92.00       Ali       Ali   Cairo   Egypt                0   \n",
       "2158       22.00     Diego      Roel  Madrid   Spain   (91) 555 94 44   \n",
       "2159       57.00     Marie  Bertrand   Paris  France  (1) 42.34.22.66   \n",
       "2160         NaN       NaN       NaN     NaN     NaN              NaN   \n",
       "\n",
       "      OrderID OrderDate  OrderNumber  TotalAmount  ProductID   ProductName  \\\n",
       "2155      NaN       NaN          NaN          NaN      78.00  Stroopwafels   \n",
       "2156      NaN       NaN          NaN          NaN      79.00   DataScience   \n",
       "2157      NaN       NaN          NaN          NaN        NaN           NaN   \n",
       "2158      NaN       NaN          NaN          NaN        NaN           NaN   \n",
       "2159      NaN       NaN          NaN          NaN        NaN           NaN   \n",
       "2160      NaN       NaN          NaN          NaN        NaN           NaN   \n",
       "\n",
       "      UnitPrice    Package IsDiscontinued  SupplierID          CompanyName  \\\n",
       "2155       9.75  24 pieces          False       22.00  Zaanse Snoepfabriek   \n",
       "2156      50.00          1          False         NaN                  NaN   \n",
       "2157        NaN        NaN            NaN         NaN                  NaN   \n",
       "2158        NaN        NaN            NaN         NaN                  NaN   \n",
       "2159        NaN        NaN            NaN         NaN                  NaN   \n",
       "2160        NaN        NaN            NaN       30.00               DSClub   \n",
       "\n",
       "      ContactName   City.1    Country.1       Phone.1           Fax  \n",
       "2155  Dirk Luchte  Zaandam  Netherlands  (12345) 1212  (12345) 1210  \n",
       "2156          NaN      NaN          NaN           NaN           NaN  \n",
       "2157          NaN      NaN          NaN           NaN           NaN  \n",
       "2158          NaN      NaN          NaN           NaN           NaN  \n",
       "2159          NaN      NaN          NaN           NaN           NaN  \n",
       "2160        AEmad     Alex        Egypt         11111         11111  "
      ]
     },
     "execution_count": 6,
     "metadata": {},
     "output_type": "execute_result"
    }
   ],
   "source": [
    "# Check for rows with missing OrderID values\n",
    "df[df['OrderID'].isnull()]"
   ]
  },
  {
   "cell_type": "code",
   "execution_count": 7,
   "metadata": {},
   "outputs": [],
   "source": [
    "# Drop rows where OrderID is missing, as they are likely invalid\n",
    "df.dropna(subset=['OrderID'], inplace=True)"
   ]
  },
  {
   "cell_type": "code",
   "execution_count": 8,
   "metadata": {},
   "outputs": [],
   "source": [
    "# Rename columns for better clarity and consistency\n",
    "df.rename(columns={'City.1': 'SuppCity', 'Country.1': 'SuppCountry', 'Phone.1': 'SuppPhone'}, inplace=True)"
   ]
  },
  {
   "cell_type": "code",
   "execution_count": 9,
   "metadata": {},
   "outputs": [],
   "source": [
    "# Convert OrderDate to datetime format for easier manipulation\n",
    "df['OrderDate'] = pd.to_datetime(df['OrderDate'])"
   ]
  },
  {
   "cell_type": "code",
   "execution_count": 10,
   "metadata": {},
   "outputs": [],
   "source": [
    "# Convert columns containing 'ID' or 'OrderNumber' to integer type for consistency\n",
    "for col in df.columns:\n",
    "    if 'ID' in col or 'OrderNumber' in col:\n",
    "        df[col] = df[col].astype(int)"
   ]
  },
  {
   "cell_type": "code",
   "execution_count": 11,
   "metadata": {},
   "outputs": [
    {
     "name": "stdout",
     "output_type": "stream",
     "text": [
      "<class 'pandas.core.frame.DataFrame'>\n",
      "Index: 2155 entries, 0 to 2154\n",
      "Data columns (total 22 columns):\n",
      " #   Column          Non-Null Count  Dtype         \n",
      "---  ------          --------------  -----         \n",
      " 0   CustomerID      2155 non-null   int64         \n",
      " 1   FirstName       2155 non-null   object        \n",
      " 2   LastName        2155 non-null   object        \n",
      " 3   City            2155 non-null   object        \n",
      " 4   Country         2155 non-null   object        \n",
      " 5   Phone           2155 non-null   object        \n",
      " 6   OrderID         2155 non-null   int64         \n",
      " 7   OrderDate       2155 non-null   datetime64[ns]\n",
      " 8   OrderNumber     2155 non-null   int64         \n",
      " 9   TotalAmount     2155 non-null   float64       \n",
      " 10  ProductID       2155 non-null   int64         \n",
      " 11  ProductName     2155 non-null   object        \n",
      " 12  UnitPrice       2155 non-null   float64       \n",
      " 13  Package         2155 non-null   object        \n",
      " 14  IsDiscontinued  2155 non-null   object        \n",
      " 15  SupplierID      2155 non-null   int64         \n",
      " 16  CompanyName     2155 non-null   object        \n",
      " 17  ContactName     2155 non-null   object        \n",
      " 18  SuppCity        2155 non-null   object        \n",
      " 19  SuppCountry     2155 non-null   object        \n",
      " 20  SuppPhone       2155 non-null   object        \n",
      " 21  Fax             945 non-null    object        \n",
      "dtypes: datetime64[ns](1), float64(2), int64(5), object(14)\n",
      "memory usage: 387.2+ KB\n"
     ]
    }
   ],
   "source": [
    "# Verify the changes made to the dataset\n",
    "df.info()"
   ]
  },
  {
   "cell_type": "markdown",
   "metadata": {},
   "source": [
    "## EDA"
   ]
  },
  {
   "cell_type": "markdown",
   "metadata": {},
   "source": [
    "#### Univariate Analysis"
   ]
  },
  {
   "cell_type": "code",
   "execution_count": 12,
   "metadata": {},
   "outputs": [
    {
     "data": {
      "text/plain": [
       "count    2155.00\n",
       "mean     1986.04\n",
       "std      2121.85\n",
       "min        12.50\n",
       "25%       670.80\n",
       "50%      1419.80\n",
       "75%      2393.50\n",
       "max     17250.00\n",
       "Name: TotalAmount, dtype: float64"
      ]
     },
     "execution_count": 12,
     "metadata": {},
     "output_type": "execute_result"
    }
   ],
   "source": [
    "df['TotalAmount'].describe()"
   ]
  },
  {
   "cell_type": "code",
   "execution_count": 13,
   "metadata": {},
   "outputs": [
    {
     "data": {
      "image/png": "[encoded data removed]",
      "text/plain": [
       "<Figure size 640x480 with 1 Axes>"
      ]
     },
     "metadata": {},
     "output_type": "display_data"
    }
   ],
   "source": [
    "sns.histplot(data=df, x='TotalAmount', bins=30, kde=True)\n",
    "plt.title('Distribution of Total Order Amounts')\n",
    "plt.xlabel('Total Order Amount')\n",
    "plt.ylabel('Frequency')\n",
    "plt.axvline(df['TotalAmount'].mean(), color='red', linestyle='dashed', linewidth=1)\n",
    "plt.axvline(df['TotalAmount'].median(), color='green', linestyle='dashed', linewidth=1)\n",
    "plt.show()"
   ]
  },
  {
   "cell_type": "code",
   "execution_count": 14,
   "metadata": {},
   "outputs": [],
   "source": [
    "min_amount = df['TotalAmount'].min()\n",
    "max_amount = df['TotalAmount'].max()\n",
    "\n",
    "q1 = df['TotalAmount'].quantile(0.25)\n",
    "q3 = df['TotalAmount'].quantile(0.75)\n",
    "q2 = df['TotalAmount'].median()\n",
    "\n",
    "iqr = q3 - q1\n",
    "\n",
    "lower_bound = q1 - 1.5 * iqr\n",
    "upper_bound = q3 + 1.5 * iqr"
   ]
  },
  {
   "cell_type": "code",
   "execution_count": 15,
   "metadata": {},
   "outputs": [
    {
     "data": {
      "text/plain": [
       "Text(0.5, 1.0, 'Boxplot of Total Order Amounts')"
      ]
     },
     "execution_count": 15,
     "metadata": {},
     "output_type": "execute_result"
    },
    {
     "data": {
      "image/png": "[encoded data removed]",
      "text/plain": [
       "<Figure size 640x480 with 1 Axes>"
      ]
     },
     "metadata": {},
     "output_type": "display_data"
    }
   ],
   "source": [
    "sns.boxplot(data=df, x='TotalAmount')\n",
    "plt.title('Boxplot of Total Order Amounts')"
   ]
  },
  {
   "cell_type": "code",
   "execution_count": 16,
   "metadata": {},
   "outputs": [],
   "source": [
    "df = df[df['TotalAmount']<15000]"
   ]
  },
  {
   "cell_type": "code",
   "execution_count": 17,
   "metadata": {},
   "outputs": [
    {
     "name": "stdout",
     "output_type": "stream",
     "text": [
      "<class 'pandas.core.frame.DataFrame'>\n",
      "Index: 2148 entries, 0 to 2154\n",
      "Data columns (total 22 columns):\n",
      " #   Column          Non-Null Count  Dtype         \n",
      "---  ------          --------------  -----         \n",
      " 0   CustomerID      2148 non-null   int64         \n",
      " 1   FirstName       2148 non-null   object        \n",
      " 2   LastName        2148 non-null   object        \n",
      " 3   City            2148 non-null   object        \n",
      " 4   Country         2148 non-null   object        \n",
      " 5   Phone           2148 non-null   object        \n",
      " 6   OrderID         2148 non-null   int64         \n",
      " 7   OrderDate       2148 non-null   datetime64[ns]\n",
      " 8   OrderNumber     2148 non-null   int64         \n",
      " 9   TotalAmount     2148 non-null   float64       \n",
      " 10  ProductID       2148 non-null   int64         \n",
      " 11  ProductName     2148 non-null   object        \n",
      " 12  UnitPrice       2148 non-null   float64       \n",
      " 13  Package         2148 non-null   object        \n",
      " 14  IsDiscontinued  2148 non-null   object        \n",
      " 15  SupplierID      2148 non-null   int64         \n",
      " 16  CompanyName     2148 non-null   object        \n",
      " 17  ContactName     2148 non-null   object        \n",
      " 18  SuppCity        2148 non-null   object        \n",
      " 19  SuppCountry     2148 non-null   object        \n",
      " 20  SuppPhone       2148 non-null   object        \n",
      " 21  Fax             941 non-null    object        \n",
      "dtypes: datetime64[ns](1), float64(2), int64(5), object(14)\n",
      "memory usage: 386.0+ KB\n"
     ]
    }
   ],
   "source": [
    "df.info()"
   ]
  },
  {
   "cell_type": "code",
   "execution_count": 18,
   "metadata": {},
   "outputs": [
    {
     "data": {
      "application/vnd.plotly.v1+json": {
       "config": {
        "plotlyServerURL": "https://plot.ly"
       },
       "data": [
        {
         "hovertemplate": "variable=count<br>City=%{x}<br>value=%{y}<extra></extra>",
         "legendgroup": "count",
         "marker": {
          "color": "#636efa",
          "pattern": {
           "shape": ""
          }
         },
         "name": "count",
         "orientation": "v",
         "showlegend": true,
         "textposition": "auto",
         "type": "bar",
         "x": [
          "London",
          "Boise",
          "Graz",
          "Cunewalde",
          "Rio de Janeiro",
          "Sao Paulo",
          "México D.F.",
          "Albuquerque",
          "Cork",
          "Lule?",
          "München",
          "San Crist?bal",
          "Br?cke",
          "Marseille",
          "Seattle",
          "Frankfurt a.M.",
          "Charleroi",
          "Brandenburg",
          "Oulu",
          "I. de Margarita",
          "Tsawassen",
          "Barquisimeto",
          "Buenos Aires",
          "Montréal",
          "Toulouse",
          "?rhus",
          "Lisboa",
          "Genève",
          "K?ln",
          "Sevilla",
          "Stuttgart",
          "Strasbourg",
          "Lyon",
          "Anchorage",
          "Cowes",
          "Salzburg",
          "Reggio Emilia",
          "Bern",
          "Eugene",
          "Bergamo",
          "Portland",
          "Madrid",
          "Lander",
          "Campinas",
          "Resende",
          "Helsinki",
          "Bruxelles",
          "Warszawa",
          "Lille",
          "Stavern",
          "Nantes",
          "Kobenhavn",
          "Münster",
          "Mannheim",
          "Berlin",
          "Versailles",
          "Leipzig",
          "Reims",
          "Torino",
          "Aachen",
          "San Francisco",
          "Kirkland",
          "Elgin",
          "Butte",
          "Barcelona",
          "Vancouver",
          "Paris",
          "Caracas",
          "Walla Walla"
         ],
         "xaxis": "x",
         "y": {
          "bdata": "cHBmVFJSSEc3NDAtLSwoJycnJSMjIiIgHx8eHh0aGhoZGBcXFhYWFRUUFBMTEREQEBAPDw4ODAsLCgoKCgkJCAgIBgQC",
          "dtype": "i1"
         },
         "yaxis": "y"
        }
       ],
       "layout": {
        "barmode": "relative",
        "legend": {
         "title": {
          "text": "variable"
         },
         "tracegroupgap": 0
        },
        "template": {
         "data": {
          "bar": [
           {
            "error_x": {
             "color": "#2a3f5f"
            },
            "error_y": {
             "color": "#2a3f5f"
            },
            "marker": {
             "line": {
              "color": "#E5ECF6",
              "width": 0.5
             },
             "pattern": {
              "fillmode": "overlay",
              "size": 10,
              "solidity": 0.2
             }
            },
            "type": "bar"
           }
          ],
          "barpolar": [
           {
            "marker": {
             "line": {
              "color": "#E5ECF6",
              "width": 0.5
             },
             "pattern": {
              "fillmode": "overlay",
              "size": 10,
              "solidity": 0.2
             }
            },
            "type": "barpolar"
           }
          ],
          "carpet": [
           {
            "aaxis": {
             "endlinecolor": "#2a3f5f",
             "gridcolor": "white",
             "linecolor": "white",
             "minorgridcolor": "white",
             "startlinecolor": "#2a3f5f"
            },
            "baxis": {
             "endlinecolor": "#2a3f5f",
             "gridcolor": "white",
             "linecolor": "white",
             "minorgridcolor": "white",
             "startlinecolor": "#2a3f5f"
            },
            "type": "carpet"
           }
          ],
          "choropleth": [
           {
            "colorbar": {
             "outlinewidth": 0,
             "ticks": ""
            },
            "type": "choropleth"
           }
          ],
          "contour": [
           {
            "colorbar": {
             "outlinewidth": 0,
             "ticks": ""
            },
            "colorscale": [
             [
              0,
              "#0d0887"
             ],
             [
              0.1111111111111111,
              "#46039f"
             ],
             [
              0.2222222222222222,
              "#7201a8"
             ],
             [
              0.3333333333333333,
              "#9c179e"
             ],
             [
              0.4444444444444444,
              "#bd3786"
             ],
             [
              0.5555555555555556,
              "#d8576b"
             ],
             [
              0.6666666666666666,
              "#ed7953"
             ],
             [
              0.7777777777777778,
              "#fb9f3a"
             ],
             [
              0.8888888888888888,
              "#fdca26"
             ],
             [
              1,
              "#f0f921"
             ]
            ],
            "type": "contour"
           }
          ],
          "contourcarpet": [
           {
            "colorbar": {
             "outlinewidth": 0,
             "ticks": ""
            },
            "type": "contourcarpet"
           }
          ],
          "heatmap": [
           {
            "colorbar": {
             "outlinewidth": 0,
             "ticks": ""
            },
            "colorscale": [
             [
              0,
              "#0d0887"
             ],
             [
              0.1111111111111111,
              "#46039f"
             ],
             [
              0.2222222222222222,
              "#7201a8"
             ],
             [
              0.3333333333333333,
              "#9c179e"
             ],
             [
              0.4444444444444444,
              "#bd3786"
             ],
             [
              0.5555555555555556,
              "#d8576b"
             ],
             [
              0.6666666666666666,
              "#ed7953"
             ],
             [
              0.7777777777777778,
              "#fb9f3a"
             ],
             [
              0.8888888888888888,
              "#fdca26"
             ],
             [
              1,
              "#f0f921"
             ]
            ],
            "type": "heatmap"
           }
          ],
          "histogram": [
           {
            "marker": {
             "pattern": {
              "fillmode": "overlay",
              "size": 10,
              "solidity": 0.2
             }
            },
            "type": "histogram"
           }
          ],
          "histogram2d": [
           {
            "colorbar": {
             "outlinewidth": 0,
             "ticks": ""
            },
            "colorscale": [
             [
              0,
              "#0d0887"
             ],
             [
              0.1111111111111111,
              "#46039f"
             ],
             [
              0.2222222222222222,
              "#7201a8"
             ],
             [
              0.3333333333333333,
              "#9c179e"
             ],
             [
              0.4444444444444444,
              "#bd3786"
             ],
             [
              0.5555555555555556,
              "#d8576b"
             ],
             [
              0.6666666666666666,
              "#ed7953"
             ],
             [
              0.7777777777777778,
              "#fb9f3a"
             ],
             [
              0.8888888888888888,
              "#fdca26"
             ],
             [
              1,
              "#f0f921"
             ]
            ],
            "type": "histogram2d"
           }
          ],
          "histogram2dcontour": [
           {
            "colorbar": {
             "outlinewidth": 0,
             "ticks": ""
            },
            "colorscale": [
             [
              0,
              "#0d0887"
             ],
             [
              0.1111111111111111,
              "#46039f"
             ],
             [
              0.2222222222222222,
              "#7201a8"
             ],
             [
              0.3333333333333333,
              "#9c179e"
             ],
             [
              0.4444444444444444,
              "#bd3786"
             ],
             [
              0.5555555555555556,
              "#d8576b"
             ],
             [
              0.6666666666666666,
              "#ed7953"
             ],
             [
              0.7777777777777778,
              "#fb9f3a"
             ],
             [
              0.8888888888888888,
              "#fdca26"
             ],
             [
              1,
              "#f0f921"
             ]
            ],
            "type": "histogram2dcontour"
           }
          ],
          "mesh3d": [
           {
            "colorbar": {
             "outlinewidth": 0,
             "ticks": ""
            },
            "type": "mesh3d"
           }
          ],
          "parcoords": [
           {
            "line": {
             "colorbar": {
              "outlinewidth": 0,
              "ticks": ""
             }
            },
            "type": "parcoords"
           }
          ],
          "pie": [
           {
            "automargin": true,
            "type": "pie"
           }
          ],
          "scatter": [
           {
            "fillpattern": {
             "fillmode": "overlay",
             "size": 10,
             "solidity": 0.2
            },
            "type": "scatter"
           }
          ],
          "scatter3d": [
           {
            "line": {
             "colorbar": {
              "outlinewidth": 0,
              "ticks": ""
             }
            },
            "marker": {
             "colorbar": {
              "outlinewidth": 0,
              "ticks": ""
             }
            },
            "type": "scatter3d"
           }
          ],
          "scattercarpet": [
           {
            "marker": {
             "colorbar": {
              "outlinewidth": 0,
              "ticks": ""
             }
            },
            "type": "scattercarpet"
           }
          ],
          "scattergeo": [
           {
            "marker": {
             "colorbar": {
              "outlinewidth": 0,
              "ticks": ""
             }
            },
            "type": "scattergeo"
           }
          ],
          "scattergl": [
           {
            "marker": {
             "colorbar": {
              "outlinewidth": 0,
              "ticks": ""
             }
            },
            "type": "scattergl"
           }
          ],
          "scattermap": [
           {
            "marker": {
             "colorbar": {
              "outlinewidth": 0,
              "ticks": ""
             }
            },
            "type": "scattermap"
           }
          ],
          "scattermapbox": [
           {
            "marker": {
             "colorbar": {
              "outlinewidth": 0,
              "ticks": ""
             }
            },
            "type": "scattermapbox"
           }
          ],
          "scatterpolar": [
           {
            "marker": {
             "colorbar": {
              "outlinewidth": 0,
              "ticks": ""
             }
            },
            "type": "scatterpolar"
           }
          ],
          "scatterpolargl": [
           {
            "marker": {
             "colorbar": {
              "outlinewidth": 0,
              "ticks": ""
             }
            },
            "type": "scatterpolargl"
           }
          ],
          "scatterternary": [
           {
            "marker": {
             "colorbar": {
              "outlinewidth": 0,
              "ticks": ""
             }
            },
            "type": "scatterternary"
           }
          ],
          "surface": [
           {
            "colorbar": {
             "outlinewidth": 0,
             "ticks": ""
            },
            "colorscale": [
             [
              0,
              "#0d0887"
             ],
             [
              0.1111111111111111,
              "#46039f"
             ],
             [
              0.2222222222222222,
              "#7201a8"
             ],
             [
              0.3333333333333333,
              "#9c179e"
             ],
             [
              0.4444444444444444,
              "#bd3786"
             ],
             [
              0.5555555555555556,
              "#d8576b"
             ],
             [
              0.6666666666666666,
              "#ed7953"
             ],
             [
              0.7777777777777778,
              "#fb9f3a"
             ],
             [
              0.8888888888888888,
              "#fdca26"
             ],
             [
              1,
              "#f0f921"
             ]
            ],
            "type": "surface"
           }
          ],
          "table": [
           {
            "cells": {
             "fill": {
              "color": "#EBF0F8"
             },
             "line": {
              "color": "white"
             }
            },
            "header": {
             "fill": {
              "color": "#C8D4E3"
             },
             "line": {
              "color": "white"
             }
            },
            "type": "table"
           }
          ]
         },
         "layout": {
          "annotationdefaults": {
           "arrowcolor": "#2a3f5f",
           "arrowhead": 0,
           "arrowwidth": 1
          },
          "autotypenumbers": "strict",
          "coloraxis": {
           "colorbar": {
            "outlinewidth": 0,
            "ticks": ""
           }
          },
          "colorscale": {
           "diverging": [
            [
             0,
             "#8e0152"
            ],
            [
             0.1,
             "#c51b7d"
            ],
            [
             0.2,
             "#de77ae"
            ],
            [
             0.3,
             "#f1b6da"
            ],
            [
             0.4,
             "#fde0ef"
            ],
            [
             0.5,
             "#f7f7f7"
            ],
            [
             0.6,
             "#e6f5d0"
            ],
            [
             0.7,
             "#b8e186"
            ],
            [
             0.8,
             "#7fbc41"
            ],
            [
             0.9,
             "#4d9221"
            ],
            [
             1,
             "#276419"
            ]
           ],
           "sequential": [
            [
             0,
             "#0d0887"
            ],
            [
             0.1111111111111111,
             "#46039f"
            ],
            [
             0.2222222222222222,
             "#7201a8"
            ],
            [
             0.3333333333333333,
             "#9c179e"
            ],
            [
             0.4444444444444444,
             "#bd3786"
            ],
            [
             0.5555555555555556,
             "#d8576b"
            ],
            [
             0.6666666666666666,
             "#ed7953"
            ],
            [
             0.7777777777777778,
             "#fb9f3a"
            ],
            [
             0.8888888888888888,
             "#fdca26"
            ],
            [
             1,
             "#f0f921"
            ]
           ],
           "sequentialminus": [
            [
             0,
             "#0d0887"
            ],
            [
             0.1111111111111111,
             "#46039f"
            ],
            [
             0.2222222222222222,
             "#7201a8"
            ],
            [
             0.3333333333333333,
             "#9c179e"
            ],
            [
             0.4444444444444444,
             "#bd3786"
            ],
            [
             0.5555555555555556,
             "#d8576b"
            ],
            [
             0.6666666666666666,
             "#ed7953"
            ],
            [
             0.7777777777777778,
             "#fb9f3a"
            ],
            [
             0.8888888888888888,
             "#fdca26"
            ],
            [
             1,
             "#f0f921"
            ]
           ]
          },
          "colorway": [
           "#636efa",
           "#EF553B",
           "#00cc96",
           "#ab63fa",
           "#FFA15A",
           "#19d3f3",
           "#FF6692",
           "#B6E880",
           "#FF97FF",
           "#FECB52"
          ],
          "font": {
           "color": "#2a3f5f"
          },
          "geo": {
           "bgcolor": "white",
           "lakecolor": "white",
           "landcolor": "#E5ECF6",
           "showlakes": true,
           "showland": true,
           "subunitcolor": "white"
          },
          "hoverlabel": {
           "align": "left"
          },
          "hovermode": "closest",
          "mapbox": {
           "style": "light"
          },
          "paper_bgcolor": "white",
          "plot_bgcolor": "#E5ECF6",
          "polar": {
           "angularaxis": {
            "gridcolor": "white",
            "linecolor": "white",
            "ticks": ""
           },
           "bgcolor": "#E5ECF6",
           "radialaxis": {
            "gridcolor": "white",
            "linecolor": "white",
            "ticks": ""
           }
          },
          "scene": {
           "xaxis": {
            "backgroundcolor": "#E5ECF6",
            "gridcolor": "white",
            "gridwidth": 2,
            "linecolor": "white",
            "showbackground": true,
            "ticks": "",
            "zerolinecolor": "white"
           },
           "yaxis": {
            "backgroundcolor": "#E5ECF6",
            "gridcolor": "white",
            "gridwidth": 2,
            "linecolor": "white",
            "showbackground": true,
            "ticks": "",
            "zerolinecolor": "white"
           },
           "zaxis": {
            "backgroundcolor": "#E5ECF6",
            "gridcolor": "white",
            "gridwidth": 2,
            "linecolor": "white",
            "showbackground": true,
            "ticks": "",
            "zerolinecolor": "white"
           }
          },
          "shapedefaults": {
           "line": {
            "color": "#2a3f5f"
           }
          },
          "ternary": {
           "aaxis": {
            "gridcolor": "white",
            "linecolor": "white",
            "ticks": ""
           },
           "baxis": {
            "gridcolor": "white",
            "linecolor": "white",
            "ticks": ""
           },
           "bgcolor": "#E5ECF6",
           "caxis": {
            "gridcolor": "white",
            "linecolor": "white",
            "ticks": ""
           }
          },
          "title": {
           "x": 0.05
          },
          "xaxis": {
           "automargin": true,
           "gridcolor": "white",
           "linecolor": "white",
           "ticks": "",
           "title": {
            "standoff": 15
           },
           "zerolinecolor": "white",
           "zerolinewidth": 2
          },
          "yaxis": {
           "automargin": true,
           "gridcolor": "white",
           "linecolor": "white",
           "ticks": "",
           "title": {
            "standoff": 15
           },
           "zerolinecolor": "white",
           "zerolinewidth": 2
          }
         }
        },
        "title": {
         "text": "Number of Orders by City"
        },
        "xaxis": {
         "anchor": "y",
         "domain": [
          0,
          1
         ],
         "title": {
          "text": "City"
         }
        },
        "yaxis": {
         "anchor": "x",
         "domain": [
          0,
          1
         ],
         "title": {
          "text": "value"
         }
        }
       }
      }
     },
     "metadata": {},
     "output_type": "display_data"
    }
   ],
   "source": [
    "px.bar(data_frame=df['City'].value_counts(), title='Number of Orders by City')"
   ]
  },
  {
   "cell_type": "code",
   "execution_count": 19,
   "metadata": {},
   "outputs": [
    {
     "data": {
      "application/vnd.plotly.v1+json": {
       "config": {
        "plotlyServerURL": "https://plot.ly"
       },
       "data": [
        {
         "hovertemplate": "variable=count<br>Country=%{x}<br>value=%{y}<extra></extra>",
         "legendgroup": "count",
         "marker": {
          "color": "#636efa",
          "pattern": {
           "shape": ""
          }
         },
         "name": "count",
         "orientation": "v",
         "showlegend": true,
         "textposition": "auto",
         "type": "bar",
         "x": [
          "USA",
          "Germany",
          "Brazil",
          "France",
          "UK",
          "Austria",
          "Venezuela",
          "Sweden",
          "Canada",
          "Mexico",
          "Belgium",
          "Ireland",
          "Finland",
          "Spain",
          "Italy",
          "Switzerland",
          "Denmark",
          "Argentina",
          "Portugal",
          "Poland",
          "Norway"
         ],
         "xaxis": "x",
         "y": {
          "bdata": "XAFGAcoAuACHAH0AdgBhAEsASAA4ADcANgA2ADUANAAuACIAHgAQABAA",
          "dtype": "i2"
         },
         "yaxis": "y"
        }
       ],
       "layout": {
        "barmode": "relative",
        "legend": {
         "title": {
          "text": "variable"
         },
         "tracegroupgap": 0
        },
        "template": {
         "data": {
          "bar": [
           {
            "error_x": {
             "color": "#2a3f5f"
            },
            "error_y": {
             "color": "#2a3f5f"
            },
            "marker": {
             "line": {
              "color": "#E5ECF6",
              "width": 0.5
             },
             "pattern": {
              "fillmode": "overlay",
              "size": 10,
              "solidity": 0.2
             }
            },
            "type": "bar"
           }
          ],
          "barpolar": [
           {
            "marker": {
             "line": {
              "color": "#E5ECF6",
              "width": 0.5
             },
             "pattern": {
              "fillmode": "overlay",
              "size": 10,
              "solidity": 0.2
             }
            },
            "type": "barpolar"
           }
          ],
          "carpet": [
           {
            "aaxis": {
             "endlinecolor": "#2a3f5f",
             "gridcolor": "white",
             "linecolor": "white",
             "minorgridcolor": "white",
             "startlinecolor": "#2a3f5f"
            },
            "baxis": {
             "endlinecolor": "#2a3f5f",
             "gridcolor": "white",
             "linecolor": "white",
             "minorgridcolor": "white",
             "startlinecolor": "#2a3f5f"
            },
            "type": "carpet"
           }
          ],
          "choropleth": [
           {
            "colorbar": {
             "outlinewidth": 0,
             "ticks": ""
            },
            "type": "choropleth"
           }
          ],
          "contour": [
           {
            "colorbar": {
             "outlinewidth": 0,
             "ticks": ""
            },
            "colorscale": [
             [
              0,
              "#0d0887"
             ],
             [
              0.1111111111111111,
              "#46039f"
             ],
             [
              0.2222222222222222,
              "#7201a8"
             ],
             [
              0.3333333333333333,
              "#9c179e"
             ],
             [
              0.4444444444444444,
              "#bd3786"
             ],
             [
              0.5555555555555556,
              "#d8576b"
             ],
             [
              0.6666666666666666,
              "#ed7953"
             ],
             [
              0.7777777777777778,
              "#fb9f3a"
             ],
             [
              0.8888888888888888,
              "#fdca26"
             ],
             [
              1,
              "#f0f921"
             ]
            ],
            "type": "contour"
           }
          ],
          "contourcarpet": [
           {
            "colorbar": {
             "outlinewidth": 0,
             "ticks": ""
            },
            "type": "contourcarpet"
           }
          ],
          "heatmap": [
           {
            "colorbar": {
             "outlinewidth": 0,
             "ticks": ""
            },
            "colorscale": [
             [
              0,
              "#0d0887"
             ],
             [
              0.1111111111111111,
              "#46039f"
             ],
             [
              0.2222222222222222,
              "#7201a8"
             ],
             [
              0.3333333333333333,
              "#9c179e"
             ],
             [
              0.4444444444444444,
              "#bd3786"
             ],
             [
              0.5555555555555556,
              "#d8576b"
             ],
             [
              0.6666666666666666,
              "#ed7953"
             ],
             [
              0.7777777777777778,
              "#fb9f3a"
             ],
             [
              0.8888888888888888,
              "#fdca26"
             ],
             [
              1,
              "#f0f921"
             ]
            ],
            "type": "heatmap"
           }
          ],
          "histogram": [
           {
            "marker": {
             "pattern": {
              "fillmode": "overlay",
              "size": 10,
              "solidity": 0.2
             }
            },
            "type": "histogram"
           }
          ],
          "histogram2d": [
           {
            "colorbar": {
             "outlinewidth": 0,
             "ticks": ""
            },
            "colorscale": [
             [
              0,
              "#0d0887"
             ],
             [
              0.1111111111111111,
              "#46039f"
             ],
             [
              0.2222222222222222,
              "#7201a8"
             ],
             [
              0.3333333333333333,
              "#9c179e"
             ],
             [
              0.4444444444444444,
              "#bd3786"
             ],
             [
              0.5555555555555556,
              "#d8576b"
             ],
             [
              0.6666666666666666,
              "#ed7953"
             ],
             [
              0.7777777777777778,
              "#fb9f3a"
             ],
             [
              0.8888888888888888,
              "#fdca26"
             ],
             [
              1,
              "#f0f921"
             ]
            ],
            "type": "histogram2d"
           }
          ],
          "histogram2dcontour": [
           {
            "colorbar": {
             "outlinewidth": 0,
             "ticks": ""
            },
            "colorscale": [
             [
              0,
              "#0d0887"
             ],
             [
              0.1111111111111111,
              "#46039f"
             ],
             [
              0.2222222222222222,
              "#7201a8"
             ],
             [
              0.3333333333333333,
              "#9c179e"
             ],
             [
              0.4444444444444444,
              "#bd3786"
             ],
             [
              0.5555555555555556,
              "#d8576b"
             ],
             [
              0.6666666666666666,
              "#ed7953"
             ],
             [
              0.7777777777777778,
              "#fb9f3a"
             ],
             [
              0.8888888888888888,
              "#fdca26"
             ],
             [
              1,
              "#f0f921"
             ]
            ],
            "type": "histogram2dcontour"
           }
          ],
          "mesh3d": [
           {
            "colorbar": {
             "outlinewidth": 0,
             "ticks": ""
            },
            "type": "mesh3d"
           }
          ],
          "parcoords": [
           {
            "line": {
             "colorbar": {
              "outlinewidth": 0,
              "ticks": ""
             }
            },
            "type": "parcoords"
           }
          ],
          "pie": [
           {
            "automargin": true,
            "type": "pie"
           }
          ],
          "scatter": [
           {
            "fillpattern": {
             "fillmode": "overlay",
             "size": 10,
             "solidity": 0.2
            },
            "type": "scatter"
           }
          ],
          "scatter3d": [
           {
            "line": {
             "colorbar": {
              "outlinewidth": 0,
              "ticks": ""
             }
            },
            "marker": {
             "colorbar": {
              "outlinewidth": 0,
              "ticks": ""
             }
            },
            "type": "scatter3d"
           }
          ],
          "scattercarpet": [
           {
            "marker": {
             "colorbar": {
              "outlinewidth": 0,
              "ticks": ""
             }
            },
            "type": "scattercarpet"
           }
          ],
          "scattergeo": [
           {
            "marker": {
             "colorbar": {
              "outlinewidth": 0,
              "ticks": ""
             }
            },
            "type": "scattergeo"
           }
          ],
          "scattergl": [
           {
            "marker": {
             "colorbar": {
              "outlinewidth": 0,
              "ticks": ""
             }
            },
            "type": "scattergl"
           }
          ],
          "scattermap": [
           {
            "marker": {
             "colorbar": {
              "outlinewidth": 0,
              "ticks": ""
             }
            },
            "type": "scattermap"
           }
          ],
          "scattermapbox": [
           {
            "marker": {
             "colorbar": {
              "outlinewidth": 0,
              "ticks": ""
             }
            },
            "type": "scattermapbox"
           }
          ],
          "scatterpolar": [
           {
            "marker": {
             "colorbar": {
              "outlinewidth": 0,
              "ticks": ""
             }
            },
            "type": "scatterpolar"
           }
          ],
          "scatterpolargl": [
           {
            "marker": {
             "colorbar": {
              "outlinewidth": 0,
              "ticks": ""
             }
            },
            "type": "scatterpolargl"
           }
          ],
          "scatterternary": [
           {
            "marker": {
             "colorbar": {
              "outlinewidth": 0,
              "ticks": ""
             }
            },
            "type": "scatterternary"
           }
          ],
          "surface": [
           {
            "colorbar": {
             "outlinewidth": 0,
             "ticks": ""
            },
            "colorscale": [
             [
              0,
              "#0d0887"
             ],
             [
              0.1111111111111111,
              "#46039f"
             ],
             [
              0.2222222222222222,
              "#7201a8"
             ],
             [
              0.3333333333333333,
              "#9c179e"
             ],
             [
              0.4444444444444444,
              "#bd3786"
             ],
             [
              0.5555555555555556,
              "#d8576b"
             ],
             [
              0.6666666666666666,
              "#ed7953"
             ],
             [
              0.7777777777777778,
              "#fb9f3a"
             ],
             [
              0.8888888888888888,
              "#fdca26"
             ],
             [
              1,
              "#f0f921"
             ]
            ],
            "type": "surface"
           }
          ],
          "table": [
           {
            "cells": {
             "fill": {
              "color": "#EBF0F8"
             },
             "line": {
              "color": "white"
             }
            },
            "header": {
             "fill": {
              "color": "#C8D4E3"
             },
             "line": {
              "color": "white"
             }
            },
            "type": "table"
           }
          ]
         },
         "layout": {
          "annotationdefaults": {
           "arrowcolor": "#2a3f5f",
           "arrowhead": 0,
           "arrowwidth": 1
          },
          "autotypenumbers": "strict",
          "coloraxis": {
           "colorbar": {
            "outlinewidth": 0,
            "ticks": ""
           }
          },
          "colorscale": {
           "diverging": [
            [
             0,
             "#8e0152"
            ],
            [
             0.1,
             "#c51b7d"
            ],
            [
             0.2,
             "#de77ae"
            ],
            [
             0.3,
             "#f1b6da"
            ],
            [
             0.4,
             "#fde0ef"
            ],
            [
             0.5,
             "#f7f7f7"
            ],
            [
             0.6,
             "#e6f5d0"
            ],
            [
             0.7,
             "#b8e186"
            ],
            [
             0.8,
             "#7fbc41"
            ],
            [
             0.9,
             "#4d9221"
            ],
            [
             1,
             "#276419"
            ]
           ],
           "sequential": [
            [
             0,
             "#0d0887"
            ],
            [
             0.1111111111111111,
             "#46039f"
            ],
            [
             0.2222222222222222,
             "#7201a8"
            ],
            [
             0.3333333333333333,
             "#9c179e"
            ],
            [
             0.4444444444444444,
             "#bd3786"
            ],
            [
             0.5555555555555556,
             "#d8576b"
            ],
            [
             0.6666666666666666,
             "#ed7953"
            ],
            [
             0.7777777777777778,
             "#fb9f3a"
            ],
            [
             0.8888888888888888,
             "#fdca26"
            ],
            [
             1,
             "#f0f921"
            ]
           ],
           "sequentialminus": [
            [
             0,
             "#0d0887"
            ],
            [
             0.1111111111111111,
             "#46039f"
            ],
            [
             0.2222222222222222,
             "#7201a8"
            ],
            [
             0.3333333333333333,
             "#9c179e"
            ],
            [
             0.4444444444444444,
             "#bd3786"
            ],
            [
             0.5555555555555556,
             "#d8576b"
            ],
            [
             0.6666666666666666,
             "#ed7953"
            ],
            [
             0.7777777777777778,
             "#fb9f3a"
            ],
            [
             0.8888888888888888,
             "#fdca26"
            ],
            [
             1,
             "#f0f921"
            ]
           ]
          },
          "colorway": [
           "#636efa",
           "#EF553B",
           "#00cc96",
           "#ab63fa",
           "#FFA15A",
           "#19d3f3",
           "#FF6692",
           "#B6E880",
           "#FF97FF",
           "#FECB52"
          ],
          "font": {
           "color": "#2a3f5f"
          },
          "geo": {
           "bgcolor": "white",
           "lakecolor": "white",
           "landcolor": "#E5ECF6",
           "showlakes": true,
           "showland": true,
           "subunitcolor": "white"
          },
          "hoverlabel": {
           "align": "left"
          },
          "hovermode": "closest",
          "mapbox": {
           "style": "light"
          },
          "paper_bgcolor": "white",
          "plot_bgcolor": "#E5ECF6",
          "polar": {
           "angularaxis": {
            "gridcolor": "white",
            "linecolor": "white",
            "ticks": ""
           },
           "bgcolor": "#E5ECF6",
           "radialaxis": {
            "gridcolor": "white",
            "linecolor": "white",
            "ticks": ""
           }
          },
          "scene": {
           "xaxis": {
            "backgroundcolor": "#E5ECF6",
            "gridcolor": "white",
            "gridwidth": 2,
            "linecolor": "white",
            "showbackground": true,
            "ticks": "",
            "zerolinecolor": "white"
           },
           "yaxis": {
            "backgroundcolor": "#E5ECF6",
            "gridcolor": "white",
            "gridwidth": 2,
            "linecolor": "white",
            "showbackground": true,
            "ticks": "",
            "zerolinecolor": "white"
           },
           "zaxis": {
            "backgroundcolor": "#E5ECF6",
            "gridcolor": "white",
            "gridwidth": 2,
            "linecolor": "white",
            "showbackground": true,
            "ticks": "",
            "zerolinecolor": "white"
           }
          },
          "shapedefaults": {
           "line": {
            "color": "#2a3f5f"
           }
          },
          "ternary": {
           "aaxis": {
            "gridcolor": "white",
            "linecolor": "white",
            "ticks": ""
           },
           "baxis": {
            "gridcolor": "white",
            "linecolor": "white",
            "ticks": ""
           },
           "bgcolor": "#E5ECF6",
           "caxis": {
            "gridcolor": "white",
            "linecolor": "white",
            "ticks": ""
           }
          },
          "title": {
           "x": 0.05
          },
          "xaxis": {
           "automargin": true,
           "gridcolor": "white",
           "linecolor": "white",
           "ticks": "",
           "title": {
            "standoff": 15
           },
           "zerolinecolor": "white",
           "zerolinewidth": 2
          },
          "yaxis": {
           "automargin": true,
           "gridcolor": "white",
           "linecolor": "white",
           "ticks": "",
           "title": {
            "standoff": 15
           },
           "zerolinecolor": "white",
           "zerolinewidth": 2
          }
         }
        },
        "title": {
         "text": "Number of Orders by Country"
        },
        "xaxis": {
         "anchor": "y",
         "domain": [
          0,
          1
         ],
         "title": {
          "text": "Country"
         }
        },
        "yaxis": {
         "anchor": "x",
         "domain": [
          0,
          1
         ],
         "title": {
          "text": "value"
         }
        }
       }
      }
     },
     "metadata": {},
     "output_type": "display_data"
    }
   ],
   "source": [
    "# Plot the number of orders by country\n",
    "px.bar(data_frame=df['Country'].value_counts(), title='Number of Orders by Country')\n",
    "\n",
    "# Conclusion: This chart provides insights into the countries with the highest order volumes."
   ]
  },
  {
   "cell_type": "code",
   "execution_count": 20,
   "metadata": {},
   "outputs": [
    {
     "data": {
      "application/vnd.plotly.v1+json": {
       "config": {
        "plotlyServerURL": "https://plot.ly"
       },
       "data": [
        {
         "domain": {
          "x": [
           0,
           1
          ],
          "y": [
           0,
           1
          ]
         },
         "hovertemplate": "Country=%{label}<extra></extra>",
         "labels": [
          "France",
          "France",
          "France",
          "Germany",
          "Germany",
          "Brazil",
          "Brazil",
          "Brazil",
          "France",
          "France",
          "France",
          "Belgium",
          "Belgium",
          "Belgium",
          "Brazil",
          "Brazil",
          "Brazil",
          "Switzerland",
          "Switzerland",
          "Switzerland",
          "Switzerland",
          "Switzerland",
          "Switzerland",
          "Switzerland",
          "Brazil",
          "Brazil",
          "Venezuela",
          "Venezuela",
          "Venezuela",
          "Austria",
          "Austria",
          "Austria",
          "Mexico",
          "Mexico",
          "Germany",
          "Germany",
          "Germany",
          "Germany",
          "Brazil",
          "Brazil",
          "USA",
          "USA",
          "USA",
          "Austria",
          "Austria",
          "Austria",
          "Austria",
          "Sweden",
          "Sweden",
          "France",
          "France",
          "Finland",
          "Germany",
          "Germany",
          "Germany",
          "Venezuela",
          "Venezuela",
          "USA",
          "USA",
          "Finland",
          "Finland",
          "USA",
          "USA",
          "USA",
          "USA",
          "Germany",
          "Germany",
          "Germany",
          "Germany",
          "Germany",
          "France",
          "France",
          "Italy",
          "Italy",
          "Mexico",
          "Mexico",
          "Germany",
          "Germany",
          "Sweden",
          "Sweden",
          "Sweden",
          "Sweden",
          "Germany",
          "Sweden",
          "Sweden",
          "Sweden",
          "Spain",
          "Spain",
          "Spain",
          "Spain",
          "Spain",
          "Venezuela",
          "Venezuela",
          "Venezuela",
          "Venezuela",
          "Germany",
          "Germany",
          "Germany",
          "Germany",
          "Germany",
          "Germany",
          "Germany",
          "Germany",
          "Germany",
          "Brazil",
          "Brazil",
          "Brazil",
          "Italy",
          "Italy",
          "UK",
          "UK",
          "Brazil",
          "Brazil",
          "Brazil",
          "Brazil",
          "Brazil",
          "Brazil",
          "Brazil",
          "Brazil",
          "Mexico",
          "Mexico",
          "Mexico",
          "Mexico",
          "USA",
          "USA",
          "USA",
          "USA",
          "USA",
          "France",
          "Venezuela",
          "Venezuela",
          "Venezuela",
          "France",
          "France",
          "Ireland",
          "Ireland",
          "Ireland",
          "Ireland",
          "Brazil",
          "Brazil",
          "Italy",
          "Italy",
          "Germany",
          "Germany",
          "Belgium",
          "Belgium",
          "Belgium",
          "Spain",
          "Spain",
          "Spain",
          "Mexico",
          "Mexico",
          "Mexico",
          "USA",
          "USA",
          "USA",
          "Spain",
          "Spain",
          "Spain",
          "USA",
          "USA",
          "Mexico",
          "Mexico",
          "Ireland",
          "Ireland",
          "Ireland",
          "Ireland",
          "Ireland",
          "USA",
          "USA",
          "France",
          "France",
          "Germany",
          "Germany",
          "Germany",
          "Germany",
          "Germany",
          "USA",
          "USA",
          "USA",
          "UK",
          "UK",
          "USA",
          "USA",
          "USA",
          "UK",
          "UK",
          "Mexico",
          "Mexico",
          "Mexico",
          "Finland",
          "UK",
          "Mexico",
          "Germany",
          "Germany",
          "Germany",
          "USA",
          "USA",
          "USA",
          "USA",
          "USA",
          "Germany",
          "Germany",
          "Germany",
          "Germany",
          "Germany",
          "Spain",
          "Spain",
          "Spain",
          "Sweden",
          "Sweden",
          "Sweden",
          "Sweden",
          "Portugal",
          "Portugal",
          "Portugal",
          "USA",
          "USA",
          "USA",
          "USA",
          "Venezuela",
          "Venezuela",
          "France",
          "Canada",
          "Canada",
          "Canada",
          "Finland",
          "Finland",
          "Finland",
          "France",
          "France",
          "Ireland",
          "Ireland",
          "Ireland",
          "Ireland",
          "Portugal",
          "Germany",
          "Germany",
          "Germany",
          "Germany",
          "Germany",
          "USA",
          "USA",
          "Canada",
          "Canada",
          "Canada",
          "France",
          "France",
          "France",
          "Denmark",
          "Denmark",
          "Germany",
          "Germany",
          "Germany",
          "Germany",
          "Germany",
          "Germany",
          "Germany",
          "USA",
          "USA",
          "Germany",
          "Germany",
          "Germany",
          "USA",
          "USA",
          "Brazil",
          "Brazil",
          "Brazil",
          "Brazil",
          "Germany",
          "Germany",
          "USA",
          "France",
          "France",
          "Austria",
          "Austria",
          "Austria",
          "Austria",
          "Portugal",
          "Portugal",
          "Austria",
          "Austria",
          "Mexico",
          "Mexico",
          "UK",
          "UK",
          "Germany",
          "Germany",
          "Germany",
          "Venezuela",
          "Venezuela",
          "Venezuela",
          "France",
          "France",
          "France",
          "UK",
          "UK",
          "UK",
          "France",
          "France",
          "France",
          "France",
          "France",
          "Germany",
          "Germany",
          "France",
          "France",
          "France",
          "Germany",
          "Germany",
          "Germany",
          "UK",
          "UK",
          "Mexico",
          "Spain",
          "Spain",
          "Denmark",
          "Denmark",
          "Denmark",
          "Denmark",
          "Austria",
          "Austria",
          "Austria",
          "Austria",
          "USA",
          "USA",
          "Switzerland",
          "Switzerland",
          "Switzerland",
          "France",
          "Brazil",
          "Brazil",
          "Brazil",
          "Brazil",
          "Ireland",
          "Ireland",
          "Poland",
          "Poland",
          "USA",
          "USA",
          "Canada",
          "UK",
          "UK",
          "Sweden",
          "Brazil",
          "Brazil",
          "Brazil",
          "Ireland",
          "Ireland",
          "Ireland",
          "Ireland",
          "Venezuela",
          "Austria",
          "Austria",
          "Austria",
          "Austria",
          "Austria",
          "UK",
          "UK",
          "UK",
          "Sweden",
          "Sweden",
          "USA",
          "USA",
          "USA",
          "Brazil",
          "Brazil",
          "Norway",
          "Norway",
          "Norway",
          "Norway",
          "UK",
          "UK",
          "UK",
          "Canada",
          "Canada",
          "Canada",
          "Canada",
          "Austria",
          "Austria",
          "Austria",
          "Austria",
          "Germany",
          "Austria",
          "USA",
          "USA",
          "USA",
          "USA",
          "USA",
          "USA",
          "USA",
          "Venezuela",
          "Venezuela",
          "Venezuela",
          "Germany",
          "Germany",
          "Germany",
          "Portugal",
          "Portugal",
          "USA",
          "USA",
          "Denmark",
          "Denmark",
          "Denmark",
          "Denmark",
          "UK",
          "UK",
          "UK",
          "USA",
          "USA",
          "USA",
          "USA",
          "Austria",
          "Austria",
          "Austria",
          "Austria",
          "Italy",
          "Italy",
          "Italy",
          "Venezuela",
          "Brazil",
          "Brazil",
          "Brazil",
          "Brazil",
          "Brazil",
          "Germany",
          "Germany",
          "Germany",
          "France",
          "France",
          "France",
          "Argentina",
          "Argentina",
          "Canada",
          "Canada",
          "Canada",
          "Canada",
          "Canada",
          "Finland",
          "France",
          "France",
          "France",
          "Brazil",
          "Brazil",
          "USA",
          "USA",
          "Finland",
          "Finland",
          "Finland",
          "Denmark",
          "Denmark",
          "Denmark",
          "Denmark",
          "Germany",
          "Germany",
          "Germany",
          "Germany",
          "Switzerland",
          "Switzerland",
          "Brazil",
          "Brazil",
          "Brazil",
          "Brazil",
          "Brazil",
          "Brazil",
          "Brazil",
          "Brazil",
          "Italy",
          "Brazil",
          "Brazil",
          "Canada",
          "Canada",
          "Canada",
          "France",
          "France",
          "Spain",
          "Spain",
          "Austria",
          "Italy",
          "Ireland",
          "Ireland",
          "Austria",
          "Austria",
          "Austria",
          "Austria",
          "Canada",
          "Canada",
          "Canada",
          "USA",
          "USA",
          "Portugal",
          "Sweden",
          "Sweden",
          "UK",
          "UK",
          "UK",
          "France",
          "France",
          "France",
          "France",
          "Finland",
          "Germany",
          "Germany",
          "Germany",
          "Canada",
          "Canada",
          "Canada",
          "Canada",
          "USA",
          "USA",
          "USA",
          "USA",
          "USA",
          "Austria",
          "Austria",
          "Austria",
          "Italy",
          "Italy",
          "Sweden",
          "Sweden",
          "Sweden",
          "Sweden",
          "Sweden",
          "Sweden",
          "Germany",
          "Germany",
          "Germany",
          "Germany",
          "Brazil",
          "Brazil",
          "Brazil",
          "Argentina",
          "Argentina",
          "France",
          "France",
          "France",
          "France",
          "France",
          "Germany",
          "Germany",
          "Germany",
          "Germany",
          "USA",
          "USA",
          "UK",
          "UK",
          "France",
          "France",
          "France",
          "Finland",
          "Finland",
          "Finland",
          "Finland",
          "Germany",
          "Germany",
          "Germany",
          "Belgium",
          "Belgium",
          "Belgium",
          "Belgium",
          "Belgium",
          "France",
          "France",
          "France",
          "Sweden",
          "Sweden",
          "Venezuela",
          "Venezuela",
          "Venezuela",
          "UK",
          "UK",
          "Belgium",
          "Belgium",
          "Portugal",
          "Portugal",
          "Portugal",
          "Portugal",
          "Denmark",
          "Denmark",
          "Denmark",
          "Denmark",
          "Denmark",
          "Brazil",
          "Brazil",
          "Italy",
          "Italy",
          "Germany",
          "Germany",
          "USA",
          "USA",
          "USA",
          "France",
          "France",
          "France",
          "UK",
          "UK",
          "UK",
          "UK",
          "UK",
          "UK",
          "Mexico",
          "Mexico",
          "Mexico",
          "Mexico",
          "Belgium",
          "Belgium",
          "Belgium",
          "Venezuela",
          "Venezuela",
          "Portugal",
          "Portugal",
          "Portugal",
          "France",
          "USA",
          "USA",
          "USA",
          "USA",
          "France",
          "France",
          "Brazil",
          "Brazil",
          "USA",
          "USA",
          "USA",
          "UK",
          "UK",
          "UK",
          "Venezuela",
          "Venezuela",
          "Venezuela",
          "Venezuela",
          "Venezuela",
          "Venezuela",
          "Venezuela",
          "Brazil",
          "Brazil",
          "Brazil",
          "Germany",
          "Germany",
          "Austria",
          "Austria",
          "Venezuela",
          "Venezuela",
          "Venezuela",
          "Portugal",
          "Portugal",
          "Canada",
          "Canada",
          "France",
          "France",
          "France",
          "Brazil",
          "Canada",
          "Canada",
          "Canada",
          "Brazil",
          "Germany",
          "Germany",
          "Germany",
          "Venezuela",
          "Venezuela",
          "Venezuela",
          "Venezuela",
          "Venezuela",
          "France",
          "France",
          "Germany",
          "Mexico",
          "Mexico",
          "Mexico",
          "Ireland",
          "Ireland",
          "USA",
          "USA",
          "USA",
          "USA",
          "Canada",
          "Germany",
          "Germany",
          "Mexico",
          "Mexico",
          "Germany",
          "Germany",
          "Germany",
          "USA",
          "USA",
          "France",
          "France",
          "France",
          "Brazil",
          "Brazil",
          "Brazil",
          "Brazil",
          "Germany",
          "Germany",
          "Germany",
          "Austria",
          "Austria",
          "Austria",
          "Austria",
          "Austria",
          "Germany",
          "Germany",
          "Germany",
          "Germany",
          "Germany",
          "Ireland",
          "Ireland",
          "Ireland",
          "UK",
          "UK",
          "UK",
          "Mexico",
          "Mexico",
          "Mexico",
          "Switzerland",
          "Switzerland",
          "Switzerland",
          "Norway",
          "Norway",
          "Argentina",
          "Argentina",
          "Argentina",
          "Germany",
          "Germany",
          "Germany",
          "Germany",
          "UK",
          "UK",
          "UK",
          "UK",
          "Sweden",
          "Sweden",
          "Sweden",
          "Sweden",
          "France",
          "France",
          "Finland",
          "Finland",
          "Finland",
          "Germany",
          "Germany",
          "USA",
          "USA",
          "USA",
          "Belgium",
          "Belgium",
          "Belgium",
          "Austria",
          "Austria",
          "Austria",
          "Austria",
          "Argentina",
          "UK",
          "UK",
          "Sweden",
          "Sweden",
          "Sweden",
          "Germany",
          "Germany",
          "Germany",
          "Mexico",
          "Mexico",
          "Mexico",
          "Mexico",
          "Germany",
          "Germany",
          "Germany",
          "Germany",
          "Switzerland",
          "Switzerland",
          "Switzerland",
          "Switzerland",
          "Switzerland",
          "UK",
          "UK",
          "UK",
          "UK",
          "UK",
          "UK",
          "Germany",
          "Germany",
          "Germany",
          "Germany",
          "Brazil",
          "Brazil",
          "Brazil",
          "Brazil",
          "Germany",
          "Germany",
          "Venezuela",
          "Venezuela",
          "USA",
          "USA",
          "USA",
          "France",
          "France",
          "France",
          "UK",
          "UK",
          "Germany",
          "Germany",
          "Germany",
          "Germany",
          "Germany",
          "Spain",
          "Spain",
          "Spain",
          "Spain",
          "Portugal",
          "Portugal",
          "Portugal",
          "Venezuela",
          "Venezuela",
          "Finland",
          "Finland",
          "Finland",
          "Finland",
          "Finland",
          "Germany",
          "Germany",
          "Germany",
          "Germany",
          "USA",
          "USA",
          "USA",
          "USA",
          "USA",
          "Denmark",
          "Germany",
          "Germany",
          "UK",
          "UK",
          "UK",
          "UK",
          "UK",
          "France",
          "France",
          "Germany",
          "Germany",
          "Sweden",
          "Sweden",
          "Italy",
          "Italy",
          "Brazil",
          "Brazil",
          "USA",
          "USA",
          "USA",
          "Canada",
          "Canada",
          "France",
          "France",
          "France",
          "Ireland",
          "Ireland",
          "Ireland",
          "Spain",
          "USA",
          "USA",
          "Canada",
          "Canada",
          "Austria",
          "Austria",
          "Sweden",
          "Sweden",
          "Sweden",
          "Sweden",
          "Mexico",
          "Mexico",
          "Mexico",
          "USA",
          "USA",
          "USA",
          "USA",
          "Germany",
          "Germany",
          "Germany",
          "Germany",
          "Mexico",
          "Mexico",
          "Mexico",
          "USA",
          "USA",
          "USA",
          "UK",
          "UK",
          "USA",
          "USA",
          "Germany",
          "Germany",
          "Germany",
          "Brazil",
          "Germany",
          "Germany",
          "Finland",
          "Finland",
          "Finland",
          "France",
          "Brazil",
          "Italy",
          "Brazil",
          "Brazil",
          "Brazil",
          "Germany",
          "Germany",
          "USA",
          "Canada",
          "Canada",
          "Denmark",
          "Denmark",
          "Denmark",
          "Germany",
          "Germany",
          "Germany",
          "Germany",
          "Germany",
          "USA",
          "USA",
          "Austria",
          "Austria",
          "Austria",
          "USA",
          "USA",
          "USA",
          "Austria",
          "Austria",
          "Austria",
          "USA",
          "USA",
          "UK",
          "USA",
          "USA",
          "Venezuela",
          "Venezuela",
          "Denmark",
          "USA",
          "USA",
          "Portugal",
          "Portugal",
          "Canada",
          "Canada",
          "Canada",
          "Canada",
          "Brazil",
          "Brazil",
          "Brazil",
          "USA",
          "USA",
          "USA",
          "USA",
          "USA",
          "Germany",
          "France",
          "France",
          "France",
          "France",
          "Poland",
          "Poland",
          "Poland",
          "USA",
          "USA",
          "USA",
          "USA",
          "USA",
          "Venezuela",
          "Venezuela",
          "Germany",
          "Germany",
          "Germany",
          "Finland",
          "USA",
          "USA",
          "USA",
          "USA",
          "USA",
          "Canada",
          "Canada",
          "Canada",
          "Canada",
          "Canada",
          "Canada",
          "Canada",
          "UK",
          "UK",
          "UK",
          "UK",
          "Brazil",
          "Brazil",
          "Germany",
          "Germany",
          "Germany",
          "Germany",
          "Germany",
          "USA",
          "USA",
          "USA",
          "Mexico",
          "Mexico",
          "Mexico",
          "Sweden",
          "Sweden",
          "Sweden",
          "USA",
          "USA",
          "France",
          "Spain",
          "Spain",
          "Germany",
          "Germany",
          "France",
          "Germany",
          "Germany",
          "Austria",
          "Austria",
          "Austria",
          "Austria",
          "France",
          "France",
          "France",
          "France",
          "Italy",
          "Italy",
          "Italy",
          "Finland",
          "Finland",
          "Brazil",
          "Brazil",
          "Brazil",
          "Venezuela",
          "Venezuela",
          "Venezuela",
          "Norway",
          "Germany",
          "Germany",
          "Venezuela",
          "Venezuela",
          "Denmark",
          "Denmark",
          "Germany",
          "Germany",
          "Germany",
          "Brazil",
          "Brazil",
          "Brazil",
          "Brazil",
          "Brazil",
          "Ireland",
          "Ireland",
          "Ireland",
          "Ireland",
          "Brazil",
          "Brazil",
          "Brazil",
          "Brazil",
          "Belgium",
          "Belgium",
          "Brazil",
          "Brazil",
          "Brazil",
          "Germany",
          "Germany",
          "Brazil",
          "Brazil",
          "Germany",
          "Germany",
          "Sweden",
          "Sweden",
          "Sweden",
          "Italy",
          "USA",
          "USA",
          "USA",
          "USA",
          "USA",
          "USA",
          "USA",
          "USA",
          "USA",
          "Germany",
          "Germany",
          "Germany",
          "Germany",
          "Brazil",
          "Brazil",
          "Brazil",
          "USA",
          "Ireland",
          "Ireland",
          "USA",
          "France",
          "France",
          "France",
          "Portugal",
          "Portugal",
          "Portugal",
          "USA",
          "USA",
          "USA",
          "Switzerland",
          "Switzerland",
          "Austria",
          "Austria",
          "Germany",
          "Germany",
          "Germany",
          "Denmark",
          "Germany",
          "Germany",
          "Germany",
          "Germany",
          "Germany",
          "France",
          "France",
          "France",
          "Sweden",
          "Sweden",
          "Finland",
          "Finland",
          "Finland",
          "UK",
          "Germany",
          "Germany",
          "Germany",
          "Mexico",
          "Mexico",
          "Mexico",
          "Mexico",
          "Mexico",
          "USA",
          "USA",
          "USA",
          "USA",
          "France",
          "USA",
          "USA",
          "USA",
          "USA",
          "USA",
          "USA",
          "Mexico",
          "Mexico",
          "Mexico",
          "France",
          "Germany",
          "Germany",
          "Germany",
          "Brazil",
          "Brazil",
          "Brazil",
          "Austria",
          "Austria",
          "Ireland",
          "Ireland",
          "Ireland",
          "Denmark",
          "Denmark",
          "Denmark",
          "Sweden",
          "Brazil",
          "Brazil",
          "Germany",
          "Germany",
          "Germany",
          "Germany",
          "Germany",
          "Germany",
          "USA",
          "USA",
          "USA",
          "USA",
          "Germany",
          "Germany",
          "Germany",
          "Finland",
          "Finland",
          "Finland",
          "USA",
          "USA",
          "Venezuela",
          "Venezuela",
          "Venezuela",
          "Venezuela",
          "Austria",
          "Austria",
          "Austria",
          "Austria",
          "Austria",
          "Germany",
          "USA",
          "USA",
          "USA",
          "USA",
          "Ireland",
          "Ireland",
          "Ireland",
          "Germany",
          "Germany",
          "Sweden",
          "Sweden",
          "Sweden",
          "Brazil",
          "Brazil",
          "Brazil",
          "Venezuela",
          "Venezuela",
          "USA",
          "USA",
          "USA",
          "UK",
          "UK",
          "UK",
          "USA",
          "USA",
          "Brazil",
          "Brazil",
          "Brazil",
          "Italy",
          "Italy",
          "USA",
          "USA",
          "USA",
          "Ireland",
          "Ireland",
          "USA",
          "USA",
          "USA",
          "USA",
          "USA",
          "USA",
          "USA",
          "USA",
          "USA",
          "France",
          "France",
          "Argentina",
          "Argentina",
          "Argentina",
          "Germany",
          "Germany",
          "Germany",
          "Germany",
          "Germany",
          "Germany",
          "Germany",
          "USA",
          "USA",
          "USA",
          "Brazil",
          "Brazil",
          "Germany",
          "USA",
          "USA",
          "USA",
          "USA",
          "USA",
          "Canada",
          "Canada",
          "Brazil",
          "Brazil",
          "Brazil",
          "UK",
          "UK",
          "Italy",
          "Italy",
          "Italy",
          "Brazil",
          "Brazil",
          "Brazil",
          "Brazil",
          "Venezuela",
          "Venezuela",
          "Venezuela",
          "France",
          "France",
          "France",
          "Switzerland",
          "Switzerland",
          "France",
          "Sweden",
          "Sweden",
          "Sweden",
          "Brazil",
          "Brazil",
          "Brazil",
          "USA",
          "USA",
          "Ireland",
          "Ireland",
          "France",
          "France",
          "France",
          "France",
          "France",
          "USA",
          "USA",
          "USA",
          "USA",
          "UK",
          "Canada",
          "Canada",
          "Canada",
          "UK",
          "Denmark",
          "Germany",
          "Germany",
          "Germany",
          "Germany",
          "Switzerland",
          "Switzerland",
          "Switzerland",
          "Switzerland",
          "Austria",
          "Austria",
          "Austria",
          "Austria",
          "USA",
          "USA",
          "USA",
          "UK",
          "UK",
          "UK",
          "Finland",
          "Finland",
          "Finland",
          "Switzerland",
          "Switzerland",
          "Switzerland",
          "Switzerland",
          "UK",
          "UK",
          "Italy",
          "Italy",
          "Italy",
          "France",
          "France",
          "France",
          "France",
          "USA",
          "USA",
          "USA",
          "USA",
          "USA",
          "USA",
          "USA",
          "USA",
          "Switzerland",
          "Switzerland",
          "Switzerland",
          "Mexico",
          "Belgium",
          "Belgium",
          "Belgium",
          "USA",
          "USA",
          "Sweden",
          "Sweden",
          "Sweden",
          "Sweden",
          "France",
          "France",
          "France",
          "Austria",
          "Austria",
          "Germany",
          "Germany",
          "Germany",
          "Germany",
          "Belgium",
          "UK",
          "UK",
          "UK",
          "UK",
          "Denmark",
          "Denmark",
          "Denmark",
          "Denmark",
          "Brazil",
          "Austria",
          "Germany",
          "Germany",
          "Austria",
          "Austria",
          "Austria",
          "Sweden",
          "Sweden",
          "USA",
          "USA",
          "Austria",
          "Austria",
          "Austria",
          "Austria",
          "Brazil",
          "Sweden",
          "Germany",
          "Germany",
          "Venezuela",
          "Venezuela",
          "Finland",
          "Finland",
          "Finland",
          "Argentina",
          "Brazil",
          "Brazil",
          "Italy",
          "Italy",
          "Italy",
          "Venezuela",
          "Venezuela",
          "Brazil",
          "Brazil",
          "Brazil",
          "France",
          "France",
          "Germany",
          "Germany",
          "France",
          "France",
          "France",
          "France",
          "Brazil",
          "Brazil",
          "Germany",
          "Germany",
          "Poland",
          "Poland",
          "Poland",
          "UK",
          "UK",
          "Brazil",
          "Brazil",
          "Austria",
          "Austria",
          "Venezuela",
          "Venezuela",
          "Venezuela",
          "Venezuela",
          "Germany",
          "UK",
          "UK",
          "Germany",
          "Germany",
          "Germany",
          "UK",
          "UK",
          "UK",
          "Spain",
          "Spain",
          "Denmark",
          "Denmark",
          "Denmark",
          "Denmark",
          "Brazil",
          "Brazil",
          "Brazil",
          "UK",
          "UK",
          "UK",
          "USA",
          "USA",
          "France",
          "France",
          "France",
          "Italy",
          "USA",
          "USA",
          "Brazil",
          "Canada",
          "Canada",
          "Canada",
          "Venezuela",
          "Venezuela",
          "Venezuela",
          "Italy",
          "Italy",
          "Italy",
          "Brazil",
          "Brazil",
          "France",
          "France",
          "France",
          "France",
          "USA",
          "USA",
          "USA",
          "Germany",
          "Germany",
          "Germany",
          "Germany",
          "Italy",
          "Italy",
          "Argentina",
          "Argentina",
          "USA",
          "USA",
          "USA",
          "USA",
          "USA",
          "Venezuela",
          "Venezuela",
          "Venezuela",
          "Venezuela",
          "Sweden",
          "Sweden",
          "Germany",
          "Germany",
          "France",
          "France",
          "France",
          "France",
          "Argentina",
          "Argentina",
          "UK",
          "UK",
          "UK",
          "UK",
          "Brazil",
          "Brazil",
          "Brazil",
          "Brazil",
          "Norway",
          "Norway",
          "Norway",
          "Norway",
          "France",
          "France",
          "France",
          "France",
          "Germany",
          "Germany",
          "Germany",
          "Brazil",
          "Brazil",
          "Germany",
          "Germany",
          "Austria",
          "Austria",
          "Austria",
          "Austria",
          "Austria",
          "Sweden",
          "Sweden",
          "Sweden",
          "Sweden",
          "Venezuela",
          "Venezuela",
          "Venezuela",
          "Brazil",
          "Brazil",
          "Venezuela",
          "Venezuela",
          "Belgium",
          "Belgium",
          "Belgium",
          "Belgium",
          "Mexico",
          "Mexico",
          "Mexico",
          "Mexico",
          "France",
          "Austria",
          "Germany",
          "Germany",
          "Germany",
          "Germany",
          "Germany",
          "Belgium",
          "Belgium",
          "Belgium",
          "USA",
          "USA",
          "USA",
          "USA",
          "USA",
          "USA",
          "UK",
          "UK",
          "Germany",
          "Germany",
          "France",
          "France",
          "France",
          "Brazil",
          "Brazil",
          "Brazil",
          "Brazil",
          "USA",
          "USA",
          "USA",
          "Germany",
          "Austria",
          "Austria",
          "USA",
          "USA",
          "USA",
          "USA",
          "Mexico",
          "Mexico",
          "Sweden",
          "Sweden",
          "Sweden",
          "France",
          "France",
          "France",
          "Germany",
          "Germany",
          "Germany",
          "France",
          "France",
          "USA",
          "USA",
          "USA",
          "USA",
          "USA",
          "Germany",
          "Germany",
          "Venezuela",
          "Venezuela",
          "UK",
          "UK",
          "Sweden",
          "Sweden",
          "Sweden",
          "USA",
          "Brazil",
          "Brazil",
          "Brazil",
          "UK",
          "UK",
          "UK",
          "UK",
          "Poland",
          "Poland",
          "France",
          "France",
          "France",
          "Spain",
          "Spain",
          "Spain",
          "Spain",
          "Finland",
          "Finland",
          "Spain",
          "Sweden",
          "Sweden",
          "Sweden",
          "France",
          "France",
          "Brazil",
          "Brazil",
          "Germany",
          "Finland",
          "Finland",
          "Finland",
          "Sweden",
          "Sweden",
          "Sweden",
          "Argentina",
          "USA",
          "USA",
          "USA",
          "USA",
          "USA",
          "USA",
          "USA",
          "Belgium",
          "Belgium",
          "Belgium",
          "Belgium",
          "Brazil",
          "Brazil",
          "Brazil",
          "Spain",
          "Spain",
          "Spain",
          "USA",
          "USA",
          "France",
          "France",
          "France",
          "Germany",
          "Belgium",
          "Germany",
          "Germany",
          "Germany",
          "Germany",
          "Germany",
          "USA",
          "USA",
          "USA",
          "Austria",
          "Austria",
          "Austria",
          "Austria",
          "Belgium",
          "Belgium",
          "Ireland",
          "Ireland",
          "Argentina",
          "Venezuela",
          "Brazil",
          "Venezuela",
          "Venezuela",
          "Sweden",
          "Sweden",
          "Brazil",
          "Brazil",
          "Brazil",
          "USA",
          "USA",
          "Brazil",
          "Poland",
          "France",
          "Italy",
          "Italy",
          "Norway",
          "Norway",
          "Norway",
          "Finland",
          "Finland",
          "Finland",
          "Spain",
          "Spain",
          "Spain",
          "Ireland",
          "Ireland",
          "Brazil",
          "Brazil",
          "Brazil",
          "Brazil",
          "Mexico",
          "Mexico",
          "Mexico",
          "Argentina",
          "Argentina",
          "Argentina",
          "Spain",
          "Spain",
          "Canada",
          "Canada",
          "Venezuela",
          "Venezuela",
          "Venezuela",
          "UK",
          "Denmark",
          "Denmark",
          "Brazil",
          "Brazil",
          "France",
          "France",
          "France",
          "Sweden",
          "Sweden",
          "Sweden",
          "Brazil",
          "Brazil",
          "Mexico",
          "Mexico",
          "Mexico",
          "Mexico",
          "France",
          "France",
          "France",
          "Spain",
          "Spain",
          "Germany",
          "Germany",
          "Germany",
          "Belgium",
          "Belgium",
          "Belgium",
          "Belgium",
          "Switzerland",
          "Switzerland",
          "France",
          "France",
          "France",
          "France",
          "UK",
          "UK",
          "Germany",
          "Brazil",
          "Brazil",
          "Brazil",
          "USA",
          "Argentina",
          "Argentina",
          "Germany",
          "Germany",
          "Germany",
          "Germany",
          "Italy",
          "Italy",
          "France",
          "France",
          "USA",
          "USA",
          "USA",
          "USA",
          "Italy",
          "UK",
          "UK",
          "UK",
          "Canada",
          "Canada",
          "Canada",
          "Germany",
          "Germany",
          "Denmark",
          "Denmark",
          "Denmark",
          "UK",
          "Spain",
          "Spain",
          "Spain",
          "Canada",
          "Canada",
          "Canada",
          "Canada",
          "Italy",
          "Switzerland",
          "Switzerland",
          "Switzerland",
          "Germany",
          "Germany",
          "UK",
          "UK",
          "Venezuela",
          "Venezuela",
          "Venezuela",
          "Venezuela",
          "Sweden",
          "Germany",
          "Germany",
          "Germany",
          "Venezuela",
          "Venezuela",
          "Venezuela",
          "Argentina",
          "Argentina",
          "Argentina",
          "Brazil",
          "Venezuela",
          "Venezuela",
          "Brazil",
          "Brazil",
          "Germany",
          "Germany",
          "Germany",
          "Germany",
          "Germany",
          "Portugal",
          "France",
          "France",
          "France",
          "USA",
          "Switzerland",
          "Switzerland",
          "Switzerland",
          "Germany",
          "Germany",
          "Austria",
          "Austria",
          "Austria",
          "Brazil",
          "Spain",
          "France",
          "France",
          "France",
          "France",
          "France",
          "France",
          "USA",
          "Canada",
          "Canada",
          "Venezuela",
          "Sweden",
          "Sweden",
          "Sweden",
          "Sweden",
          "Belgium",
          "Belgium",
          "Belgium",
          "Belgium",
          "Austria",
          "Austria",
          "Austria",
          "Austria",
          "Austria",
          "Austria",
          "Sweden",
          "Canada",
          "Canada",
          "USA",
          "USA",
          "USA",
          "USA",
          "USA",
          "Ireland",
          "Ireland",
          "Ireland",
          "Argentina",
          "Argentina",
          "Argentina",
          "Argentina",
          "UK",
          "UK",
          "UK",
          "USA",
          "USA",
          "Brazil",
          "Brazil",
          "Brazil",
          "Austria",
          "Austria",
          "Austria",
          "Austria",
          "Germany",
          "Germany",
          "Germany",
          "USA",
          "Sweden",
          "Sweden",
          "Denmark",
          "Mexico",
          "Mexico",
          "Germany",
          "Venezuela",
          "Venezuela",
          "Venezuela",
          "Poland",
          "Poland",
          "Poland",
          "Poland",
          "Germany",
          "Germany",
          "Germany",
          "USA",
          "USA",
          "USA",
          "Sweden",
          "Sweden",
          "Sweden",
          "Sweden",
          "USA",
          "USA",
          "USA",
          "USA",
          "USA",
          "USA",
          "USA",
          "Belgium",
          "Belgium",
          "Finland",
          "Finland",
          "USA",
          "USA",
          "Portugal",
          "Portugal",
          "Portugal",
          "Austria",
          "Austria",
          "Austria",
          "Spain",
          "Spain",
          "Spain",
          "Italy",
          "Italy",
          "Germany",
          "Germany",
          "Germany",
          "Germany",
          "Germany",
          "Spain",
          "Spain",
          "Spain",
          "Spain",
          "Venezuela",
          "Norway",
          "Norway",
          "UK",
          "UK",
          "Austria",
          "Austria",
          "Austria",
          "USA",
          "USA",
          "USA",
          "Argentina",
          "Argentina",
          "Germany",
          "Germany",
          "Germany",
          "Germany",
          "Germany",
          "Germany",
          "Brazil",
          "Brazil",
          "UK",
          "UK",
          "UK",
          "UK",
          "UK",
          "UK",
          "Finland",
          "Finland",
          "Italy",
          "Italy",
          "Canada",
          "Canada",
          "Germany",
          "Germany",
          "Switzerland",
          "Switzerland",
          "USA",
          "USA",
          "USA",
          "USA",
          "USA",
          "USA",
          "USA",
          "USA",
          "Switzerland",
          "Switzerland",
          "USA",
          "USA",
          "USA",
          "Belgium",
          "Belgium",
          "Belgium",
          "Belgium",
          "Germany",
          "Germany",
          "Spain",
          "Belgium",
          "Belgium",
          "Belgium",
          "Venezuela",
          "Venezuela",
          "Venezuela",
          "Venezuela",
          "USA",
          "Switzerland",
          "Switzerland",
          "Brazil",
          "Brazil",
          "France",
          "Poland",
          "Canada",
          "Canada",
          "Germany",
          "Germany",
          "Germany",
          "UK",
          "UK",
          "Canada",
          "Brazil",
          "Brazil",
          "Sweden",
          "France",
          "Brazil",
          "Brazil",
          "Austria",
          "Austria",
          "Austria",
          "Argentina",
          "Argentina",
          "Venezuela",
          "Venezuela",
          "Venezuela",
          "Venezuela",
          "UK",
          "UK",
          "UK",
          "UK",
          "Germany",
          "Germany",
          "Germany",
          "Brazil",
          "Brazil",
          "Brazil",
          "Italy",
          "Italy",
          "USA",
          "Italy",
          "Italy",
          "Ireland",
          "Ireland",
          "Ireland",
          "USA",
          "USA",
          "USA",
          "USA",
          "USA",
          "Venezuela",
          "Venezuela",
          "USA",
          "USA",
          "USA",
          "Germany",
          "Brazil",
          "Brazil",
          "Brazil",
          "Mexico",
          "Germany",
          "Germany",
          "Germany",
          "Germany",
          "Venezuela",
          "Venezuela",
          "Austria",
          "Austria",
          "Austria",
          "Austria",
          "Mexico",
          "Mexico",
          "Denmark",
          "Switzerland",
          "Switzerland",
          "Switzerland",
          "France",
          "France",
          "France",
          "USA",
          "USA",
          "USA",
          "USA",
          "USA",
          "USA",
          "USA",
          "USA",
          "USA",
          "USA",
          "USA",
          "USA",
          "USA",
          "USA",
          "USA",
          "USA",
          "USA",
          "USA",
          "USA",
          "USA",
          "USA",
          "USA",
          "USA",
          "USA",
          "USA"
         ],
         "legendgroup": "",
         "name": "",
         "showlegend": true,
         "type": "pie"
        }
       ],
       "layout": {
        "legend": {
         "tracegroupgap": 0
        },
        "template": {
         "data": {
          "bar": [
           {
            "error_x": {
             "color": "#2a3f5f"
            },
            "error_y": {
             "color": "#2a3f5f"
            },
            "marker": {
             "line": {
              "color": "#E5ECF6",
              "width": 0.5
             },
             "pattern": {
              "fillmode": "overlay",
              "size": 10,
              "solidity": 0.2
             }
            },
            "type": "bar"
           }
          ],
          "barpolar": [
           {
            "marker": {
             "line": {
              "color": "#E5ECF6",
              "width": 0.5
             },
             "pattern": {
              "fillmode": "overlay",
              "size": 10,
              "solidity": 0.2
             }
            },
            "type": "barpolar"
           }
          ],
          "carpet": [
           {
            "aaxis": {
             "endlinecolor": "#2a3f5f",
             "gridcolor": "white",
             "linecolor": "white",
             "minorgridcolor": "white",
             "startlinecolor": "#2a3f5f"
            },
            "baxis": {
             "endlinecolor": "#2a3f5f",
             "gridcolor": "white",
             "linecolor": "white",
             "minorgridcolor": "white",
             "startlinecolor": "#2a3f5f"
            },
            "type": "carpet"
           }
          ],
          "choropleth": [
           {
            "colorbar": {
             "outlinewidth": 0,
             "ticks": ""
            },
            "type": "choropleth"
           }
          ],
          "contour": [
           {
            "colorbar": {
             "outlinewidth": 0,
             "ticks": ""
            },
            "colorscale": [
             [
              0,
              "#0d0887"
             ],
             [
              0.1111111111111111,
              "#46039f"
             ],
             [
              0.2222222222222222,
              "#7201a8"
             ],
             [
              0.3333333333333333,
              "#9c179e"
             ],
             [
              0.4444444444444444,
              "#bd3786"
             ],
             [
              0.5555555555555556,
              "#d8576b"
             ],
             [
              0.6666666666666666,
              "#ed7953"
             ],
             [
              0.7777777777777778,
              "#fb9f3a"
             ],
             [
              0.8888888888888888,
              "#fdca26"
             ],
             [
              1,
              "#f0f921"
             ]
            ],
            "type": "contour"
           }
          ],
          "contourcarpet": [
           {
            "colorbar": {
             "outlinewidth": 0,
             "ticks": ""
            },
            "type": "contourcarpet"
           }
          ],
          "heatmap": [
           {
            "colorbar": {
             "outlinewidth": 0,
             "ticks": ""
            },
            "colorscale": [
             [
              0,
              "#0d0887"
             ],
             [
              0.1111111111111111,
              "#46039f"
             ],
             [
              0.2222222222222222,
              "#7201a8"
             ],
             [
              0.3333333333333333,
              "#9c179e"
             ],
             [
              0.4444444444444444,
              "#bd3786"
             ],
             [
              0.5555555555555556,
              "#d8576b"
             ],
             [
              0.6666666666666666,
              "#ed7953"
             ],
             [
              0.7777777777777778,
              "#fb9f3a"
             ],
             [
              0.8888888888888888,
              "#fdca26"
             ],
             [
              1,
              "#f0f921"
             ]
            ],
            "type": "heatmap"
           }
          ],
          "histogram": [
           {
            "marker": {
             "pattern": {
              "fillmode": "overlay",
              "size": 10,
              "solidity": 0.2
             }
            },
            "type": "histogram"
           }
          ],
          "histogram2d": [
           {
            "colorbar": {
             "outlinewidth": 0,
             "ticks": ""
            },
            "colorscale": [
             [
              0,
              "#0d0887"
             ],
             [
              0.1111111111111111,
              "#46039f"
             ],
             [
              0.2222222222222222,
              "#7201a8"
             ],
             [
              0.3333333333333333,
              "#9c179e"
             ],
             [
              0.4444444444444444,
              "#bd3786"
             ],
             [
              0.5555555555555556,
              "#d8576b"
             ],
             [
              0.6666666666666666,
              "#ed7953"
             ],
             [
              0.7777777777777778,
              "#fb9f3a"
             ],
             [
              0.8888888888888888,
              "#fdca26"
             ],
             [
              1,
              "#f0f921"
             ]
            ],
            "type": "histogram2d"
           }
          ],
          "histogram2dcontour": [
           {
            "colorbar": {
             "outlinewidth": 0,
             "ticks": ""
            },
            "colorscale": [
             [
              0,
              "#0d0887"
             ],
             [
              0.1111111111111111,
              "#46039f"
             ],
             [
              0.2222222222222222,
              "#7201a8"
             ],
             [
              0.3333333333333333,
              "#9c179e"
             ],
             [
              0.4444444444444444,
              "#bd3786"
             ],
             [
              0.5555555555555556,
              "#d8576b"
             ],
             [
              0.6666666666666666,
              "#ed7953"
             ],
             [
              0.7777777777777778,
              "#fb9f3a"
             ],
             [
              0.8888888888888888,
              "#fdca26"
             ],
             [
              1,
              "#f0f921"
             ]
            ],
            "type": "histogram2dcontour"
           }
          ],
          "mesh3d": [
           {
            "colorbar": {
             "outlinewidth": 0,
             "ticks": ""
            },
            "type": "mesh3d"
           }
          ],
          "parcoords": [
           {
            "line": {
             "colorbar": {
              "outlinewidth": 0,
              "ticks": ""
             }
            },
            "type": "parcoords"
           }
          ],
          "pie": [
           {
            "automargin": true,
            "type": "pie"
           }
          ],
          "scatter": [
           {
            "fillpattern": {
             "fillmode": "overlay",
             "size": 10,
             "solidity": 0.2
            },
            "type": "scatter"
           }
          ],
          "scatter3d": [
           {
            "line": {
             "colorbar": {
              "outlinewidth": 0,
              "ticks": ""
             }
            },
            "marker": {
             "colorbar": {
              "outlinewidth": 0,
              "ticks": ""
             }
            },
            "type": "scatter3d"
           }
          ],
          "scattercarpet": [
           {
            "marker": {
             "colorbar": {
              "outlinewidth": 0,
              "ticks": ""
             }
            },
            "type": "scattercarpet"
           }
          ],
          "scattergeo": [
           {
            "marker": {
             "colorbar": {
              "outlinewidth": 0,
              "ticks": ""
             }
            },
            "type": "scattergeo"
           }
          ],
          "scattergl": [
           {
            "marker": {
             "colorbar": {
              "outlinewidth": 0,
              "ticks": ""
             }
            },
            "type": "scattergl"
           }
          ],
          "scattermap": [
           {
            "marker": {
             "colorbar": {
              "outlinewidth": 0,
              "ticks": ""
             }
            },
            "type": "scattermap"
           }
          ],
          "scattermapbox": [
           {
            "marker": {
             "colorbar": {
              "outlinewidth": 0,
              "ticks": ""
             }
            },
            "type": "scattermapbox"
           }
          ],
          "scatterpolar": [
           {
            "marker": {
             "colorbar": {
              "outlinewidth": 0,
              "ticks": ""
             }
            },
            "type": "scatterpolar"
           }
          ],
          "scatterpolargl": [
           {
            "marker": {
             "colorbar": {
              "outlinewidth": 0,
              "ticks": ""
             }
            },
            "type": "scatterpolargl"
           }
          ],
          "scatterternary": [
           {
            "marker": {
             "colorbar": {
              "outlinewidth": 0,
              "ticks": ""
             }
            },
            "type": "scatterternary"
           }
          ],
          "surface": [
           {
            "colorbar": {
             "outlinewidth": 0,
             "ticks": ""
            },
            "colorscale": [
             [
              0,
              "#0d0887"
             ],
             [
              0.1111111111111111,
              "#46039f"
             ],
             [
              0.2222222222222222,
              "#7201a8"
             ],
             [
              0.3333333333333333,
              "#9c179e"
             ],
             [
              0.4444444444444444,
              "#bd3786"
             ],
             [
              0.5555555555555556,
              "#d8576b"
             ],
             [
              0.6666666666666666,
              "#ed7953"
             ],
             [
              0.7777777777777778,
              "#fb9f3a"
             ],
             [
              0.8888888888888888,
              "#fdca26"
             ],
             [
              1,
              "#f0f921"
             ]
            ],
            "type": "surface"
           }
          ],
          "table": [
           {
            "cells": {
             "fill": {
              "color": "#EBF0F8"
             },
             "line": {
              "color": "white"
             }
            },
            "header": {
             "fill": {
              "color": "#C8D4E3"
             },
             "line": {
              "color": "white"
             }
            },
            "type": "table"
           }
          ]
         },
         "layout": {
          "annotationdefaults": {
           "arrowcolor": "#2a3f5f",
           "arrowhead": 0,
           "arrowwidth": 1
          },
          "autotypenumbers": "strict",
          "coloraxis": {
           "colorbar": {
            "outlinewidth": 0,
            "ticks": ""
           }
          },
          "colorscale": {
           "diverging": [
            [
             0,
             "#8e0152"
            ],
            [
             0.1,
             "#c51b7d"
            ],
            [
             0.2,
             "#de77ae"
            ],
            [
             0.3,
             "#f1b6da"
            ],
            [
             0.4,
             "#fde0ef"
            ],
            [
             0.5,
             "#f7f7f7"
            ],
            [
             0.6,
             "#e6f5d0"
            ],
            [
             0.7,
             "#b8e186"
            ],
            [
             0.8,
             "#7fbc41"
            ],
            [
             0.9,
             "#4d9221"
            ],
            [
             1,
             "#276419"
            ]
           ],
           "sequential": [
            [
             0,
             "#0d0887"
            ],
            [
             0.1111111111111111,
             "#46039f"
            ],
            [
             0.2222222222222222,
             "#7201a8"
            ],
            [
             0.3333333333333333,
             "#9c179e"
            ],
            [
             0.4444444444444444,
             "#bd3786"
            ],
            [
             0.5555555555555556,
             "#d8576b"
            ],
            [
             0.6666666666666666,
             "#ed7953"
            ],
            [
             0.7777777777777778,
             "#fb9f3a"
            ],
            [
             0.8888888888888888,
             "#fdca26"
            ],
            [
             1,
             "#f0f921"
            ]
           ],
           "sequentialminus": [
            [
             0,
             "#0d0887"
            ],
            [
             0.1111111111111111,
             "#46039f"
            ],
            [
             0.2222222222222222,
             "#7201a8"
            ],
            [
             0.3333333333333333,
             "#9c179e"
            ],
            [
             0.4444444444444444,
             "#bd3786"
            ],
            [
             0.5555555555555556,
             "#d8576b"
            ],
            [
             0.6666666666666666,
             "#ed7953"
            ],
            [
             0.7777777777777778,
             "#fb9f3a"
            ],
            [
             0.8888888888888888,
             "#fdca26"
            ],
            [
             1,
             "#f0f921"
            ]
           ]
          },
          "colorway": [
           "#636efa",
           "#EF553B",
           "#00cc96",
           "#ab63fa",
           "#FFA15A",
           "#19d3f3",
           "#FF6692",
           "#B6E880",
           "#FF97FF",
           "#FECB52"
          ],
          "font": {
           "color": "#2a3f5f"
          },
          "geo": {
           "bgcolor": "white",
           "lakecolor": "white",
           "landcolor": "#E5ECF6",
           "showlakes": true,
           "showland": true,
           "subunitcolor": "white"
          },
          "hoverlabel": {
           "align": "left"
          },
          "hovermode": "closest",
          "mapbox": {
           "style": "light"
          },
          "paper_bgcolor": "white",
          "plot_bgcolor": "#E5ECF6",
          "polar": {
           "angularaxis": {
            "gridcolor": "white",
            "linecolor": "white",
            "ticks": ""
           },
           "bgcolor": "#E5ECF6",
           "radialaxis": {
            "gridcolor": "white",
            "linecolor": "white",
            "ticks": ""
           }
          },
          "scene": {
           "xaxis": {
            "backgroundcolor": "#E5ECF6",
            "gridcolor": "white",
            "gridwidth": 2,
            "linecolor": "white",
            "showbackground": true,
            "ticks": "",
            "zerolinecolor": "white"
           },
           "yaxis": {
            "backgroundcolor": "#E5ECF6",
            "gridcolor": "white",
            "gridwidth": 2,
            "linecolor": "white",
            "showbackground": true,
            "ticks": "",
            "zerolinecolor": "white"
           },
           "zaxis": {
            "backgroundcolor": "#E5ECF6",
            "gridcolor": "white",
            "gridwidth": 2,
            "linecolor": "white",
            "showbackground": true,
            "ticks": "",
            "zerolinecolor": "white"
           }
          },
          "shapedefaults": {
           "line": {
            "color": "#2a3f5f"
           }
          },
          "ternary": {
           "aaxis": {
            "gridcolor": "white",
            "linecolor": "white",
            "ticks": ""
           },
           "baxis": {
            "gridcolor": "white",
            "linecolor": "white",
            "ticks": ""
           },
           "bgcolor": "#E5ECF6",
           "caxis": {
            "gridcolor": "white",
            "linecolor": "white",
            "ticks": ""
           }
          },
          "title": {
           "x": 0.05
          },
          "xaxis": {
           "automargin": true,
           "gridcolor": "white",
           "linecolor": "white",
           "ticks": "",
           "title": {
            "standoff": 15
           },
           "zerolinecolor": "white",
           "zerolinewidth": 2
          },
          "yaxis": {
           "automargin": true,
           "gridcolor": "white",
           "linecolor": "white",
           "ticks": "",
           "title": {
            "standoff": 15
           },
           "zerolinecolor": "white",
           "zerolinewidth": 2
          }
         }
        },
        "title": {
         "text": "Percentage of Orders by Country"
        }
       }
      }
     },
     "metadata": {},
     "output_type": "display_data"
    }
   ],
   "source": [
    "px.pie(data_frame=df, names='Country', title='Percentage of Orders by Country') "
   ]
  },
  {
   "cell_type": "markdown",
   "metadata": {},
   "source": [
    "## Bivariate Analysis"
   ]
  },
  {
   "cell_type": "markdown",
   "metadata": {},
   "source": [
    "#### Countries vs Total Amount"
   ]
  },
  {
   "cell_type": "code",
   "execution_count": 21,
   "metadata": {},
   "outputs": [
    {
     "data": {
      "text/plain": [
       "Country\n",
       "USA           860856.27\n",
       "Germany       776131.96\n",
       "Austria       492686.70\n",
       "Brazil        294433.59\n",
       "France        261737.31\n",
       "Venezuela     179496.89\n",
       "Sweden        174999.55\n",
       "UK            171228.89\n",
       "Canada        161234.00\n",
       "Ireland       156949.88\n",
       "Denmark       118828.50\n",
       "Belgium       117037.96\n",
       "Switzerland    92442.02\n",
       "Mexico         70401.10\n",
       "Finland        58352.05\n",
       "Spain          51273.63\n",
       "Italy          40471.15\n",
       "Portugal       35222.95\n",
       "Argentina      22774.90\n",
       "Norway         19125.90\n",
       "Poland          8624.65\n",
       "Name: TotalAmount, dtype: float64"
      ]
     },
     "execution_count": 21,
     "metadata": {},
     "output_type": "execute_result"
    }
   ],
   "source": [
    "df.groupby('Country')['TotalAmount'].sum().sort_values(ascending=False)"
   ]
  },
  {
   "cell_type": "code",
   "execution_count": 22,
   "metadata": {},
   "outputs": [],
   "source": [
    "import pandas as pd\n",
    "import plotly.express as px\n",
    "\n",
    "def plots(column, top10=False):\n",
    "    \"\"\"\n",
    "    Generates bar and pie charts for the total amount grouped by a specified column.\n",
    "\n",
    "    Parameters:\n",
    "        column (str): The column to group by.\n",
    "        top10 (bool): If True, only the top 10 groups are displayed.\n",
    "    \"\"\"\n",
    "    # Check if the column exists in the DataFrame\n",
    "    if column not in df.columns:\n",
    "        print(f\"Error: Column '{column}' does not exist in the dataset.\")\n",
    "        return\n",
    "\n",
    "    # Group by the specified column and calculate the total amount\n",
    "    prop = df.groupby(column)['TotalAmount'].sum().reset_index()\n",
    "    prop['proportion'] = (prop['TotalAmount'] / prop['TotalAmount'].sum()) * 100\n",
    "\n",
    "    # Sort by total amount in descending order\n",
    "    prop = prop.sort_values(by='TotalAmount', ascending=False)\n",
    "\n",
    "    # Print descriptive statistics for TotalAmount\n",
    "    print(\"Descriptive statistics for TotalAmount:\")\n",
    "    print(df['TotalAmount'].describe())\n",
    "\n",
    "    # If top10 is True, select only the top 10 groups\n",
    "    if top10:\n",
    "        prop = prop.head(10)\n",
    "\n",
    "    # Generate a bar chart\n",
    "    fig1 = px.bar(\n",
    "        data_frame=prop,\n",
    "        x=column,\n",
    "        y='TotalAmount',\n",
    "        title=f'Total Amount by {column}',\n",
    "        text='TotalAmount',\n",
    "        labels={column: column, 'TotalAmount': 'Total Amount'}\n",
    "    )\n",
    "    fig1.update_traces(texttemplate='%{text:.2s}', textposition='outside')\n",
    "\n",
    "    # Generate a pie chart\n",
    "    fig2 = px.pie(\n",
    "        data_frame=prop,\n",
    "        names=column,\n",
    "        values='TotalAmount',\n",
    "        title=f'Percentage of Total Amount by {column}',\n",
    "        labels={column: column, 'TotalAmount': 'Total Amount'}\n",
    "    )\n",
    "\n",
    "    # Show the plots\n",
    "    fig1.show()\n",
    "    fig2.show()"
   ]
  },
  {
   "cell_type": "code",
   "execution_count": 23,
   "metadata": {},
   "outputs": [
    {
     "name": "stdout",
     "output_type": "stream",
     "text": [
      "Descriptive statistics for TotalAmount:\n",
      "count    2148.00\n",
      "mean     1938.69\n",
      "std      1955.96\n",
      "min        12.50\n",
      "25%       670.00\n",
      "50%      1414.80\n",
      "75%      2385.73\n",
      "max     12281.20\n",
      "Name: TotalAmount, dtype: float64\n"
     ]
    },
    {
     "data": {
      "application/vnd.plotly.v1+json": {
       "config": {
        "plotlyServerURL": "https://plot.ly"
       },
       "data": [
        {
         "hovertemplate": "City=%{x}<br>Total Amount=%{text}<extra></extra>",
         "legendgroup": "",
         "marker": {
          "color": "#636efa",
          "pattern": {
           "shape": ""
          }
         },
         "name": "",
         "orientation": "v",
         "showlegend": false,
         "text": {
          "bdata": "AAAAALEFGkGF61G4sWAZQWZmZmY1YhdBzczMzKTdBUGkcD0KrygDQR+F61FCrQJBUrgehd02AkFI4XoUGvj7QArXo3ChKvlA7FG4HnEs90A=",
          "dtype": "f8"
         },
         "textposition": "outside",
         "texttemplate": "%{text:.2s}",
         "type": "bar",
         "x": [
          "Graz",
          "Boise",
          "Cunewalde",
          "Albuquerque",
          "Cork",
          "London",
          "Sao Paulo",
          "Brandenburg",
          "Rio de Janeiro",
          "München"
         ],
         "xaxis": "x",
         "y": {
          "bdata": "AAAAALEFGkGF61G4sWAZQWZmZmY1YhdBzczMzKTdBUGkcD0KrygDQR+F61FCrQJBUrgehd02AkFI4XoUGvj7QArXo3ChKvlA7FG4HnEs90A=",
          "dtype": "f8"
         },
         "yaxis": "y"
        }
       ],
       "layout": {
        "barmode": "relative",
        "legend": {
         "tracegroupgap": 0
        },
        "template": {
         "data": {
          "bar": [
           {
            "error_x": {
             "color": "#2a3f5f"
            },
            "error_y": {
             "color": "#2a3f5f"
            },
            "marker": {
             "line": {
              "color": "#E5ECF6",
              "width": 0.5
             },
             "pattern": {
              "fillmode": "overlay",
              "size": 10,
              "solidity": 0.2
             }
            },
            "type": "bar"
           }
          ],
          "barpolar": [
           {
            "marker": {
             "line": {
              "color": "#E5ECF6",
              "width": 0.5
             },
             "pattern": {
              "fillmode": "overlay",
              "size": 10,
              "solidity": 0.2
             }
            },
            "type": "barpolar"
           }
          ],
          "carpet": [
           {
            "aaxis": {
             "endlinecolor": "#2a3f5f",
             "gridcolor": "white",
             "linecolor": "white",
             "minorgridcolor": "white",
             "startlinecolor": "#2a3f5f"
            },
            "baxis": {
             "endlinecolor": "#2a3f5f",
             "gridcolor": "white",
             "linecolor": "white",
             "minorgridcolor": "white",
             "startlinecolor": "#2a3f5f"
            },
            "type": "carpet"
           }
          ],
          "choropleth": [
           {
            "colorbar": {
             "outlinewidth": 0,
             "ticks": ""
            },
            "type": "choropleth"
           }
          ],
          "contour": [
           {
            "colorbar": {
             "outlinewidth": 0,
             "ticks": ""
            },
            "colorscale": [
             [
              0,
              "#0d0887"
             ],
             [
              0.1111111111111111,
              "#46039f"
             ],
             [
              0.2222222222222222,
              "#7201a8"
             ],
             [
              0.3333333333333333,
              "#9c179e"
             ],
             [
              0.4444444444444444,
              "#bd3786"
             ],
             [
              0.5555555555555556,
              "#d8576b"
             ],
             [
              0.6666666666666666,
              "#ed7953"
             ],
             [
              0.7777777777777778,
              "#fb9f3a"
             ],
             [
              0.8888888888888888,
              "#fdca26"
             ],
             [
              1,
              "#f0f921"
             ]
            ],
            "type": "contour"
           }
          ],
          "contourcarpet": [
           {
            "colorbar": {
             "outlinewidth": 0,
             "ticks": ""
            },
            "type": "contourcarpet"
           }
          ],
          "heatmap": [
           {
            "colorbar": {
             "outlinewidth": 0,
             "ticks": ""
            },
            "colorscale": [
             [
              0,
              "#0d0887"
             ],
             [
              0.1111111111111111,
              "#46039f"
             ],
             [
              0.2222222222222222,
              "#7201a8"
             ],
             [
              0.3333333333333333,
              "#9c179e"
             ],
             [
              0.4444444444444444,
              "#bd3786"
             ],
             [
              0.5555555555555556,
              "#d8576b"
             ],
             [
              0.6666666666666666,
              "#ed7953"
             ],
             [
              0.7777777777777778,
              "#fb9f3a"
             ],
             [
              0.8888888888888888,
              "#fdca26"
             ],
             [
              1,
              "#f0f921"
             ]
            ],
            "type": "heatmap"
           }
          ],
          "histogram": [
           {
            "marker": {
             "pattern": {
              "fillmode": "overlay",
              "size": 10,
              "solidity": 0.2
             }
            },
            "type": "histogram"
           }
          ],
          "histogram2d": [
           {
            "colorbar": {
             "outlinewidth": 0,
             "ticks": ""
            },
            "colorscale": [
             [
              0,
              "#0d0887"
             ],
             [
              0.1111111111111111,
              "#46039f"
             ],
             [
              0.2222222222222222,
              "#7201a8"
             ],
             [
              0.3333333333333333,
              "#9c179e"
             ],
             [
              0.4444444444444444,
              "#bd3786"
             ],
             [
              0.5555555555555556,
              "#d8576b"
             ],
             [
              0.6666666666666666,
              "#ed7953"
             ],
             [
              0.7777777777777778,
              "#fb9f3a"
             ],
             [
              0.8888888888888888,
              "#fdca26"
             ],
             [
              1,
              "#f0f921"
             ]
            ],
            "type": "histogram2d"
           }
          ],
          "histogram2dcontour": [
           {
            "colorbar": {
             "outlinewidth": 0,
             "ticks": ""
            },
            "colorscale": [
             [
              0,
              "#0d0887"
             ],
             [
              0.1111111111111111,
              "#46039f"
             ],
             [
              0.2222222222222222,
              "#7201a8"
             ],
             [
              0.3333333333333333,
              "#9c179e"
             ],
             [
              0.4444444444444444,
              "#bd3786"
             ],
             [
              0.5555555555555556,
              "#d8576b"
             ],
             [
              0.6666666666666666,
              "#ed7953"
             ],
             [
              0.7777777777777778,
              "#fb9f3a"
             ],
             [
              0.8888888888888888,
              "#fdca26"
             ],
             [
              1,
              "#f0f921"
             ]
            ],
            "type": "histogram2dcontour"
           }
          ],
          "mesh3d": [
           {
            "colorbar": {
             "outlinewidth": 0,
             "ticks": ""
            },
            "type": "mesh3d"
           }
          ],
          "parcoords": [
           {
            "line": {
             "colorbar": {
              "outlinewidth": 0,
              "ticks": ""
             }
            },
            "type": "parcoords"
           }
          ],
          "pie": [
           {
            "automargin": true,
            "type": "pie"
           }
          ],
          "scatter": [
           {
            "fillpattern": {
             "fillmode": "overlay",
             "size": 10,
             "solidity": 0.2
            },
            "type": "scatter"
           }
          ],
          "scatter3d": [
           {
            "line": {
             "colorbar": {
              "outlinewidth": 0,
              "ticks": ""
             }
            },
            "marker": {
             "colorbar": {
              "outlinewidth": 0,
              "ticks": ""
             }
            },
            "type": "scatter3d"
           }
          ],
          "scattercarpet": [
           {
            "marker": {
             "colorbar": {
              "outlinewidth": 0,
              "ticks": ""
             }
            },
            "type": "scattercarpet"
           }
          ],
          "scattergeo": [
           {
            "marker": {
             "colorbar": {
              "outlinewidth": 0,
              "ticks": ""
             }
            },
            "type": "scattergeo"
           }
          ],
          "scattergl": [
           {
            "marker": {
             "colorbar": {
              "outlinewidth": 0,
              "ticks": ""
             }
            },
            "type": "scattergl"
           }
          ],
          "scattermap": [
           {
            "marker": {
             "colorbar": {
              "outlinewidth": 0,
              "ticks": ""
             }
            },
            "type": "scattermap"
           }
          ],
          "scattermapbox": [
           {
            "marker": {
             "colorbar": {
              "outlinewidth": 0,
              "ticks": ""
             }
            },
            "type": "scattermapbox"
           }
          ],
          "scatterpolar": [
           {
            "marker": {
             "colorbar": {
              "outlinewidth": 0,
              "ticks": ""
             }
            },
            "type": "scatterpolar"
           }
          ],
          "scatterpolargl": [
           {
            "marker": {
             "colorbar": {
              "outlinewidth": 0,
              "ticks": ""
             }
            },
            "type": "scatterpolargl"
           }
          ],
          "scatterternary": [
           {
            "marker": {
             "colorbar": {
              "outlinewidth": 0,
              "ticks": ""
             }
            },
            "type": "scatterternary"
           }
          ],
          "surface": [
           {
            "colorbar": {
             "outlinewidth": 0,
             "ticks": ""
            },
            "colorscale": [
             [
              0,
              "#0d0887"
             ],
             [
              0.1111111111111111,
              "#46039f"
             ],
             [
              0.2222222222222222,
              "#7201a8"
             ],
             [
              0.3333333333333333,
              "#9c179e"
             ],
             [
              0.4444444444444444,
              "#bd3786"
             ],
             [
              0.5555555555555556,
              "#d8576b"
             ],
             [
              0.6666666666666666,
              "#ed7953"
             ],
             [
              0.7777777777777778,
              "#fb9f3a"
             ],
             [
              0.8888888888888888,
              "#fdca26"
             ],
             [
              1,
              "#f0f921"
             ]
            ],
            "type": "surface"
           }
          ],
          "table": [
           {
            "cells": {
             "fill": {
              "color": "#EBF0F8"
             },
             "line": {
              "color": "white"
             }
            },
            "header": {
             "fill": {
              "color": "#C8D4E3"
             },
             "line": {
              "color": "white"
             }
            },
            "type": "table"
           }
          ]
         },
         "layout": {
          "annotationdefaults": {
           "arrowcolor": "#2a3f5f",
           "arrowhead": 0,
           "arrowwidth": 1
          },
          "autotypenumbers": "strict",
          "coloraxis": {
           "colorbar": {
            "outlinewidth": 0,
            "ticks": ""
           }
          },
          "colorscale": {
           "diverging": [
            [
             0,
             "#8e0152"
            ],
            [
             0.1,
             "#c51b7d"
            ],
            [
             0.2,
             "#de77ae"
            ],
            [
             0.3,
             "#f1b6da"
            ],
            [
             0.4,
             "#fde0ef"
            ],
            [
             0.5,
             "#f7f7f7"
            ],
            [
             0.6,
             "#e6f5d0"
            ],
            [
             0.7,
             "#b8e186"
            ],
            [
             0.8,
             "#7fbc41"
            ],
            [
             0.9,
             "#4d9221"
            ],
            [
             1,
             "#276419"
            ]
           ],
           "sequential": [
            [
             0,
             "#0d0887"
            ],
            [
             0.1111111111111111,
             "#46039f"
            ],
            [
             0.2222222222222222,
             "#7201a8"
            ],
            [
             0.3333333333333333,
             "#9c179e"
            ],
            [
             0.4444444444444444,
             "#bd3786"
            ],
            [
             0.5555555555555556,
             "#d8576b"
            ],
            [
             0.6666666666666666,
             "#ed7953"
            ],
            [
             0.7777777777777778,
             "#fb9f3a"
            ],
            [
             0.8888888888888888,
             "#fdca26"
            ],
            [
             1,
             "#f0f921"
            ]
           ],
           "sequentialminus": [
            [
             0,
             "#0d0887"
            ],
            [
             0.1111111111111111,
             "#46039f"
            ],
            [
             0.2222222222222222,
             "#7201a8"
            ],
            [
             0.3333333333333333,
             "#9c179e"
            ],
            [
             0.4444444444444444,
             "#bd3786"
            ],
            [
             0.5555555555555556,
             "#d8576b"
            ],
            [
             0.6666666666666666,
             "#ed7953"
            ],
            [
             0.7777777777777778,
             "#fb9f3a"
            ],
            [
             0.8888888888888888,
             "#fdca26"
            ],
            [
             1,
             "#f0f921"
            ]
           ]
          },
          "colorway": [
           "#636efa",
           "#EF553B",
           "#00cc96",
           "#ab63fa",
           "#FFA15A",
           "#19d3f3",
           "#FF6692",
           "#B6E880",
           "#FF97FF",
           "#FECB52"
          ],
          "font": {
           "color": "#2a3f5f"
          },
          "geo": {
           "bgcolor": "white",
           "lakecolor": "white",
           "landcolor": "#E5ECF6",
           "showlakes": true,
           "showland": true,
           "subunitcolor": "white"
          },
          "hoverlabel": {
           "align": "left"
          },
          "hovermode": "closest",
          "mapbox": {
           "style": "light"
          },
          "paper_bgcolor": "white",
          "plot_bgcolor": "#E5ECF6",
          "polar": {
           "angularaxis": {
            "gridcolor": "white",
            "linecolor": "white",
            "ticks": ""
           },
           "bgcolor": "#E5ECF6",
           "radialaxis": {
            "gridcolor": "white",
            "linecolor": "white",
            "ticks": ""
           }
          },
          "scene": {
           "xaxis": {
            "backgroundcolor": "#E5ECF6",
            "gridcolor": "white",
            "gridwidth": 2,
            "linecolor": "white",
            "showbackground": true,
            "ticks": "",
            "zerolinecolor": "white"
           },
           "yaxis": {
            "backgroundcolor": "#E5ECF6",
            "gridcolor": "white",
            "gridwidth": 2,
            "linecolor": "white",
            "showbackground": true,
            "ticks": "",
            "zerolinecolor": "white"
           },
           "zaxis": {
            "backgroundcolor": "#E5ECF6",
            "gridcolor": "white",
            "gridwidth": 2,
            "linecolor": "white",
            "showbackground": true,
            "ticks": "",
            "zerolinecolor": "white"
           }
          },
          "shapedefaults": {
           "line": {
            "color": "#2a3f5f"
           }
          },
          "ternary": {
           "aaxis": {
            "gridcolor": "white",
            "linecolor": "white",
            "ticks": ""
           },
           "baxis": {
            "gridcolor": "white",
            "linecolor": "white",
            "ticks": ""
           },
           "bgcolor": "#E5ECF6",
           "caxis": {
            "gridcolor": "white",
            "linecolor": "white",
            "ticks": ""
           }
          },
          "title": {
           "x": 0.05
          },
          "xaxis": {
           "automargin": true,
           "gridcolor": "white",
           "linecolor": "white",
           "ticks": "",
           "title": {
            "standoff": 15
           },
           "zerolinecolor": "white",
           "zerolinewidth": 2
          },
          "yaxis": {
           "automargin": true,
           "gridcolor": "white",
           "linecolor": "white",
           "ticks": "",
           "title": {
            "standoff": 15
           },
           "zerolinecolor": "white",
           "zerolinewidth": 2
          }
         }
        },
        "title": {
         "text": "Total Amount by City"
        },
        "xaxis": {
         "anchor": "y",
         "domain": [
          0,
          1
         ],
         "title": {
          "text": "City"
         }
        },
        "yaxis": {
         "anchor": "x",
         "domain": [
          0,
          1
         ],
         "title": {
          "text": "Total Amount"
         }
        }
       }
      }
     },
     "metadata": {},
     "output_type": "display_data"
    },
    {
     "data": {
      "application/vnd.plotly.v1+json": {
       "config": {
        "plotlyServerURL": "https://plot.ly"
       },
       "data": [
        {
         "domain": {
          "x": [
           0,
           1
          ],
          "y": [
           0,
           1
          ]
         },
         "hovertemplate": "City=%{label}<br>Total Amount=%{value}<extra></extra>",
         "labels": [
          "Graz",
          "Boise",
          "Cunewalde",
          "Albuquerque",
          "Cork",
          "London",
          "Sao Paulo",
          "Brandenburg",
          "Rio de Janeiro",
          "München"
         ],
         "legendgroup": "",
         "name": "",
         "showlegend": true,
         "type": "pie",
         "values": {
          "bdata": "AAAAALEFGkGF61G4sWAZQWZmZmY1YhdBzczMzKTdBUGkcD0KrygDQR+F61FCrQJBUrgehd02AkFI4XoUGvj7QArXo3ChKvlA7FG4HnEs90A=",
          "dtype": "f8"
         }
        }
       ],
       "layout": {
        "legend": {
         "tracegroupgap": 0
        },
        "template": {
         "data": {
          "bar": [
           {
            "error_x": {
             "color": "#2a3f5f"
            },
            "error_y": {
             "color": "#2a3f5f"
            },
            "marker": {
             "line": {
              "color": "#E5ECF6",
              "width": 0.5
             },
             "pattern": {
              "fillmode": "overlay",
              "size": 10,
              "solidity": 0.2
             }
            },
            "type": "bar"
           }
          ],
          "barpolar": [
           {
            "marker": {
             "line": {
              "color": "#E5ECF6",
              "width": 0.5
             },
             "pattern": {
              "fillmode": "overlay",
              "size": 10,
              "solidity": 0.2
             }
            },
            "type": "barpolar"
           }
          ],
          "carpet": [
           {
            "aaxis": {
             "endlinecolor": "#2a3f5f",
             "gridcolor": "white",
             "linecolor": "white",
             "minorgridcolor": "white",
             "startlinecolor": "#2a3f5f"
            },
            "baxis": {
             "endlinecolor": "#2a3f5f",
             "gridcolor": "white",
             "linecolor": "white",
             "minorgridcolor": "white",
             "startlinecolor": "#2a3f5f"
            },
            "type": "carpet"
           }
          ],
          "choropleth": [
           {
            "colorbar": {
             "outlinewidth": 0,
             "ticks": ""
            },
            "type": "choropleth"
           }
          ],
          "contour": [
           {
            "colorbar": {
             "outlinewidth": 0,
             "ticks": ""
            },
            "colorscale": [
             [
              0,
              "#0d0887"
             ],
             [
              0.1111111111111111,
              "#46039f"
             ],
             [
              0.2222222222222222,
              "#7201a8"
             ],
             [
              0.3333333333333333,
              "#9c179e"
             ],
             [
              0.4444444444444444,
              "#bd3786"
             ],
             [
              0.5555555555555556,
              "#d8576b"
             ],
             [
              0.6666666666666666,
              "#ed7953"
             ],
             [
              0.7777777777777778,
              "#fb9f3a"
             ],
             [
              0.8888888888888888,
              "#fdca26"
             ],
             [
              1,
              "#f0f921"
             ]
            ],
            "type": "contour"
           }
          ],
          "contourcarpet": [
           {
            "colorbar": {
             "outlinewidth": 0,
             "ticks": ""
            },
            "type": "contourcarpet"
           }
          ],
          "heatmap": [
           {
            "colorbar": {
             "outlinewidth": 0,
             "ticks": ""
            },
            "colorscale": [
             [
              0,
              "#0d0887"
             ],
             [
              0.1111111111111111,
              "#46039f"
             ],
             [
              0.2222222222222222,
              "#7201a8"
             ],
             [
              0.3333333333333333,
              "#9c179e"
             ],
             [
              0.4444444444444444,
              "#bd3786"
             ],
             [
              0.5555555555555556,
              "#d8576b"
             ],
             [
              0.6666666666666666,
              "#ed7953"
             ],
             [
              0.7777777777777778,
              "#fb9f3a"
             ],
             [
              0.8888888888888888,
              "#fdca26"
             ],
             [
              1,
              "#f0f921"
             ]
            ],
            "type": "heatmap"
           }
          ],
          "histogram": [
           {
            "marker": {
             "pattern": {
              "fillmode": "overlay",
              "size": 10,
              "solidity": 0.2
             }
            },
            "type": "histogram"
           }
          ],
          "histogram2d": [
           {
            "colorbar": {
             "outlinewidth": 0,
             "ticks": ""
            },
            "colorscale": [
             [
              0,
              "#0d0887"
             ],
             [
              0.1111111111111111,
              "#46039f"
             ],
             [
              0.2222222222222222,
              "#7201a8"
             ],
             [
              0.3333333333333333,
              "#9c179e"
             ],
             [
              0.4444444444444444,
              "#bd3786"
             ],
             [
              0.5555555555555556,
              "#d8576b"
             ],
             [
              0.6666666666666666,
              "#ed7953"
             ],
             [
              0.7777777777777778,
              "#fb9f3a"
             ],
             [
              0.8888888888888888,
              "#fdca26"
             ],
             [
              1,
              "#f0f921"
             ]
            ],
            "type": "histogram2d"
           }
          ],
          "histogram2dcontour": [
           {
            "colorbar": {
             "outlinewidth": 0,
             "ticks": ""
            },
            "colorscale": [
             [
              0,
              "#0d0887"
             ],
             [
              0.1111111111111111,
              "#46039f"
             ],
             [
              0.2222222222222222,
              "#7201a8"
             ],
             [
              0.3333333333333333,
              "#9c179e"
             ],
             [
              0.4444444444444444,
              "#bd3786"
             ],
             [
              0.5555555555555556,
              "#d8576b"
             ],
             [
              0.6666666666666666,
              "#ed7953"
             ],
             [
              0.7777777777777778,
              "#fb9f3a"
             ],
             [
              0.8888888888888888,
              "#fdca26"
             ],
             [
              1,
              "#f0f921"
             ]
            ],
            "type": "histogram2dcontour"
           }
          ],
          "mesh3d": [
           {
            "colorbar": {
             "outlinewidth": 0,
             "ticks": ""
            },
            "type": "mesh3d"
           }
          ],
          "parcoords": [
           {
            "line": {
             "colorbar": {
              "outlinewidth": 0,
              "ticks": ""
             }
            },
            "type": "parcoords"
           }
          ],
          "pie": [
           {
            "automargin": true,
            "type": "pie"
           }
          ],
          "scatter": [
           {
            "fillpattern": {
             "fillmode": "overlay",
             "size": 10,
             "solidity": 0.2
            },
            "type": "scatter"
           }
          ],
          "scatter3d": [
           {
            "line": {
             "colorbar": {
              "outlinewidth": 0,
              "ticks": ""
             }
            },
            "marker": {
             "colorbar": {
              "outlinewidth": 0,
              "ticks": ""
             }
            },
            "type": "scatter3d"
           }
          ],
          "scattercarpet": [
           {
            "marker": {
             "colorbar": {
              "outlinewidth": 0,
              "ticks": ""
             }
            },
            "type": "scattercarpet"
           }
          ],
          "scattergeo": [
           {
            "marker": {
             "colorbar": {
              "outlinewidth": 0,
              "ticks": ""
             }
            },
            "type": "scattergeo"
           }
          ],
          "scattergl": [
           {
            "marker": {
             "colorbar": {
              "outlinewidth": 0,
              "ticks": ""
             }
            },
            "type": "scattergl"
           }
          ],
          "scattermap": [
           {
            "marker": {
             "colorbar": {
              "outlinewidth": 0,
              "ticks": ""
             }
            },
            "type": "scattermap"
           }
          ],
          "scattermapbox": [
           {
            "marker": {
             "colorbar": {
              "outlinewidth": 0,
              "ticks": ""
             }
            },
            "type": "scattermapbox"
           }
          ],
          "scatterpolar": [
           {
            "marker": {
             "colorbar": {
              "outlinewidth": 0,
              "ticks": ""
             }
            },
            "type": "scatterpolar"
           }
          ],
          "scatterpolargl": [
           {
            "marker": {
             "colorbar": {
              "outlinewidth": 0,
              "ticks": ""
             }
            },
            "type": "scatterpolargl"
           }
          ],
          "scatterternary": [
           {
            "marker": {
             "colorbar": {
              "outlinewidth": 0,
              "ticks": ""
             }
            },
            "type": "scatterternary"
           }
          ],
          "surface": [
           {
            "colorbar": {
             "outlinewidth": 0,
             "ticks": ""
            },
            "colorscale": [
             [
              0,
              "#0d0887"
             ],
             [
              0.1111111111111111,
              "#46039f"
             ],
             [
              0.2222222222222222,
              "#7201a8"
             ],
             [
              0.3333333333333333,
              "#9c179e"
             ],
             [
              0.4444444444444444,
              "#bd3786"
             ],
             [
              0.5555555555555556,
              "#d8576b"
             ],
             [
              0.6666666666666666,
              "#ed7953"
             ],
             [
              0.7777777777777778,
              "#fb9f3a"
             ],
             [
              0.8888888888888888,
              "#fdca26"
             ],
             [
              1,
              "#f0f921"
             ]
            ],
            "type": "surface"
           }
          ],
          "table": [
           {
            "cells": {
             "fill": {
              "color": "#EBF0F8"
             },
             "line": {
              "color": "white"
             }
            },
            "header": {
             "fill": {
              "color": "#C8D4E3"
             },
             "line": {
              "color": "white"
             }
            },
            "type": "table"
           }
          ]
         },
         "layout": {
          "annotationdefaults": {
           "arrowcolor": "#2a3f5f",
           "arrowhead": 0,
           "arrowwidth": 1
          },
          "autotypenumbers": "strict",
          "coloraxis": {
           "colorbar": {
            "outlinewidth": 0,
            "ticks": ""
           }
          },
          "colorscale": {
           "diverging": [
            [
             0,
             "#8e0152"
            ],
            [
             0.1,
             "#c51b7d"
            ],
            [
             0.2,
             "#de77ae"
            ],
            [
             0.3,
             "#f1b6da"
            ],
            [
             0.4,
             "#fde0ef"
            ],
            [
             0.5,
             "#f7f7f7"
            ],
            [
             0.6,
             "#e6f5d0"
            ],
            [
             0.7,
             "#b8e186"
            ],
            [
             0.8,
             "#7fbc41"
            ],
            [
             0.9,
             "#4d9221"
            ],
            [
             1,
             "#276419"
            ]
           ],
           "sequential": [
            [
             0,
             "#0d0887"
            ],
            [
             0.1111111111111111,
             "#46039f"
            ],
            [
             0.2222222222222222,
             "#7201a8"
            ],
            [
             0.3333333333333333,
             "#9c179e"
            ],
            [
             0.4444444444444444,
             "#bd3786"
            ],
            [
             0.5555555555555556,
             "#d8576b"
            ],
            [
             0.6666666666666666,
             "#ed7953"
            ],
            [
             0.7777777777777778,
             "#fb9f3a"
            ],
            [
             0.8888888888888888,
             "#fdca26"
            ],
            [
             1,
             "#f0f921"
            ]
           ],
           "sequentialminus": [
            [
             0,
             "#0d0887"
            ],
            [
             0.1111111111111111,
             "#46039f"
            ],
            [
             0.2222222222222222,
             "#7201a8"
            ],
            [
             0.3333333333333333,
             "#9c179e"
            ],
            [
             0.4444444444444444,
             "#bd3786"
            ],
            [
             0.5555555555555556,
             "#d8576b"
            ],
            [
             0.6666666666666666,
             "#ed7953"
            ],
            [
             0.7777777777777778,
             "#fb9f3a"
            ],
            [
             0.8888888888888888,
             "#fdca26"
            ],
            [
             1,
             "#f0f921"
            ]
           ]
          },
          "colorway": [
           "#636efa",
           "#EF553B",
           "#00cc96",
           "#ab63fa",
           "#FFA15A",
           "#19d3f3",
           "#FF6692",
           "#B6E880",
           "#FF97FF",
           "#FECB52"
          ],
          "font": {
           "color": "#2a3f5f"
          },
          "geo": {
           "bgcolor": "white",
           "lakecolor": "white",
           "landcolor": "#E5ECF6",
           "showlakes": true,
           "showland": true,
           "subunitcolor": "white"
          },
          "hoverlabel": {
           "align": "left"
          },
          "hovermode": "closest",
          "mapbox": {
           "style": "light"
          },
          "paper_bgcolor": "white",
          "plot_bgcolor": "#E5ECF6",
          "polar": {
           "angularaxis": {
            "gridcolor": "white",
            "linecolor": "white",
            "ticks": ""
           },
           "bgcolor": "#E5ECF6",
           "radialaxis": {
            "gridcolor": "white",
            "linecolor": "white",
            "ticks": ""
           }
          },
          "scene": {
           "xaxis": {
            "backgroundcolor": "#E5ECF6",
            "gridcolor": "white",
            "gridwidth": 2,
            "linecolor": "white",
            "showbackground": true,
            "ticks": "",
            "zerolinecolor": "white"
           },
           "yaxis": {
            "backgroundcolor": "#E5ECF6",
            "gridcolor": "white",
            "gridwidth": 2,
            "linecolor": "white",
            "showbackground": true,
            "ticks": "",
            "zerolinecolor": "white"
           },
           "zaxis": {
            "backgroundcolor": "#E5ECF6",
            "gridcolor": "white",
            "gridwidth": 2,
            "linecolor": "white",
            "showbackground": true,
            "ticks": "",
            "zerolinecolor": "white"
           }
          },
          "shapedefaults": {
           "line": {
            "color": "#2a3f5f"
           }
          },
          "ternary": {
           "aaxis": {
            "gridcolor": "white",
            "linecolor": "white",
            "ticks": ""
           },
           "baxis": {
            "gridcolor": "white",
            "linecolor": "white",
            "ticks": ""
           },
           "bgcolor": "#E5ECF6",
           "caxis": {
            "gridcolor": "white",
            "linecolor": "white",
            "ticks": ""
           }
          },
          "title": {
           "x": 0.05
          },
          "xaxis": {
           "automargin": true,
           "gridcolor": "white",
           "linecolor": "white",
           "ticks": "",
           "title": {
            "standoff": 15
           },
           "zerolinecolor": "white",
           "zerolinewidth": 2
          },
          "yaxis": {
           "automargin": true,
           "gridcolor": "white",
           "linecolor": "white",
           "ticks": "",
           "title": {
            "standoff": 15
           },
           "zerolinecolor": "white",
           "zerolinewidth": 2
          }
         }
        },
        "title": {
         "text": "Percentage of Total Amount by City"
        }
       }
      }
     },
     "metadata": {},
     "output_type": "display_data"
    }
   ],
   "source": [
    "plots('City', top10=True)"
   ]
  },
  {
   "cell_type": "markdown",
   "metadata": {},
   "source": [
    "#### Orders Date vs Total Amount"
   ]
  },
  {
   "cell_type": "code",
   "execution_count": 24,
   "metadata": {},
   "outputs": [],
   "source": [
    "date_total = df[['OrderDate', 'TotalAmount']]\n",
    "date_total = date_total.set_index('OrderDate')"
   ]
  },
  {
   "cell_type": "code",
   "execution_count": 25,
   "metadata": {},
   "outputs": [
    {
     "data": {
      "application/vnd.plotly.v1+json": {
       "config": {
        "plotlyServerURL": "https://plot.ly"
       },
       "data": [
        {
         "hovertemplate": "variable=TotalAmount<br>OrderDate=%{x}<br>value=%{y}<extra></extra>",
         "legendgroup": "TotalAmount",
         "line": {
          "color": "#636efa",
          "dash": "solid"
         },
         "marker": {
          "symbol": "circle"
         },
         "mode": "lines",
         "name": "TotalAmount",
         "showlegend": true,
         "type": "scattergl",
         "x": [
          "2012-07-04T00:00:00.000000000",
          "2012-07-04T00:00:00.000000000",
          "2012-07-04T00:00:00.000000000",
          "2012-07-05T00:00:00.000000000",
          "2012-07-05T00:00:00.000000000",
          "2012-07-08T00:00:00.000000000",
          "2012-07-08T00:00:00.000000000",
          "2012-07-08T00:00:00.000000000",
          "2012-07-08T00:00:00.000000000",
          "2012-07-08T00:00:00.000000000",
          "2012-07-08T00:00:00.000000000",
          "2012-07-09T00:00:00.000000000",
          "2012-07-09T00:00:00.000000000",
          "2012-07-09T00:00:00.000000000",
          "2012-07-10T00:00:00.000000000",
          "2012-07-10T00:00:00.000000000",
          "2012-07-10T00:00:00.000000000",
          "2012-07-11T00:00:00.000000000",
          "2012-07-11T00:00:00.000000000",
          "2012-07-11T00:00:00.000000000",
          "2012-07-12T00:00:00.000000000",
          "2012-07-12T00:00:00.000000000",
          "2012-07-12T00:00:00.000000000",
          "2012-07-12T00:00:00.000000000",
          "2012-07-15T00:00:00.000000000",
          "2012-07-15T00:00:00.000000000",
          "2012-07-16T00:00:00.000000000",
          "2012-07-16T00:00:00.000000000",
          "2012-07-16T00:00:00.000000000",
          "2012-07-17T00:00:00.000000000",
          "2012-07-17T00:00:00.000000000",
          "2012-07-17T00:00:00.000000000",
          "2012-07-18T00:00:00.000000000",
          "2012-07-18T00:00:00.000000000",
          "2012-07-19T00:00:00.000000000",
          "2012-07-19T00:00:00.000000000",
          "2012-07-19T00:00:00.000000000",
          "2012-07-19T00:00:00.000000000",
          "2012-07-19T00:00:00.000000000",
          "2012-07-19T00:00:00.000000000",
          "2012-07-22T00:00:00.000000000",
          "2012-07-22T00:00:00.000000000",
          "2012-07-22T00:00:00.000000000",
          "2012-07-23T00:00:00.000000000",
          "2012-07-23T00:00:00.000000000",
          "2012-07-23T00:00:00.000000000",
          "2012-07-23T00:00:00.000000000",
          "2012-07-24T00:00:00.000000000",
          "2012-07-24T00:00:00.000000000",
          "2012-07-25T00:00:00.000000000",
          "2012-07-25T00:00:00.000000000",
          "2012-07-26T00:00:00.000000000",
          "2012-07-29T00:00:00.000000000",
          "2012-07-29T00:00:00.000000000",
          "2012-07-29T00:00:00.000000000",
          "2012-07-30T00:00:00.000000000",
          "2012-07-30T00:00:00.000000000",
          "2012-07-31T00:00:00.000000000",
          "2012-07-31T00:00:00.000000000",
          "2012-08-01T00:00:00.000000000",
          "2012-08-01T00:00:00.000000000",
          "2012-08-01T00:00:00.000000000",
          "2012-08-02T00:00:00.000000000",
          "2012-08-02T00:00:00.000000000",
          "2012-08-02T00:00:00.000000000",
          "2012-08-05T00:00:00.000000000",
          "2012-08-05T00:00:00.000000000",
          "2012-08-05T00:00:00.000000000",
          "2012-08-05T00:00:00.000000000",
          "2012-08-05T00:00:00.000000000",
          "2012-08-06T00:00:00.000000000",
          "2012-08-06T00:00:00.000000000",
          "2012-08-07T00:00:00.000000000",
          "2012-08-07T00:00:00.000000000",
          "2012-08-08T00:00:00.000000000",
          "2012-08-08T00:00:00.000000000",
          "2012-08-09T00:00:00.000000000",
          "2012-08-09T00:00:00.000000000",
          "2012-08-12T00:00:00.000000000",
          "2012-08-12T00:00:00.000000000",
          "2012-08-12T00:00:00.000000000",
          "2012-08-12T00:00:00.000000000",
          "2012-08-13T00:00:00.000000000",
          "2012-08-14T00:00:00.000000000",
          "2012-08-14T00:00:00.000000000",
          "2012-08-14T00:00:00.000000000",
          "2012-08-14T00:00:00.000000000",
          "2012-08-14T00:00:00.000000000",
          "2012-08-14T00:00:00.000000000",
          "2012-08-15T00:00:00.000000000",
          "2012-08-15T00:00:00.000000000",
          "2012-08-16T00:00:00.000000000",
          "2012-08-16T00:00:00.000000000",
          "2012-08-16T00:00:00.000000000",
          "2012-08-16T00:00:00.000000000",
          "2012-08-19T00:00:00.000000000",
          "2012-08-19T00:00:00.000000000",
          "2012-08-19T00:00:00.000000000",
          "2012-08-19T00:00:00.000000000",
          "2012-08-20T00:00:00.000000000",
          "2012-08-20T00:00:00.000000000",
          "2012-08-20T00:00:00.000000000",
          "2012-08-21T00:00:00.000000000",
          "2012-08-21T00:00:00.000000000",
          "2012-08-22T00:00:00.000000000",
          "2012-08-22T00:00:00.000000000",
          "2012-08-22T00:00:00.000000000",
          "2012-08-23T00:00:00.000000000",
          "2012-08-23T00:00:00.000000000",
          "2012-08-26T00:00:00.000000000",
          "2012-08-26T00:00:00.000000000",
          "2012-08-27T00:00:00.000000000",
          "2012-08-27T00:00:00.000000000",
          "2012-08-27T00:00:00.000000000",
          "2012-08-27T00:00:00.000000000",
          "2012-08-27T00:00:00.000000000",
          "2012-08-27T00:00:00.000000000",
          "2012-08-27T00:00:00.000000000",
          "2012-08-28T00:00:00.000000000",
          "2012-08-29T00:00:00.000000000",
          "2012-08-29T00:00:00.000000000",
          "2012-08-29T00:00:00.000000000",
          "2012-08-29T00:00:00.000000000",
          "2012-08-30T00:00:00.000000000",
          "2012-08-30T00:00:00.000000000",
          "2012-08-30T00:00:00.000000000",
          "2012-08-30T00:00:00.000000000",
          "2012-08-30T00:00:00.000000000",
          "2012-09-02T00:00:00.000000000",
          "2012-09-03T00:00:00.000000000",
          "2012-09-03T00:00:00.000000000",
          "2012-09-03T00:00:00.000000000",
          "2012-09-04T00:00:00.000000000",
          "2012-09-04T00:00:00.000000000",
          "2012-09-05T00:00:00.000000000",
          "2012-09-05T00:00:00.000000000",
          "2012-09-05T00:00:00.000000000",
          "2012-09-05T00:00:00.000000000",
          "2012-09-06T00:00:00.000000000",
          "2012-09-06T00:00:00.000000000",
          "2012-09-09T00:00:00.000000000",
          "2012-09-09T00:00:00.000000000",
          "2012-09-09T00:00:00.000000000",
          "2012-09-09T00:00:00.000000000",
          "2012-09-10T00:00:00.000000000",
          "2012-09-10T00:00:00.000000000",
          "2012-09-10T00:00:00.000000000",
          "2012-09-11T00:00:00.000000000",
          "2012-09-11T00:00:00.000000000",
          "2012-09-11T00:00:00.000000000",
          "2012-09-12T00:00:00.000000000",
          "2012-09-12T00:00:00.000000000",
          "2012-09-12T00:00:00.000000000",
          "2012-09-13T00:00:00.000000000",
          "2012-09-13T00:00:00.000000000",
          "2012-09-13T00:00:00.000000000",
          "2012-09-16T00:00:00.000000000",
          "2012-09-16T00:00:00.000000000",
          "2012-09-16T00:00:00.000000000",
          "2012-09-17T00:00:00.000000000",
          "2012-09-17T00:00:00.000000000",
          "2012-09-18T00:00:00.000000000",
          "2012-09-18T00:00:00.000000000",
          "2012-09-19T00:00:00.000000000",
          "2012-09-19T00:00:00.000000000",
          "2012-09-19T00:00:00.000000000",
          "2012-09-19T00:00:00.000000000",
          "2012-09-19T00:00:00.000000000",
          "2012-09-20T00:00:00.000000000",
          "2012-09-20T00:00:00.000000000",
          "2012-09-20T00:00:00.000000000",
          "2012-09-20T00:00:00.000000000",
          "2012-09-23T00:00:00.000000000",
          "2012-09-23T00:00:00.000000000",
          "2012-09-23T00:00:00.000000000",
          "2012-09-23T00:00:00.000000000",
          "2012-09-24T00:00:00.000000000",
          "2012-09-25T00:00:00.000000000",
          "2012-09-25T00:00:00.000000000",
          "2012-09-25T00:00:00.000000000",
          "2012-09-26T00:00:00.000000000",
          "2012-09-26T00:00:00.000000000",
          "2012-09-27T00:00:00.000000000",
          "2012-09-27T00:00:00.000000000",
          "2012-09-30T00:00:00.000000000",
          "2012-10-01T00:00:00.000000000",
          "2012-10-01T00:00:00.000000000",
          "2012-10-02T00:00:00.000000000",
          "2012-10-02T00:00:00.000000000",
          "2012-10-02T00:00:00.000000000",
          "2012-10-03T00:00:00.000000000",
          "2012-10-03T00:00:00.000000000",
          "2012-10-04T00:00:00.000000000",
          "2012-10-07T00:00:00.000000000",
          "2012-10-07T00:00:00.000000000",
          "2012-10-07T00:00:00.000000000",
          "2012-10-08T00:00:00.000000000",
          "2012-10-08T00:00:00.000000000",
          "2012-10-08T00:00:00.000000000",
          "2012-10-08T00:00:00.000000000",
          "2012-10-08T00:00:00.000000000",
          "2012-10-09T00:00:00.000000000",
          "2012-10-09T00:00:00.000000000",
          "2012-10-09T00:00:00.000000000",
          "2012-10-09T00:00:00.000000000",
          "2012-10-09T00:00:00.000000000",
          "2012-10-10T00:00:00.000000000",
          "2012-10-10T00:00:00.000000000",
          "2012-10-10T00:00:00.000000000",
          "2012-10-11T00:00:00.000000000",
          "2012-10-11T00:00:00.000000000",
          "2012-10-11T00:00:00.000000000",
          "2012-10-11T00:00:00.000000000",
          "2012-10-14T00:00:00.000000000",
          "2012-10-14T00:00:00.000000000",
          "2012-10-14T00:00:00.000000000",
          "2012-10-15T00:00:00.000000000",
          "2012-10-15T00:00:00.000000000",
          "2012-10-15T00:00:00.000000000",
          "2012-10-15T00:00:00.000000000",
          "2012-10-16T00:00:00.000000000",
          "2012-10-16T00:00:00.000000000",
          "2012-10-16T00:00:00.000000000",
          "2012-10-17T00:00:00.000000000",
          "2012-10-17T00:00:00.000000000",
          "2012-10-17T00:00:00.000000000",
          "2012-10-18T00:00:00.000000000",
          "2012-10-18T00:00:00.000000000",
          "2012-10-18T00:00:00.000000000",
          "2012-10-21T00:00:00.000000000",
          "2012-10-21T00:00:00.000000000",
          "2012-10-22T00:00:00.000000000",
          "2012-10-22T00:00:00.000000000",
          "2012-10-22T00:00:00.000000000",
          "2012-10-22T00:00:00.000000000",
          "2012-10-23T00:00:00.000000000",
          "2012-10-24T00:00:00.000000000",
          "2012-10-24T00:00:00.000000000",
          "2012-10-24T00:00:00.000000000",
          "2012-10-24T00:00:00.000000000",
          "2012-10-24T00:00:00.000000000",
          "2012-10-25T00:00:00.000000000",
          "2012-10-25T00:00:00.000000000",
          "2012-10-28T00:00:00.000000000",
          "2012-10-28T00:00:00.000000000",
          "2012-10-28T00:00:00.000000000",
          "2012-10-29T00:00:00.000000000",
          "2012-10-29T00:00:00.000000000",
          "2012-10-29T00:00:00.000000000",
          "2012-10-29T00:00:00.000000000",
          "2012-10-29T00:00:00.000000000",
          "2012-10-30T00:00:00.000000000",
          "2012-10-30T00:00:00.000000000",
          "2012-10-30T00:00:00.000000000",
          "2012-10-30T00:00:00.000000000",
          "2012-10-31T00:00:00.000000000",
          "2012-10-31T00:00:00.000000000",
          "2012-10-31T00:00:00.000000000",
          "2012-11-01T00:00:00.000000000",
          "2012-11-01T00:00:00.000000000",
          "2012-11-04T00:00:00.000000000",
          "2012-11-04T00:00:00.000000000",
          "2012-11-04T00:00:00.000000000",
          "2012-11-05T00:00:00.000000000",
          "2012-11-05T00:00:00.000000000",
          "2012-11-06T00:00:00.000000000",
          "2012-11-06T00:00:00.000000000",
          "2012-11-06T00:00:00.000000000",
          "2012-11-06T00:00:00.000000000",
          "2012-11-07T00:00:00.000000000",
          "2012-11-07T00:00:00.000000000",
          "2012-11-08T00:00:00.000000000",
          "2012-11-11T00:00:00.000000000",
          "2012-11-11T00:00:00.000000000",
          "2012-11-11T00:00:00.000000000",
          "2012-11-11T00:00:00.000000000",
          "2012-11-11T00:00:00.000000000",
          "2012-11-11T00:00:00.000000000",
          "2012-11-12T00:00:00.000000000",
          "2012-11-12T00:00:00.000000000",
          "2012-11-13T00:00:00.000000000",
          "2012-11-13T00:00:00.000000000",
          "2012-11-14T00:00:00.000000000",
          "2012-11-14T00:00:00.000000000",
          "2012-11-15T00:00:00.000000000",
          "2012-11-15T00:00:00.000000000",
          "2012-11-18T00:00:00.000000000",
          "2012-11-18T00:00:00.000000000",
          "2012-11-18T00:00:00.000000000",
          "2012-11-19T00:00:00.000000000",
          "2012-11-19T00:00:00.000000000",
          "2012-11-19T00:00:00.000000000",
          "2012-11-20T00:00:00.000000000",
          "2012-11-20T00:00:00.000000000",
          "2012-11-20T00:00:00.000000000",
          "2012-11-21T00:00:00.000000000",
          "2012-11-21T00:00:00.000000000",
          "2012-11-21T00:00:00.000000000",
          "2012-11-22T00:00:00.000000000",
          "2012-11-22T00:00:00.000000000",
          "2012-11-22T00:00:00.000000000",
          "2012-11-22T00:00:00.000000000",
          "2012-11-22T00:00:00.000000000",
          "2012-11-22T00:00:00.000000000",
          "2012-11-22T00:00:00.000000000",
          "2012-11-25T00:00:00.000000000",
          "2012-11-25T00:00:00.000000000",
          "2012-11-25T00:00:00.000000000",
          "2012-11-26T00:00:00.000000000",
          "2012-11-26T00:00:00.000000000",
          "2012-11-26T00:00:00.000000000",
          "2012-11-26T00:00:00.000000000",
          "2012-11-26T00:00:00.000000000",
          "2012-11-27T00:00:00.000000000",
          "2012-11-28T00:00:00.000000000",
          "2012-11-28T00:00:00.000000000",
          "2012-11-28T00:00:00.000000000",
          "2012-11-28T00:00:00.000000000",
          "2012-11-28T00:00:00.000000000",
          "2012-11-28T00:00:00.000000000",
          "2012-11-29T00:00:00.000000000",
          "2012-11-29T00:00:00.000000000",
          "2012-11-29T00:00:00.000000000",
          "2012-11-29T00:00:00.000000000",
          "2012-12-02T00:00:00.000000000",
          "2012-12-02T00:00:00.000000000",
          "2012-12-03T00:00:00.000000000",
          "2012-12-03T00:00:00.000000000",
          "2012-12-03T00:00:00.000000000",
          "2012-12-03T00:00:00.000000000",
          "2012-12-04T00:00:00.000000000",
          "2012-12-04T00:00:00.000000000",
          "2012-12-04T00:00:00.000000000",
          "2012-12-04T00:00:00.000000000",
          "2012-12-05T00:00:00.000000000",
          "2012-12-05T00:00:00.000000000",
          "2012-12-05T00:00:00.000000000",
          "2012-12-05T00:00:00.000000000",
          "2012-12-06T00:00:00.000000000",
          "2012-12-06T00:00:00.000000000",
          "2012-12-09T00:00:00.000000000",
          "2012-12-09T00:00:00.000000000",
          "2012-12-09T00:00:00.000000000",
          "2012-12-10T00:00:00.000000000",
          "2012-12-11T00:00:00.000000000",
          "2012-12-11T00:00:00.000000000",
          "2012-12-11T00:00:00.000000000",
          "2012-12-12T00:00:00.000000000",
          "2012-12-12T00:00:00.000000000",
          "2012-12-12T00:00:00.000000000",
          "2012-12-12T00:00:00.000000000",
          "2012-12-12T00:00:00.000000000",
          "2012-12-13T00:00:00.000000000",
          "2012-12-13T00:00:00.000000000",
          "2012-12-13T00:00:00.000000000",
          "2012-12-13T00:00:00.000000000",
          "2012-12-13T00:00:00.000000000",
          "2012-12-16T00:00:00.000000000",
          "2012-12-16T00:00:00.000000000",
          "2012-12-16T00:00:00.000000000",
          "2012-12-16T00:00:00.000000000",
          "2012-12-16T00:00:00.000000000",
          "2012-12-17T00:00:00.000000000",
          "2012-12-17T00:00:00.000000000",
          "2012-12-17T00:00:00.000000000",
          "2012-12-18T00:00:00.000000000",
          "2012-12-18T00:00:00.000000000",
          "2012-12-18T00:00:00.000000000",
          "2012-12-18T00:00:00.000000000",
          "2012-12-18T00:00:00.000000000",
          "2012-12-18T00:00:00.000000000",
          "2012-12-19T00:00:00.000000000",
          "2012-12-19T00:00:00.000000000",
          "2012-12-19T00:00:00.000000000",
          "2012-12-20T00:00:00.000000000",
          "2012-12-20T00:00:00.000000000",
          "2012-12-20T00:00:00.000000000",
          "2012-12-20T00:00:00.000000000",
          "2012-12-23T00:00:00.000000000",
          "2012-12-23T00:00:00.000000000",
          "2012-12-23T00:00:00.000000000",
          "2012-12-23T00:00:00.000000000",
          "2012-12-23T00:00:00.000000000",
          "2012-12-24T00:00:00.000000000",
          "2012-12-25T00:00:00.000000000",
          "2012-12-25T00:00:00.000000000",
          "2012-12-25T00:00:00.000000000",
          "2012-12-25T00:00:00.000000000",
          "2012-12-25T00:00:00.000000000",
          "2012-12-25T00:00:00.000000000",
          "2012-12-25T00:00:00.000000000",
          "2012-12-26T00:00:00.000000000",
          "2012-12-26T00:00:00.000000000",
          "2012-12-26T00:00:00.000000000",
          "2012-12-27T00:00:00.000000000",
          "2012-12-27T00:00:00.000000000",
          "2012-12-27T00:00:00.000000000",
          "2012-12-27T00:00:00.000000000",
          "2012-12-27T00:00:00.000000000",
          "2012-12-30T00:00:00.000000000",
          "2012-12-30T00:00:00.000000000",
          "2012-12-31T00:00:00.000000000",
          "2012-12-31T00:00:00.000000000",
          "2012-12-31T00:00:00.000000000",
          "2012-12-31T00:00:00.000000000",
          "2013-01-01T00:00:00.000000000",
          "2013-01-01T00:00:00.000000000",
          "2013-01-01T00:00:00.000000000",
          "2013-01-01T00:00:00.000000000",
          "2013-01-01T00:00:00.000000000",
          "2013-01-01T00:00:00.000000000",
          "2013-01-01T00:00:00.000000000",
          "2013-01-02T00:00:00.000000000",
          "2013-01-02T00:00:00.000000000",
          "2013-01-03T00:00:00.000000000",
          "2013-01-03T00:00:00.000000000",
          "2013-01-03T00:00:00.000000000",
          "2013-01-03T00:00:00.000000000",
          "2013-01-03T00:00:00.000000000",
          "2013-01-06T00:00:00.000000000",
          "2013-01-07T00:00:00.000000000",
          "2013-01-07T00:00:00.000000000",
          "2013-01-07T00:00:00.000000000",
          "2013-01-07T00:00:00.000000000",
          "2013-01-07T00:00:00.000000000",
          "2013-01-07T00:00:00.000000000",
          "2013-01-07T00:00:00.000000000",
          "2013-01-07T00:00:00.000000000",
          "2013-01-08T00:00:00.000000000",
          "2013-01-08T00:00:00.000000000",
          "2013-01-08T00:00:00.000000000",
          "2013-01-09T00:00:00.000000000",
          "2013-01-09T00:00:00.000000000",
          "2013-01-10T00:00:00.000000000",
          "2013-01-10T00:00:00.000000000",
          "2013-01-10T00:00:00.000000000",
          "2013-01-10T00:00:00.000000000",
          "2013-01-10T00:00:00.000000000",
          "2013-01-13T00:00:00.000000000",
          "2013-01-14T00:00:00.000000000",
          "2013-01-14T00:00:00.000000000",
          "2013-01-14T00:00:00.000000000",
          "2013-01-14T00:00:00.000000000",
          "2013-01-14T00:00:00.000000000",
          "2013-01-15T00:00:00.000000000",
          "2013-01-15T00:00:00.000000000",
          "2013-01-16T00:00:00.000000000",
          "2013-01-16T00:00:00.000000000",
          "2013-01-16T00:00:00.000000000",
          "2013-01-16T00:00:00.000000000",
          "2013-01-16T00:00:00.000000000",
          "2013-01-16T00:00:00.000000000",
          "2013-01-16T00:00:00.000000000",
          "2013-01-17T00:00:00.000000000",
          "2013-01-17T00:00:00.000000000",
          "2013-01-17T00:00:00.000000000",
          "2013-01-17T00:00:00.000000000",
          "2013-01-20T00:00:00.000000000",
          "2013-01-20T00:00:00.000000000",
          "2013-01-21T00:00:00.000000000",
          "2013-01-21T00:00:00.000000000",
          "2013-01-21T00:00:00.000000000",
          "2013-01-21T00:00:00.000000000",
          "2013-01-21T00:00:00.000000000",
          "2013-01-21T00:00:00.000000000",
          "2013-01-21T00:00:00.000000000",
          "2013-01-21T00:00:00.000000000",
          "2013-01-22T00:00:00.000000000",
          "2013-01-23T00:00:00.000000000",
          "2013-01-23T00:00:00.000000000",
          "2013-01-23T00:00:00.000000000",
          "2013-01-23T00:00:00.000000000",
          "2013-01-23T00:00:00.000000000",
          "2013-01-24T00:00:00.000000000",
          "2013-01-24T00:00:00.000000000",
          "2013-01-27T00:00:00.000000000",
          "2013-01-27T00:00:00.000000000",
          "2013-01-27T00:00:00.000000000",
          "2013-01-28T00:00:00.000000000",
          "2013-01-29T00:00:00.000000000",
          "2013-01-29T00:00:00.000000000",
          "2013-01-30T00:00:00.000000000",
          "2013-01-30T00:00:00.000000000",
          "2013-01-30T00:00:00.000000000",
          "2013-01-30T00:00:00.000000000",
          "2013-01-30T00:00:00.000000000",
          "2013-01-30T00:00:00.000000000",
          "2013-01-30T00:00:00.000000000",
          "2013-01-31T00:00:00.000000000",
          "2013-01-31T00:00:00.000000000",
          "2013-02-03T00:00:00.000000000",
          "2013-02-03T00:00:00.000000000",
          "2013-02-03T00:00:00.000000000",
          "2013-02-04T00:00:00.000000000",
          "2013-02-04T00:00:00.000000000",
          "2013-02-04T00:00:00.000000000",
          "2013-02-05T00:00:00.000000000",
          "2013-02-05T00:00:00.000000000",
          "2013-02-05T00:00:00.000000000",
          "2013-02-05T00:00:00.000000000",
          "2013-02-05T00:00:00.000000000",
          "2013-02-06T00:00:00.000000000",
          "2013-02-06T00:00:00.000000000",
          "2013-02-06T00:00:00.000000000",
          "2013-02-07T00:00:00.000000000",
          "2013-02-07T00:00:00.000000000",
          "2013-02-07T00:00:00.000000000",
          "2013-02-07T00:00:00.000000000",
          "2013-02-10T00:00:00.000000000",
          "2013-02-10T00:00:00.000000000",
          "2013-02-10T00:00:00.000000000",
          "2013-02-10T00:00:00.000000000",
          "2013-02-10T00:00:00.000000000",
          "2013-02-11T00:00:00.000000000",
          "2013-02-11T00:00:00.000000000",
          "2013-02-11T00:00:00.000000000",
          "2013-02-12T00:00:00.000000000",
          "2013-02-12T00:00:00.000000000",
          "2013-02-12T00:00:00.000000000",
          "2013-02-12T00:00:00.000000000",
          "2013-02-12T00:00:00.000000000",
          "2013-02-12T00:00:00.000000000",
          "2013-02-13T00:00:00.000000000",
          "2013-02-13T00:00:00.000000000",
          "2013-02-14T00:00:00.000000000",
          "2013-02-14T00:00:00.000000000",
          "2013-02-14T00:00:00.000000000",
          "2013-02-14T00:00:00.000000000",
          "2013-02-14T00:00:00.000000000",
          "2013-02-14T00:00:00.000000000",
          "2013-02-14T00:00:00.000000000",
          "2013-02-17T00:00:00.000000000",
          "2013-02-17T00:00:00.000000000",
          "2013-02-18T00:00:00.000000000",
          "2013-02-18T00:00:00.000000000",
          "2013-02-18T00:00:00.000000000",
          "2013-02-19T00:00:00.000000000",
          "2013-02-19T00:00:00.000000000",
          "2013-02-19T00:00:00.000000000",
          "2013-02-19T00:00:00.000000000",
          "2013-02-19T00:00:00.000000000",
          "2013-02-19T00:00:00.000000000",
          "2013-02-20T00:00:00.000000000",
          "2013-02-20T00:00:00.000000000",
          "2013-02-21T00:00:00.000000000",
          "2013-02-21T00:00:00.000000000",
          "2013-02-21T00:00:00.000000000",
          "2013-02-21T00:00:00.000000000",
          "2013-02-21T00:00:00.000000000",
          "2013-02-24T00:00:00.000000000",
          "2013-02-24T00:00:00.000000000",
          "2013-02-24T00:00:00.000000000",
          "2013-02-24T00:00:00.000000000",
          "2013-02-25T00:00:00.000000000",
          "2013-02-25T00:00:00.000000000",
          "2013-02-25T00:00:00.000000000",
          "2013-02-26T00:00:00.000000000",
          "2013-02-26T00:00:00.000000000",
          "2013-02-26T00:00:00.000000000",
          "2013-02-26T00:00:00.000000000",
          "2013-02-26T00:00:00.000000000",
          "2013-02-27T00:00:00.000000000",
          "2013-02-27T00:00:00.000000000",
          "2013-02-27T00:00:00.000000000",
          "2013-02-28T00:00:00.000000000",
          "2013-02-28T00:00:00.000000000",
          "2013-02-28T00:00:00.000000000",
          "2013-02-28T00:00:00.000000000",
          "2013-02-28T00:00:00.000000000",
          "2013-03-03T00:00:00.000000000",
          "2013-03-03T00:00:00.000000000",
          "2013-03-04T00:00:00.000000000",
          "2013-03-04T00:00:00.000000000",
          "2013-03-04T00:00:00.000000000",
          "2013-03-04T00:00:00.000000000",
          "2013-03-04T00:00:00.000000000",
          "2013-03-04T00:00:00.000000000",
          "2013-03-05T00:00:00.000000000",
          "2013-03-05T00:00:00.000000000",
          "2013-03-05T00:00:00.000000000",
          "2013-03-05T00:00:00.000000000",
          "2013-03-05T00:00:00.000000000",
          "2013-03-06T00:00:00.000000000",
          "2013-03-06T00:00:00.000000000",
          "2013-03-06T00:00:00.000000000",
          "2013-03-06T00:00:00.000000000",
          "2013-03-07T00:00:00.000000000",
          "2013-03-07T00:00:00.000000000",
          "2013-03-10T00:00:00.000000000",
          "2013-03-10T00:00:00.000000000",
          "2013-03-10T00:00:00.000000000",
          "2013-03-11T00:00:00.000000000",
          "2013-03-11T00:00:00.000000000",
          "2013-03-11T00:00:00.000000000",
          "2013-03-11T00:00:00.000000000",
          "2013-03-11T00:00:00.000000000",
          "2013-03-12T00:00:00.000000000",
          "2013-03-12T00:00:00.000000000",
          "2013-03-13T00:00:00.000000000",
          "2013-03-13T00:00:00.000000000",
          "2013-03-13T00:00:00.000000000",
          "2013-03-13T00:00:00.000000000",
          "2013-03-13T00:00:00.000000000",
          "2013-03-13T00:00:00.000000000",
          "2013-03-14T00:00:00.000000000",
          "2013-03-14T00:00:00.000000000",
          "2013-03-14T00:00:00.000000000",
          "2013-03-17T00:00:00.000000000",
          "2013-03-17T00:00:00.000000000",
          "2013-03-17T00:00:00.000000000",
          "2013-03-17T00:00:00.000000000",
          "2013-03-17T00:00:00.000000000",
          "2013-03-18T00:00:00.000000000",
          "2013-03-19T00:00:00.000000000",
          "2013-03-19T00:00:00.000000000",
          "2013-03-19T00:00:00.000000000",
          "2013-03-19T00:00:00.000000000",
          "2013-03-20T00:00:00.000000000",
          "2013-03-20T00:00:00.000000000",
          "2013-03-20T00:00:00.000000000",
          "2013-03-20T00:00:00.000000000",
          "2013-03-21T00:00:00.000000000",
          "2013-03-24T00:00:00.000000000",
          "2013-03-24T00:00:00.000000000",
          "2013-03-24T00:00:00.000000000",
          "2013-03-24T00:00:00.000000000",
          "2013-03-24T00:00:00.000000000",
          "2013-03-25T00:00:00.000000000",
          "2013-03-25T00:00:00.000000000",
          "2013-03-25T00:00:00.000000000",
          "2013-03-25T00:00:00.000000000",
          "2013-03-26T00:00:00.000000000",
          "2013-03-26T00:00:00.000000000",
          "2013-03-26T00:00:00.000000000",
          "2013-03-26T00:00:00.000000000",
          "2013-03-26T00:00:00.000000000",
          "2013-03-26T00:00:00.000000000",
          "2013-03-27T00:00:00.000000000",
          "2013-03-27T00:00:00.000000000",
          "2013-03-28T00:00:00.000000000",
          "2013-03-28T00:00:00.000000000",
          "2013-03-31T00:00:00.000000000",
          "2013-03-31T00:00:00.000000000",
          "2013-03-31T00:00:00.000000000",
          "2013-03-31T00:00:00.000000000",
          "2013-03-31T00:00:00.000000000",
          "2013-04-01T00:00:00.000000000",
          "2013-04-01T00:00:00.000000000",
          "2013-04-02T00:00:00.000000000",
          "2013-04-02T00:00:00.000000000",
          "2013-04-02T00:00:00.000000000",
          "2013-04-02T00:00:00.000000000",
          "2013-04-03T00:00:00.000000000",
          "2013-04-03T00:00:00.000000000",
          "2013-04-03T00:00:00.000000000",
          "2013-04-04T00:00:00.000000000",
          "2013-04-04T00:00:00.000000000",
          "2013-04-04T00:00:00.000000000",
          "2013-04-04T00:00:00.000000000",
          "2013-04-07T00:00:00.000000000",
          "2013-04-07T00:00:00.000000000",
          "2013-04-07T00:00:00.000000000",
          "2013-04-08T00:00:00.000000000",
          "2013-04-08T00:00:00.000000000",
          "2013-04-09T00:00:00.000000000",
          "2013-04-09T00:00:00.000000000",
          "2013-04-09T00:00:00.000000000",
          "2013-04-10T00:00:00.000000000",
          "2013-04-10T00:00:00.000000000",
          "2013-04-10T00:00:00.000000000",
          "2013-04-11T00:00:00.000000000",
          "2013-04-11T00:00:00.000000000",
          "2013-04-11T00:00:00.000000000",
          "2013-04-11T00:00:00.000000000",
          "2013-04-11T00:00:00.000000000",
          "2013-04-11T00:00:00.000000000",
          "2013-04-14T00:00:00.000000000",
          "2013-04-15T00:00:00.000000000",
          "2013-04-15T00:00:00.000000000",
          "2013-04-15T00:00:00.000000000",
          "2013-04-15T00:00:00.000000000",
          "2013-04-16T00:00:00.000000000",
          "2013-04-16T00:00:00.000000000",
          "2013-04-17T00:00:00.000000000",
          "2013-04-18T00:00:00.000000000",
          "2013-04-18T00:00:00.000000000",
          "2013-04-18T00:00:00.000000000",
          "2013-04-18T00:00:00.000000000",
          "2013-04-18T00:00:00.000000000",
          "2013-04-21T00:00:00.000000000",
          "2013-04-21T00:00:00.000000000",
          "2013-04-21T00:00:00.000000000",
          "2013-04-21T00:00:00.000000000",
          "2013-04-22T00:00:00.000000000",
          "2013-04-22T00:00:00.000000000",
          "2013-04-22T00:00:00.000000000",
          "2013-04-22T00:00:00.000000000",
          "2013-04-22T00:00:00.000000000",
          "2013-04-22T00:00:00.000000000",
          "2013-04-22T00:00:00.000000000",
          "2013-04-22T00:00:00.000000000",
          "2013-04-23T00:00:00.000000000",
          "2013-04-23T00:00:00.000000000",
          "2013-04-23T00:00:00.000000000",
          "2013-04-23T00:00:00.000000000",
          "2013-04-23T00:00:00.000000000",
          "2013-04-24T00:00:00.000000000",
          "2013-04-24T00:00:00.000000000",
          "2013-04-24T00:00:00.000000000",
          "2013-04-24T00:00:00.000000000",
          "2013-04-24T00:00:00.000000000",
          "2013-04-24T00:00:00.000000000",
          "2013-04-25T00:00:00.000000000",
          "2013-04-25T00:00:00.000000000",
          "2013-04-25T00:00:00.000000000",
          "2013-04-28T00:00:00.000000000",
          "2013-04-28T00:00:00.000000000",
          "2013-04-28T00:00:00.000000000",
          "2013-04-29T00:00:00.000000000",
          "2013-04-29T00:00:00.000000000",
          "2013-04-29T00:00:00.000000000",
          "2013-04-29T00:00:00.000000000",
          "2013-04-29T00:00:00.000000000",
          "2013-04-30T00:00:00.000000000",
          "2013-04-30T00:00:00.000000000",
          "2013-04-30T00:00:00.000000000",
          "2013-04-30T00:00:00.000000000",
          "2013-05-01T00:00:00.000000000",
          "2013-05-01T00:00:00.000000000",
          "2013-05-01T00:00:00.000000000",
          "2013-05-01T00:00:00.000000000",
          "2013-05-01T00:00:00.000000000",
          "2013-05-01T00:00:00.000000000",
          "2013-05-01T00:00:00.000000000",
          "2013-05-01T00:00:00.000000000",
          "2013-05-02T00:00:00.000000000",
          "2013-05-02T00:00:00.000000000",
          "2013-05-05T00:00:00.000000000",
          "2013-05-05T00:00:00.000000000",
          "2013-05-05T00:00:00.000000000",
          "2013-05-05T00:00:00.000000000",
          "2013-05-05T00:00:00.000000000",
          "2013-05-06T00:00:00.000000000",
          "2013-05-06T00:00:00.000000000",
          "2013-05-06T00:00:00.000000000",
          "2013-05-07T00:00:00.000000000",
          "2013-05-07T00:00:00.000000000",
          "2013-05-07T00:00:00.000000000",
          "2013-05-08T00:00:00.000000000",
          "2013-05-08T00:00:00.000000000",
          "2013-05-08T00:00:00.000000000",
          "2013-05-08T00:00:00.000000000",
          "2013-05-08T00:00:00.000000000",
          "2013-05-09T00:00:00.000000000",
          "2013-05-09T00:00:00.000000000",
          "2013-05-12T00:00:00.000000000",
          "2013-05-12T00:00:00.000000000",
          "2013-05-12T00:00:00.000000000",
          "2013-05-12T00:00:00.000000000",
          "2013-05-12T00:00:00.000000000",
          "2013-05-12T00:00:00.000000000",
          "2013-05-13T00:00:00.000000000",
          "2013-05-13T00:00:00.000000000",
          "2013-05-13T00:00:00.000000000",
          "2013-05-13T00:00:00.000000000",
          "2013-05-14T00:00:00.000000000",
          "2013-05-14T00:00:00.000000000",
          "2013-05-14T00:00:00.000000000",
          "2013-05-14T00:00:00.000000000",
          "2013-05-14T00:00:00.000000000",
          "2013-05-14T00:00:00.000000000",
          "2013-05-14T00:00:00.000000000",
          "2013-05-14T00:00:00.000000000",
          "2013-05-14T00:00:00.000000000",
          "2013-05-15T00:00:00.000000000",
          "2013-05-15T00:00:00.000000000",
          "2013-05-16T00:00:00.000000000",
          "2013-05-16T00:00:00.000000000",
          "2013-05-16T00:00:00.000000000",
          "2013-05-16T00:00:00.000000000",
          "2013-05-19T00:00:00.000000000",
          "2013-05-19T00:00:00.000000000",
          "2013-05-19T00:00:00.000000000",
          "2013-05-19T00:00:00.000000000",
          "2013-05-19T00:00:00.000000000",
          "2013-05-19T00:00:00.000000000",
          "2013-05-19T00:00:00.000000000",
          "2013-05-19T00:00:00.000000000",
          "2013-05-20T00:00:00.000000000",
          "2013-05-20T00:00:00.000000000",
          "2013-05-21T00:00:00.000000000",
          "2013-05-21T00:00:00.000000000",
          "2013-05-21T00:00:00.000000000",
          "2013-05-21T00:00:00.000000000",
          "2013-05-22T00:00:00.000000000",
          "2013-05-23T00:00:00.000000000",
          "2013-05-23T00:00:00.000000000",
          "2013-05-23T00:00:00.000000000",
          "2013-05-23T00:00:00.000000000",
          "2013-05-23T00:00:00.000000000",
          "2013-05-26T00:00:00.000000000",
          "2013-05-26T00:00:00.000000000",
          "2013-05-27T00:00:00.000000000",
          "2013-05-27T00:00:00.000000000",
          "2013-05-27T00:00:00.000000000",
          "2013-05-28T00:00:00.000000000",
          "2013-05-28T00:00:00.000000000",
          "2013-05-28T00:00:00.000000000",
          "2013-05-28T00:00:00.000000000",
          "2013-05-28T00:00:00.000000000",
          "2013-05-28T00:00:00.000000000",
          "2013-05-28T00:00:00.000000000",
          "2013-05-29T00:00:00.000000000",
          "2013-05-29T00:00:00.000000000",
          "2013-05-30T00:00:00.000000000",
          "2013-05-30T00:00:00.000000000",
          "2013-05-30T00:00:00.000000000",
          "2013-05-30T00:00:00.000000000",
          "2013-05-30T00:00:00.000000000",
          "2013-05-30T00:00:00.000000000",
          "2013-05-30T00:00:00.000000000",
          "2013-05-30T00:00:00.000000000",
          "2013-05-30T00:00:00.000000000",
          "2013-06-02T00:00:00.000000000",
          "2013-06-02T00:00:00.000000000",
          "2013-06-02T00:00:00.000000000",
          "2013-06-02T00:00:00.000000000",
          "2013-06-02T00:00:00.000000000",
          "2013-06-03T00:00:00.000000000",
          "2013-06-03T00:00:00.000000000",
          "2013-06-03T00:00:00.000000000",
          "2013-06-04T00:00:00.000000000",
          "2013-06-04T00:00:00.000000000",
          "2013-06-04T00:00:00.000000000",
          "2013-06-04T00:00:00.000000000",
          "2013-06-04T00:00:00.000000000",
          "2013-06-05T00:00:00.000000000",
          "2013-06-05T00:00:00.000000000",
          "2013-06-06T00:00:00.000000000",
          "2013-06-06T00:00:00.000000000",
          "2013-06-06T00:00:00.000000000",
          "2013-06-06T00:00:00.000000000",
          "2013-06-09T00:00:00.000000000",
          "2013-06-09T00:00:00.000000000",
          "2013-06-10T00:00:00.000000000",
          "2013-06-10T00:00:00.000000000",
          "2013-06-10T00:00:00.000000000",
          "2013-06-10T00:00:00.000000000",
          "2013-06-10T00:00:00.000000000",
          "2013-06-11T00:00:00.000000000",
          "2013-06-11T00:00:00.000000000",
          "2013-06-12T00:00:00.000000000",
          "2013-06-12T00:00:00.000000000",
          "2013-06-12T00:00:00.000000000",
          "2013-06-12T00:00:00.000000000",
          "2013-06-12T00:00:00.000000000",
          "2013-06-12T00:00:00.000000000",
          "2013-06-13T00:00:00.000000000",
          "2013-06-16T00:00:00.000000000",
          "2013-06-16T00:00:00.000000000",
          "2013-06-17T00:00:00.000000000",
          "2013-06-17T00:00:00.000000000",
          "2013-06-17T00:00:00.000000000",
          "2013-06-17T00:00:00.000000000",
          "2013-06-18T00:00:00.000000000",
          "2013-06-18T00:00:00.000000000",
          "2013-06-18T00:00:00.000000000",
          "2013-06-18T00:00:00.000000000",
          "2013-06-19T00:00:00.000000000",
          "2013-06-19T00:00:00.000000000",
          "2013-06-19T00:00:00.000000000",
          "2013-06-19T00:00:00.000000000",
          "2013-06-19T00:00:00.000000000",
          "2013-06-19T00:00:00.000000000",
          "2013-06-19T00:00:00.000000000",
          "2013-06-20T00:00:00.000000000",
          "2013-06-20T00:00:00.000000000",
          "2013-06-20T00:00:00.000000000",
          "2013-06-20T00:00:00.000000000",
          "2013-06-23T00:00:00.000000000",
          "2013-06-23T00:00:00.000000000",
          "2013-06-23T00:00:00.000000000",
          "2013-06-23T00:00:00.000000000",
          "2013-06-23T00:00:00.000000000",
          "2013-06-23T00:00:00.000000000",
          "2013-06-24T00:00:00.000000000",
          "2013-06-24T00:00:00.000000000",
          "2013-06-25T00:00:00.000000000",
          "2013-06-25T00:00:00.000000000",
          "2013-06-26T00:00:00.000000000",
          "2013-06-26T00:00:00.000000000",
          "2013-06-26T00:00:00.000000000",
          "2013-06-26T00:00:00.000000000",
          "2013-06-27T00:00:00.000000000",
          "2013-06-27T00:00:00.000000000",
          "2013-06-30T00:00:00.000000000",
          "2013-06-30T00:00:00.000000000",
          "2013-06-30T00:00:00.000000000",
          "2013-06-30T00:00:00.000000000",
          "2013-07-01T00:00:00.000000000",
          "2013-07-02T00:00:00.000000000",
          "2013-07-02T00:00:00.000000000",
          "2013-07-02T00:00:00.000000000",
          "2013-07-02T00:00:00.000000000",
          "2013-07-03T00:00:00.000000000",
          "2013-07-03T00:00:00.000000000",
          "2013-07-04T00:00:00.000000000",
          "2013-07-07T00:00:00.000000000",
          "2013-07-07T00:00:00.000000000",
          "2013-07-07T00:00:00.000000000",
          "2013-07-07T00:00:00.000000000",
          "2013-07-07T00:00:00.000000000",
          "2013-07-08T00:00:00.000000000",
          "2013-07-08T00:00:00.000000000",
          "2013-07-09T00:00:00.000000000",
          "2013-07-09T00:00:00.000000000",
          "2013-07-09T00:00:00.000000000",
          "2013-07-09T00:00:00.000000000",
          "2013-07-09T00:00:00.000000000",
          "2013-07-10T00:00:00.000000000",
          "2013-07-10T00:00:00.000000000",
          "2013-07-10T00:00:00.000000000",
          "2013-07-11T00:00:00.000000000",
          "2013-07-11T00:00:00.000000000",
          "2013-07-11T00:00:00.000000000",
          "2013-07-11T00:00:00.000000000",
          "2013-07-11T00:00:00.000000000",
          "2013-07-11T00:00:00.000000000",
          "2013-07-14T00:00:00.000000000",
          "2013-07-14T00:00:00.000000000",
          "2013-07-15T00:00:00.000000000",
          "2013-07-16T00:00:00.000000000",
          "2013-07-16T00:00:00.000000000",
          "2013-07-16T00:00:00.000000000",
          "2013-07-16T00:00:00.000000000",
          "2013-07-17T00:00:00.000000000",
          "2013-07-18T00:00:00.000000000",
          "2013-07-18T00:00:00.000000000",
          "2013-07-18T00:00:00.000000000",
          "2013-07-18T00:00:00.000000000",
          "2013-07-21T00:00:00.000000000",
          "2013-07-21T00:00:00.000000000",
          "2013-07-21T00:00:00.000000000",
          "2013-07-21T00:00:00.000000000",
          "2013-07-22T00:00:00.000000000",
          "2013-07-22T00:00:00.000000000",
          "2013-07-22T00:00:00.000000000",
          "2013-07-22T00:00:00.000000000",
          "2013-07-22T00:00:00.000000000",
          "2013-07-22T00:00:00.000000000",
          "2013-07-22T00:00:00.000000000",
          "2013-07-22T00:00:00.000000000",
          "2013-07-23T00:00:00.000000000",
          "2013-07-24T00:00:00.000000000",
          "2013-07-24T00:00:00.000000000",
          "2013-07-24T00:00:00.000000000",
          "2013-07-25T00:00:00.000000000",
          "2013-07-25T00:00:00.000000000",
          "2013-07-25T00:00:00.000000000",
          "2013-07-25T00:00:00.000000000",
          "2013-07-28T00:00:00.000000000",
          "2013-07-28T00:00:00.000000000",
          "2013-07-28T00:00:00.000000000",
          "2013-07-28T00:00:00.000000000",
          "2013-07-28T00:00:00.000000000",
          "2013-07-29T00:00:00.000000000",
          "2013-07-29T00:00:00.000000000",
          "2013-07-29T00:00:00.000000000",
          "2013-07-29T00:00:00.000000000",
          "2013-07-29T00:00:00.000000000",
          "2013-07-30T00:00:00.000000000",
          "2013-07-31T00:00:00.000000000",
          "2013-07-31T00:00:00.000000000",
          "2013-07-31T00:00:00.000000000",
          "2013-07-31T00:00:00.000000000",
          "2013-07-31T00:00:00.000000000",
          "2013-08-01T00:00:00.000000000",
          "2013-08-01T00:00:00.000000000",
          "2013-08-01T00:00:00.000000000",
          "2013-08-04T00:00:00.000000000",
          "2013-08-04T00:00:00.000000000",
          "2013-08-05T00:00:00.000000000",
          "2013-08-05T00:00:00.000000000",
          "2013-08-05T00:00:00.000000000",
          "2013-08-05T00:00:00.000000000",
          "2013-08-05T00:00:00.000000000",
          "2013-08-05T00:00:00.000000000",
          "2013-08-06T00:00:00.000000000",
          "2013-08-06T00:00:00.000000000",
          "2013-08-07T00:00:00.000000000",
          "2013-08-07T00:00:00.000000000",
          "2013-08-07T00:00:00.000000000",
          "2013-08-07T00:00:00.000000000",
          "2013-08-07T00:00:00.000000000",
          "2013-08-07T00:00:00.000000000",
          "2013-08-07T00:00:00.000000000",
          "2013-08-07T00:00:00.000000000",
          "2013-08-08T00:00:00.000000000",
          "2013-08-08T00:00:00.000000000",
          "2013-08-08T00:00:00.000000000",
          "2013-08-11T00:00:00.000000000",
          "2013-08-11T00:00:00.000000000",
          "2013-08-11T00:00:00.000000000",
          "2013-08-11T00:00:00.000000000",
          "2013-08-11T00:00:00.000000000",
          "2013-08-12T00:00:00.000000000",
          "2013-08-12T00:00:00.000000000",
          "2013-08-12T00:00:00.000000000",
          "2013-08-13T00:00:00.000000000",
          "2013-08-13T00:00:00.000000000",
          "2013-08-14T00:00:00.000000000",
          "2013-08-14T00:00:00.000000000",
          "2013-08-14T00:00:00.000000000",
          "2013-08-15T00:00:00.000000000",
          "2013-08-15T00:00:00.000000000",
          "2013-08-15T00:00:00.000000000",
          "2013-08-15T00:00:00.000000000",
          "2013-08-15T00:00:00.000000000",
          "2013-08-15T00:00:00.000000000",
          "2013-08-15T00:00:00.000000000",
          "2013-08-15T00:00:00.000000000",
          "2013-08-18T00:00:00.000000000",
          "2013-08-18T00:00:00.000000000",
          "2013-08-18T00:00:00.000000000",
          "2013-08-19T00:00:00.000000000",
          "2013-08-19T00:00:00.000000000",
          "2013-08-19T00:00:00.000000000",
          "2013-08-19T00:00:00.000000000",
          "2013-08-19T00:00:00.000000000",
          "2013-08-20T00:00:00.000000000",
          "2013-08-20T00:00:00.000000000",
          "2013-08-20T00:00:00.000000000",
          "2013-08-20T00:00:00.000000000",
          "2013-08-21T00:00:00.000000000",
          "2013-08-21T00:00:00.000000000",
          "2013-08-22T00:00:00.000000000",
          "2013-08-22T00:00:00.000000000",
          "2013-08-22T00:00:00.000000000",
          "2013-08-22T00:00:00.000000000",
          "2013-08-25T00:00:00.000000000",
          "2013-08-25T00:00:00.000000000",
          "2013-08-25T00:00:00.000000000",
          "2013-08-25T00:00:00.000000000",
          "2013-08-25T00:00:00.000000000",
          "2013-08-25T00:00:00.000000000",
          "2013-08-26T00:00:00.000000000",
          "2013-08-26T00:00:00.000000000",
          "2013-08-27T00:00:00.000000000",
          "2013-08-27T00:00:00.000000000",
          "2013-08-27T00:00:00.000000000",
          "2013-08-27T00:00:00.000000000",
          "2013-08-27T00:00:00.000000000",
          "2013-08-27T00:00:00.000000000",
          "2013-08-28T00:00:00.000000000",
          "2013-08-28T00:00:00.000000000",
          "2013-08-28T00:00:00.000000000",
          "2013-08-28T00:00:00.000000000",
          "2013-08-29T00:00:00.000000000",
          "2013-08-29T00:00:00.000000000",
          "2013-08-29T00:00:00.000000000",
          "2013-09-01T00:00:00.000000000",
          "2013-09-01T00:00:00.000000000",
          "2013-09-01T00:00:00.000000000",
          "2013-09-01T00:00:00.000000000",
          "2013-09-02T00:00:00.000000000",
          "2013-09-02T00:00:00.000000000",
          "2013-09-02T00:00:00.000000000",
          "2013-09-02T00:00:00.000000000",
          "2013-09-02T00:00:00.000000000",
          "2013-09-03T00:00:00.000000000",
          "2013-09-04T00:00:00.000000000",
          "2013-09-04T00:00:00.000000000",
          "2013-09-04T00:00:00.000000000",
          "2013-09-04T00:00:00.000000000",
          "2013-09-04T00:00:00.000000000",
          "2013-09-04T00:00:00.000000000",
          "2013-09-04T00:00:00.000000000",
          "2013-09-04T00:00:00.000000000",
          "2013-09-04T00:00:00.000000000",
          "2013-09-05T00:00:00.000000000",
          "2013-09-05T00:00:00.000000000",
          "2013-09-05T00:00:00.000000000",
          "2013-09-05T00:00:00.000000000",
          "2013-09-05T00:00:00.000000000",
          "2013-09-05T00:00:00.000000000",
          "2013-09-05T00:00:00.000000000",
          "2013-09-08T00:00:00.000000000",
          "2013-09-09T00:00:00.000000000",
          "2013-09-09T00:00:00.000000000",
          "2013-09-09T00:00:00.000000000",
          "2013-09-10T00:00:00.000000000",
          "2013-09-10T00:00:00.000000000",
          "2013-09-10T00:00:00.000000000",
          "2013-09-10T00:00:00.000000000",
          "2013-09-10T00:00:00.000000000",
          "2013-09-10T00:00:00.000000000",
          "2013-09-11T00:00:00.000000000",
          "2013-09-11T00:00:00.000000000",
          "2013-09-11T00:00:00.000000000",
          "2013-09-12T00:00:00.000000000",
          "2013-09-12T00:00:00.000000000",
          "2013-09-12T00:00:00.000000000",
          "2013-09-12T00:00:00.000000000",
          "2013-09-15T00:00:00.000000000",
          "2013-09-15T00:00:00.000000000",
          "2013-09-15T00:00:00.000000000",
          "2013-09-15T00:00:00.000000000",
          "2013-09-16T00:00:00.000000000",
          "2013-09-16T00:00:00.000000000",
          "2013-09-16T00:00:00.000000000",
          "2013-09-16T00:00:00.000000000",
          "2013-09-16T00:00:00.000000000",
          "2013-09-17T00:00:00.000000000",
          "2013-09-17T00:00:00.000000000",
          "2013-09-17T00:00:00.000000000",
          "2013-09-17T00:00:00.000000000",
          "2013-09-17T00:00:00.000000000",
          "2013-09-18T00:00:00.000000000",
          "2013-09-18T00:00:00.000000000",
          "2013-09-18T00:00:00.000000000",
          "2013-09-18T00:00:00.000000000",
          "2013-09-19T00:00:00.000000000",
          "2013-09-19T00:00:00.000000000",
          "2013-09-19T00:00:00.000000000",
          "2013-09-22T00:00:00.000000000",
          "2013-09-22T00:00:00.000000000",
          "2013-09-22T00:00:00.000000000",
          "2013-09-22T00:00:00.000000000",
          "2013-09-22T00:00:00.000000000",
          "2013-09-23T00:00:00.000000000",
          "2013-09-23T00:00:00.000000000",
          "2013-09-23T00:00:00.000000000",
          "2013-09-23T00:00:00.000000000",
          "2013-09-23T00:00:00.000000000",
          "2013-09-24T00:00:00.000000000",
          "2013-09-24T00:00:00.000000000",
          "2013-09-24T00:00:00.000000000",
          "2013-09-25T00:00:00.000000000",
          "2013-09-25T00:00:00.000000000",
          "2013-09-25T00:00:00.000000000",
          "2013-09-25T00:00:00.000000000",
          "2013-09-25T00:00:00.000000000",
          "2013-09-25T00:00:00.000000000",
          "2013-09-26T00:00:00.000000000",
          "2013-09-26T00:00:00.000000000",
          "2013-09-26T00:00:00.000000000",
          "2013-09-26T00:00:00.000000000",
          "2013-09-29T00:00:00.000000000",
          "2013-09-29T00:00:00.000000000",
          "2013-09-29T00:00:00.000000000",
          "2013-09-30T00:00:00.000000000",
          "2013-09-30T00:00:00.000000000",
          "2013-09-30T00:00:00.000000000",
          "2013-09-30T00:00:00.000000000",
          "2013-09-30T00:00:00.000000000",
          "2013-10-01T00:00:00.000000000",
          "2013-10-01T00:00:00.000000000",
          "2013-10-01T00:00:00.000000000",
          "2013-10-01T00:00:00.000000000",
          "2013-10-02T00:00:00.000000000",
          "2013-10-02T00:00:00.000000000",
          "2013-10-03T00:00:00.000000000",
          "2013-10-03T00:00:00.000000000",
          "2013-10-03T00:00:00.000000000",
          "2013-10-03T00:00:00.000000000",
          "2013-10-03T00:00:00.000000000",
          "2013-10-03T00:00:00.000000000",
          "2013-10-06T00:00:00.000000000",
          "2013-10-06T00:00:00.000000000",
          "2013-10-06T00:00:00.000000000",
          "2013-10-06T00:00:00.000000000",
          "2013-10-06T00:00:00.000000000",
          "2013-10-06T00:00:00.000000000",
          "2013-10-06T00:00:00.000000000",
          "2013-10-07T00:00:00.000000000",
          "2013-10-07T00:00:00.000000000",
          "2013-10-07T00:00:00.000000000",
          "2013-10-08T00:00:00.000000000",
          "2013-10-08T00:00:00.000000000",
          "2013-10-08T00:00:00.000000000",
          "2013-10-08T00:00:00.000000000",
          "2013-10-08T00:00:00.000000000",
          "2013-10-08T00:00:00.000000000",
          "2013-10-09T00:00:00.000000000",
          "2013-10-09T00:00:00.000000000",
          "2013-10-09T00:00:00.000000000",
          "2013-10-09T00:00:00.000000000",
          "2013-10-09T00:00:00.000000000",
          "2013-10-09T00:00:00.000000000",
          "2013-10-10T00:00:00.000000000",
          "2013-10-10T00:00:00.000000000",
          "2013-10-10T00:00:00.000000000",
          "2013-10-10T00:00:00.000000000",
          "2013-10-13T00:00:00.000000000",
          "2013-10-13T00:00:00.000000000",
          "2013-10-13T00:00:00.000000000",
          "2013-10-13T00:00:00.000000000",
          "2013-10-13T00:00:00.000000000",
          "2013-10-14T00:00:00.000000000",
          "2013-10-14T00:00:00.000000000",
          "2013-10-14T00:00:00.000000000",
          "2013-10-14T00:00:00.000000000",
          "2013-10-14T00:00:00.000000000",
          "2013-10-14T00:00:00.000000000",
          "2013-10-15T00:00:00.000000000",
          "2013-10-15T00:00:00.000000000",
          "2013-10-16T00:00:00.000000000",
          "2013-10-16T00:00:00.000000000",
          "2013-10-16T00:00:00.000000000",
          "2013-10-16T00:00:00.000000000",
          "2013-10-16T00:00:00.000000000",
          "2013-10-16T00:00:00.000000000",
          "2013-10-17T00:00:00.000000000",
          "2013-10-17T00:00:00.000000000",
          "2013-10-17T00:00:00.000000000",
          "2013-10-17T00:00:00.000000000",
          "2013-10-17T00:00:00.000000000",
          "2013-10-20T00:00:00.000000000",
          "2013-10-20T00:00:00.000000000",
          "2013-10-21T00:00:00.000000000",
          "2013-10-21T00:00:00.000000000",
          "2013-10-21T00:00:00.000000000",
          "2013-10-21T00:00:00.000000000",
          "2013-10-21T00:00:00.000000000",
          "2013-10-22T00:00:00.000000000",
          "2013-10-22T00:00:00.000000000",
          "2013-10-22T00:00:00.000000000",
          "2013-10-22T00:00:00.000000000",
          "2013-10-22T00:00:00.000000000",
          "2013-10-22T00:00:00.000000000",
          "2013-10-22T00:00:00.000000000",
          "2013-10-22T00:00:00.000000000",
          "2013-10-22T00:00:00.000000000",
          "2013-10-23T00:00:00.000000000",
          "2013-10-23T00:00:00.000000000",
          "2013-10-24T00:00:00.000000000",
          "2013-10-24T00:00:00.000000000",
          "2013-10-24T00:00:00.000000000",
          "2013-10-24T00:00:00.000000000",
          "2013-10-24T00:00:00.000000000",
          "2013-10-24T00:00:00.000000000",
          "2013-10-27T00:00:00.000000000",
          "2013-10-27T00:00:00.000000000",
          "2013-10-27T00:00:00.000000000",
          "2013-10-27T00:00:00.000000000",
          "2013-10-27T00:00:00.000000000",
          "2013-10-27T00:00:00.000000000",
          "2013-10-27T00:00:00.000000000",
          "2013-10-28T00:00:00.000000000",
          "2013-10-28T00:00:00.000000000",
          "2013-10-29T00:00:00.000000000",
          "2013-10-29T00:00:00.000000000",
          "2013-10-29T00:00:00.000000000",
          "2013-10-29T00:00:00.000000000",
          "2013-10-29T00:00:00.000000000",
          "2013-10-30T00:00:00.000000000",
          "2013-10-30T00:00:00.000000000",
          "2013-10-30T00:00:00.000000000",
          "2013-10-31T00:00:00.000000000",
          "2013-10-31T00:00:00.000000000",
          "2013-10-31T00:00:00.000000000",
          "2013-11-03T00:00:00.000000000",
          "2013-11-03T00:00:00.000000000",
          "2013-11-03T00:00:00.000000000",
          "2013-11-03T00:00:00.000000000",
          "2013-11-03T00:00:00.000000000",
          "2013-11-04T00:00:00.000000000",
          "2013-11-04T00:00:00.000000000",
          "2013-11-04T00:00:00.000000000",
          "2013-11-04T00:00:00.000000000",
          "2013-11-04T00:00:00.000000000",
          "2013-11-04T00:00:00.000000000",
          "2013-11-04T00:00:00.000000000",
          "2013-11-05T00:00:00.000000000",
          "2013-11-05T00:00:00.000000000",
          "2013-11-05T00:00:00.000000000",
          "2013-11-06T00:00:00.000000000",
          "2013-11-06T00:00:00.000000000",
          "2013-11-06T00:00:00.000000000",
          "2013-11-07T00:00:00.000000000",
          "2013-11-07T00:00:00.000000000",
          "2013-11-07T00:00:00.000000000",
          "2013-11-07T00:00:00.000000000",
          "2013-11-07T00:00:00.000000000",
          "2013-11-07T00:00:00.000000000",
          "2013-11-10T00:00:00.000000000",
          "2013-11-10T00:00:00.000000000",
          "2013-11-11T00:00:00.000000000",
          "2013-11-11T00:00:00.000000000",
          "2013-11-11T00:00:00.000000000",
          "2013-11-11T00:00:00.000000000",
          "2013-11-12T00:00:00.000000000",
          "2013-11-12T00:00:00.000000000",
          "2013-11-12T00:00:00.000000000",
          "2013-11-13T00:00:00.000000000",
          "2013-11-13T00:00:00.000000000",
          "2013-11-13T00:00:00.000000000",
          "2013-11-13T00:00:00.000000000",
          "2013-11-14T00:00:00.000000000",
          "2013-11-14T00:00:00.000000000",
          "2013-11-14T00:00:00.000000000",
          "2013-11-14T00:00:00.000000000",
          "2013-11-17T00:00:00.000000000",
          "2013-11-17T00:00:00.000000000",
          "2013-11-18T00:00:00.000000000",
          "2013-11-18T00:00:00.000000000",
          "2013-11-18T00:00:00.000000000",
          "2013-11-18T00:00:00.000000000",
          "2013-11-19T00:00:00.000000000",
          "2013-11-19T00:00:00.000000000",
          "2013-11-19T00:00:00.000000000",
          "2013-11-19T00:00:00.000000000",
          "2013-11-19T00:00:00.000000000",
          "2013-11-19T00:00:00.000000000",
          "2013-11-19T00:00:00.000000000",
          "2013-11-19T00:00:00.000000000",
          "2013-11-20T00:00:00.000000000",
          "2013-11-20T00:00:00.000000000",
          "2013-11-20T00:00:00.000000000",
          "2013-11-20T00:00:00.000000000",
          "2013-11-20T00:00:00.000000000",
          "2013-11-20T00:00:00.000000000",
          "2013-11-21T00:00:00.000000000",
          "2013-11-21T00:00:00.000000000",
          "2013-11-21T00:00:00.000000000",
          "2013-11-24T00:00:00.000000000",
          "2013-11-24T00:00:00.000000000",
          "2013-11-24T00:00:00.000000000",
          "2013-11-24T00:00:00.000000000",
          "2013-11-24T00:00:00.000000000",
          "2013-11-24T00:00:00.000000000",
          "2013-11-25T00:00:00.000000000",
          "2013-11-25T00:00:00.000000000",
          "2013-11-25T00:00:00.000000000",
          "2013-11-26T00:00:00.000000000",
          "2013-11-26T00:00:00.000000000",
          "2013-11-26T00:00:00.000000000",
          "2013-11-26T00:00:00.000000000",
          "2013-11-27T00:00:00.000000000",
          "2013-11-27T00:00:00.000000000",
          "2013-11-27T00:00:00.000000000",
          "2013-11-27T00:00:00.000000000",
          "2013-11-27T00:00:00.000000000",
          "2013-11-27T00:00:00.000000000",
          "2013-11-27T00:00:00.000000000",
          "2013-11-27T00:00:00.000000000",
          "2013-11-28T00:00:00.000000000",
          "2013-11-28T00:00:00.000000000",
          "2013-11-28T00:00:00.000000000",
          "2013-11-28T00:00:00.000000000",
          "2013-12-01T00:00:00.000000000",
          "2013-12-01T00:00:00.000000000",
          "2013-12-01T00:00:00.000000000",
          "2013-12-02T00:00:00.000000000",
          "2013-12-02T00:00:00.000000000",
          "2013-12-02T00:00:00.000000000",
          "2013-12-02T00:00:00.000000000",
          "2013-12-02T00:00:00.000000000",
          "2013-12-02T00:00:00.000000000",
          "2013-12-03T00:00:00.000000000",
          "2013-12-03T00:00:00.000000000",
          "2013-12-03T00:00:00.000000000",
          "2013-12-03T00:00:00.000000000",
          "2013-12-03T00:00:00.000000000",
          "2013-12-04T00:00:00.000000000",
          "2013-12-05T00:00:00.000000000",
          "2013-12-05T00:00:00.000000000",
          "2013-12-05T00:00:00.000000000",
          "2013-12-05T00:00:00.000000000",
          "2013-12-08T00:00:00.000000000",
          "2013-12-08T00:00:00.000000000",
          "2013-12-08T00:00:00.000000000",
          "2013-12-08T00:00:00.000000000",
          "2013-12-08T00:00:00.000000000",
          "2013-12-08T00:00:00.000000000",
          "2013-12-08T00:00:00.000000000",
          "2013-12-08T00:00:00.000000000",
          "2013-12-09T00:00:00.000000000",
          "2013-12-10T00:00:00.000000000",
          "2013-12-10T00:00:00.000000000",
          "2013-12-10T00:00:00.000000000",
          "2013-12-11T00:00:00.000000000",
          "2013-12-11T00:00:00.000000000",
          "2013-12-11T00:00:00.000000000",
          "2013-12-11T00:00:00.000000000",
          "2013-12-11T00:00:00.000000000",
          "2013-12-12T00:00:00.000000000",
          "2013-12-12T00:00:00.000000000",
          "2013-12-15T00:00:00.000000000",
          "2013-12-15T00:00:00.000000000",
          "2013-12-15T00:00:00.000000000",
          "2013-12-15T00:00:00.000000000",
          "2013-12-15T00:00:00.000000000",
          "2013-12-16T00:00:00.000000000",
          "2013-12-16T00:00:00.000000000",
          "2013-12-16T00:00:00.000000000",
          "2013-12-16T00:00:00.000000000",
          "2013-12-16T00:00:00.000000000",
          "2013-12-17T00:00:00.000000000",
          "2013-12-17T00:00:00.000000000",
          "2013-12-17T00:00:00.000000000",
          "2013-12-17T00:00:00.000000000",
          "2013-12-18T00:00:00.000000000",
          "2013-12-18T00:00:00.000000000",
          "2013-12-18T00:00:00.000000000",
          "2013-12-18T00:00:00.000000000",
          "2013-12-18T00:00:00.000000000",
          "2013-12-18T00:00:00.000000000",
          "2013-12-18T00:00:00.000000000",
          "2013-12-19T00:00:00.000000000",
          "2013-12-19T00:00:00.000000000",
          "2013-12-19T00:00:00.000000000",
          "2013-12-19T00:00:00.000000000",
          "2013-12-19T00:00:00.000000000",
          "2013-12-22T00:00:00.000000000",
          "2013-12-22T00:00:00.000000000",
          "2013-12-22T00:00:00.000000000",
          "2013-12-22T00:00:00.000000000",
          "2013-12-22T00:00:00.000000000",
          "2013-12-22T00:00:00.000000000",
          "2013-12-22T00:00:00.000000000",
          "2013-12-22T00:00:00.000000000",
          "2013-12-23T00:00:00.000000000",
          "2013-12-23T00:00:00.000000000",
          "2013-12-23T00:00:00.000000000",
          "2013-12-23T00:00:00.000000000",
          "2013-12-23T00:00:00.000000000",
          "2013-12-24T00:00:00.000000000",
          "2013-12-24T00:00:00.000000000",
          "2013-12-24T00:00:00.000000000",
          "2013-12-24T00:00:00.000000000",
          "2013-12-24T00:00:00.000000000",
          "2013-12-24T00:00:00.000000000",
          "2013-12-25T00:00:00.000000000",
          "2013-12-25T00:00:00.000000000",
          "2013-12-25T00:00:00.000000000",
          "2013-12-25T00:00:00.000000000",
          "2013-12-25T00:00:00.000000000",
          "2013-12-26T00:00:00.000000000",
          "2013-12-26T00:00:00.000000000",
          "2013-12-26T00:00:00.000000000",
          "2013-12-26T00:00:00.000000000",
          "2013-12-26T00:00:00.000000000",
          "2013-12-26T00:00:00.000000000",
          "2013-12-26T00:00:00.000000000",
          "2013-12-26T00:00:00.000000000",
          "2013-12-29T00:00:00.000000000",
          "2013-12-29T00:00:00.000000000",
          "2013-12-29T00:00:00.000000000",
          "2013-12-29T00:00:00.000000000",
          "2013-12-29T00:00:00.000000000",
          "2013-12-29T00:00:00.000000000",
          "2013-12-30T00:00:00.000000000",
          "2013-12-30T00:00:00.000000000",
          "2013-12-30T00:00:00.000000000",
          "2013-12-30T00:00:00.000000000",
          "2013-12-30T00:00:00.000000000",
          "2013-12-30T00:00:00.000000000",
          "2013-12-30T00:00:00.000000000",
          "2013-12-30T00:00:00.000000000",
          "2013-12-31T00:00:00.000000000",
          "2013-12-31T00:00:00.000000000",
          "2013-12-31T00:00:00.000000000",
          "2013-12-31T00:00:00.000000000",
          "2014-01-01T00:00:00.000000000",
          "2014-01-01T00:00:00.000000000",
          "2014-01-01T00:00:00.000000000",
          "2014-01-01T00:00:00.000000000",
          "2014-01-01T00:00:00.000000000",
          "2014-01-01T00:00:00.000000000",
          "2014-01-02T00:00:00.000000000",
          "2014-01-02T00:00:00.000000000",
          "2014-01-02T00:00:00.000000000",
          "2014-01-02T00:00:00.000000000",
          "2014-01-02T00:00:00.000000000",
          "2014-01-02T00:00:00.000000000",
          "2014-01-05T00:00:00.000000000",
          "2014-01-05T00:00:00.000000000",
          "2014-01-05T00:00:00.000000000",
          "2014-01-05T00:00:00.000000000",
          "2014-01-05T00:00:00.000000000",
          "2014-01-05T00:00:00.000000000",
          "2014-01-05T00:00:00.000000000",
          "2014-01-06T00:00:00.000000000",
          "2014-01-06T00:00:00.000000000",
          "2014-01-06T00:00:00.000000000",
          "2014-01-06T00:00:00.000000000",
          "2014-01-06T00:00:00.000000000",
          "2014-01-06T00:00:00.000000000",
          "2014-01-07T00:00:00.000000000",
          "2014-01-07T00:00:00.000000000",
          "2014-01-07T00:00:00.000000000",
          "2014-01-07T00:00:00.000000000",
          "2014-01-07T00:00:00.000000000",
          "2014-01-08T00:00:00.000000000",
          "2014-01-08T00:00:00.000000000",
          "2014-01-08T00:00:00.000000000",
          "2014-01-08T00:00:00.000000000",
          "2014-01-09T00:00:00.000000000",
          "2014-01-09T00:00:00.000000000",
          "2014-01-09T00:00:00.000000000",
          "2014-01-09T00:00:00.000000000",
          "2014-01-09T00:00:00.000000000",
          "2014-01-09T00:00:00.000000000",
          "2014-01-09T00:00:00.000000000",
          "2014-01-09T00:00:00.000000000",
          "2014-01-12T00:00:00.000000000",
          "2014-01-12T00:00:00.000000000",
          "2014-01-12T00:00:00.000000000",
          "2014-01-12T00:00:00.000000000",
          "2014-01-13T00:00:00.000000000",
          "2014-01-13T00:00:00.000000000",
          "2014-01-13T00:00:00.000000000",
          "2014-01-13T00:00:00.000000000",
          "2014-01-13T00:00:00.000000000",
          "2014-01-13T00:00:00.000000000",
          "2014-01-13T00:00:00.000000000",
          "2014-01-13T00:00:00.000000000",
          "2014-01-13T00:00:00.000000000",
          "2014-01-13T00:00:00.000000000",
          "2014-01-14T00:00:00.000000000",
          "2014-01-14T00:00:00.000000000",
          "2014-01-14T00:00:00.000000000",
          "2014-01-14T00:00:00.000000000",
          "2014-01-14T00:00:00.000000000",
          "2014-01-14T00:00:00.000000000",
          "2014-01-14T00:00:00.000000000",
          "2014-01-14T00:00:00.000000000",
          "2014-01-15T00:00:00.000000000",
          "2014-01-15T00:00:00.000000000",
          "2014-01-15T00:00:00.000000000",
          "2014-01-15T00:00:00.000000000",
          "2014-01-15T00:00:00.000000000",
          "2014-01-15T00:00:00.000000000",
          "2014-01-15T00:00:00.000000000",
          "2014-01-16T00:00:00.000000000",
          "2014-01-16T00:00:00.000000000",
          "2014-01-16T00:00:00.000000000",
          "2014-01-16T00:00:00.000000000",
          "2014-01-16T00:00:00.000000000",
          "2014-01-16T00:00:00.000000000",
          "2014-01-16T00:00:00.000000000",
          "2014-01-16T00:00:00.000000000",
          "2014-01-16T00:00:00.000000000",
          "2014-01-19T00:00:00.000000000",
          "2014-01-19T00:00:00.000000000",
          "2014-01-19T00:00:00.000000000",
          "2014-01-19T00:00:00.000000000",
          "2014-01-19T00:00:00.000000000",
          "2014-01-19T00:00:00.000000000",
          "2014-01-19T00:00:00.000000000",
          "2014-01-20T00:00:00.000000000",
          "2014-01-20T00:00:00.000000000",
          "2014-01-20T00:00:00.000000000",
          "2014-01-20T00:00:00.000000000",
          "2014-01-20T00:00:00.000000000",
          "2014-01-20T00:00:00.000000000",
          "2014-01-20T00:00:00.000000000",
          "2014-01-20T00:00:00.000000000",
          "2014-01-21T00:00:00.000000000",
          "2014-01-21T00:00:00.000000000",
          "2014-01-21T00:00:00.000000000",
          "2014-01-21T00:00:00.000000000",
          "2014-01-21T00:00:00.000000000",
          "2014-01-21T00:00:00.000000000",
          "2014-01-21T00:00:00.000000000",
          "2014-01-22T00:00:00.000000000",
          "2014-01-22T00:00:00.000000000",
          "2014-01-22T00:00:00.000000000",
          "2014-01-22T00:00:00.000000000",
          "2014-01-22T00:00:00.000000000",
          "2014-01-22T00:00:00.000000000",
          "2014-01-22T00:00:00.000000000",
          "2014-01-22T00:00:00.000000000",
          "2014-01-22T00:00:00.000000000",
          "2014-01-23T00:00:00.000000000",
          "2014-01-23T00:00:00.000000000",
          "2014-01-23T00:00:00.000000000",
          "2014-01-23T00:00:00.000000000",
          "2014-01-23T00:00:00.000000000",
          "2014-01-23T00:00:00.000000000",
          "2014-01-23T00:00:00.000000000",
          "2014-01-26T00:00:00.000000000",
          "2014-01-26T00:00:00.000000000",
          "2014-01-26T00:00:00.000000000",
          "2014-01-26T00:00:00.000000000",
          "2014-01-26T00:00:00.000000000",
          "2014-01-26T00:00:00.000000000",
          "2014-01-26T00:00:00.000000000",
          "2014-01-27T00:00:00.000000000",
          "2014-01-27T00:00:00.000000000",
          "2014-01-27T00:00:00.000000000",
          "2014-01-27T00:00:00.000000000",
          "2014-01-27T00:00:00.000000000",
          "2014-01-27T00:00:00.000000000",
          "2014-01-27T00:00:00.000000000",
          "2014-01-28T00:00:00.000000000",
          "2014-01-28T00:00:00.000000000",
          "2014-01-28T00:00:00.000000000",
          "2014-01-28T00:00:00.000000000",
          "2014-01-28T00:00:00.000000000",
          "2014-01-29T00:00:00.000000000",
          "2014-01-29T00:00:00.000000000",
          "2014-01-29T00:00:00.000000000",
          "2014-01-29T00:00:00.000000000",
          "2014-01-29T00:00:00.000000000",
          "2014-01-29T00:00:00.000000000",
          "2014-01-29T00:00:00.000000000",
          "2014-01-29T00:00:00.000000000",
          "2014-01-30T00:00:00.000000000",
          "2014-01-30T00:00:00.000000000",
          "2014-01-30T00:00:00.000000000",
          "2014-01-30T00:00:00.000000000",
          "2014-01-30T00:00:00.000000000",
          "2014-01-30T00:00:00.000000000",
          "2014-01-30T00:00:00.000000000",
          "2014-02-02T00:00:00.000000000",
          "2014-02-02T00:00:00.000000000",
          "2014-02-02T00:00:00.000000000",
          "2014-02-02T00:00:00.000000000",
          "2014-02-03T00:00:00.000000000",
          "2014-02-03T00:00:00.000000000",
          "2014-02-03T00:00:00.000000000",
          "2014-02-03T00:00:00.000000000",
          "2014-02-04T00:00:00.000000000",
          "2014-02-04T00:00:00.000000000",
          "2014-02-04T00:00:00.000000000",
          "2014-02-04T00:00:00.000000000",
          "2014-02-04T00:00:00.000000000",
          "2014-02-04T00:00:00.000000000",
          "2014-02-04T00:00:00.000000000",
          "2014-02-04T00:00:00.000000000",
          "2014-02-04T00:00:00.000000000",
          "2014-02-05T00:00:00.000000000",
          "2014-02-05T00:00:00.000000000",
          "2014-02-05T00:00:00.000000000",
          "2014-02-05T00:00:00.000000000",
          "2014-02-05T00:00:00.000000000",
          "2014-02-05T00:00:00.000000000",
          "2014-02-05T00:00:00.000000000",
          "2014-02-06T00:00:00.000000000",
          "2014-02-06T00:00:00.000000000",
          "2014-02-06T00:00:00.000000000",
          "2014-02-06T00:00:00.000000000",
          "2014-02-06T00:00:00.000000000",
          "2014-02-06T00:00:00.000000000",
          "2014-02-09T00:00:00.000000000",
          "2014-02-09T00:00:00.000000000",
          "2014-02-09T00:00:00.000000000",
          "2014-02-09T00:00:00.000000000",
          "2014-02-10T00:00:00.000000000",
          "2014-02-10T00:00:00.000000000",
          "2014-02-10T00:00:00.000000000",
          "2014-02-10T00:00:00.000000000",
          "2014-02-10T00:00:00.000000000",
          "2014-02-10T00:00:00.000000000",
          "2014-02-10T00:00:00.000000000",
          "2014-02-11T00:00:00.000000000",
          "2014-02-11T00:00:00.000000000",
          "2014-02-11T00:00:00.000000000",
          "2014-02-11T00:00:00.000000000",
          "2014-02-12T00:00:00.000000000",
          "2014-02-12T00:00:00.000000000",
          "2014-02-12T00:00:00.000000000",
          "2014-02-12T00:00:00.000000000",
          "2014-02-12T00:00:00.000000000",
          "2014-02-12T00:00:00.000000000",
          "2014-02-12T00:00:00.000000000",
          "2014-02-12T00:00:00.000000000",
          "2014-02-13T00:00:00.000000000",
          "2014-02-13T00:00:00.000000000",
          "2014-02-13T00:00:00.000000000",
          "2014-02-13T00:00:00.000000000",
          "2014-02-16T00:00:00.000000000",
          "2014-02-16T00:00:00.000000000",
          "2014-02-16T00:00:00.000000000",
          "2014-02-16T00:00:00.000000000",
          "2014-02-16T00:00:00.000000000",
          "2014-02-16T00:00:00.000000000",
          "2014-02-16T00:00:00.000000000",
          "2014-02-17T00:00:00.000000000",
          "2014-02-17T00:00:00.000000000",
          "2014-02-18T00:00:00.000000000",
          "2014-02-18T00:00:00.000000000",
          "2014-02-18T00:00:00.000000000",
          "2014-02-18T00:00:00.000000000",
          "2014-02-18T00:00:00.000000000",
          "2014-02-18T00:00:00.000000000",
          "2014-02-18T00:00:00.000000000",
          "2014-02-18T00:00:00.000000000",
          "2014-02-18T00:00:00.000000000",
          "2014-02-18T00:00:00.000000000",
          "2014-02-18T00:00:00.000000000",
          "2014-02-18T00:00:00.000000000",
          "2014-02-19T00:00:00.000000000",
          "2014-02-19T00:00:00.000000000",
          "2014-02-19T00:00:00.000000000",
          "2014-02-19T00:00:00.000000000",
          "2014-02-20T00:00:00.000000000",
          "2014-02-20T00:00:00.000000000",
          "2014-02-20T00:00:00.000000000",
          "2014-02-23T00:00:00.000000000",
          "2014-02-23T00:00:00.000000000",
          "2014-02-23T00:00:00.000000000",
          "2014-02-23T00:00:00.000000000",
          "2014-02-24T00:00:00.000000000",
          "2014-02-24T00:00:00.000000000",
          "2014-02-24T00:00:00.000000000",
          "2014-02-24T00:00:00.000000000",
          "2014-02-24T00:00:00.000000000",
          "2014-02-24T00:00:00.000000000",
          "2014-02-25T00:00:00.000000000",
          "2014-02-25T00:00:00.000000000",
          "2014-02-26T00:00:00.000000000",
          "2014-02-26T00:00:00.000000000",
          "2014-02-26T00:00:00.000000000",
          "2014-02-26T00:00:00.000000000",
          "2014-02-26T00:00:00.000000000",
          "2014-02-26T00:00:00.000000000",
          "2014-02-26T00:00:00.000000000",
          "2014-02-26T00:00:00.000000000",
          "2014-02-26T00:00:00.000000000",
          "2014-02-26T00:00:00.000000000",
          "2014-02-26T00:00:00.000000000",
          "2014-02-26T00:00:00.000000000",
          "2014-02-26T00:00:00.000000000",
          "2014-02-26T00:00:00.000000000",
          "2014-02-26T00:00:00.000000000",
          "2014-02-26T00:00:00.000000000",
          "2014-02-27T00:00:00.000000000",
          "2014-02-27T00:00:00.000000000",
          "2014-02-27T00:00:00.000000000",
          "2014-02-27T00:00:00.000000000",
          "2014-02-27T00:00:00.000000000",
          "2014-02-27T00:00:00.000000000",
          "2014-02-27T00:00:00.000000000",
          "2014-03-02T00:00:00.000000000",
          "2014-03-02T00:00:00.000000000",
          "2014-03-02T00:00:00.000000000",
          "2014-03-02T00:00:00.000000000",
          "2014-03-02T00:00:00.000000000",
          "2014-03-02T00:00:00.000000000",
          "2014-03-02T00:00:00.000000000",
          "2014-03-03T00:00:00.000000000",
          "2014-03-03T00:00:00.000000000",
          "2014-03-03T00:00:00.000000000",
          "2014-03-03T00:00:00.000000000",
          "2014-03-03T00:00:00.000000000",
          "2014-03-03T00:00:00.000000000",
          "2014-03-03T00:00:00.000000000",
          "2014-03-03T00:00:00.000000000",
          "2014-03-04T00:00:00.000000000",
          "2014-03-04T00:00:00.000000000",
          "2014-03-04T00:00:00.000000000",
          "2014-03-04T00:00:00.000000000",
          "2014-03-04T00:00:00.000000000",
          "2014-03-04T00:00:00.000000000",
          "2014-03-04T00:00:00.000000000",
          "2014-03-04T00:00:00.000000000",
          "2014-03-04T00:00:00.000000000",
          "2014-03-05T00:00:00.000000000",
          "2014-03-05T00:00:00.000000000",
          "2014-03-05T00:00:00.000000000",
          "2014-03-05T00:00:00.000000000",
          "2014-03-05T00:00:00.000000000",
          "2014-03-05T00:00:00.000000000",
          "2014-03-05T00:00:00.000000000",
          "2014-03-05T00:00:00.000000000",
          "2014-03-06T00:00:00.000000000",
          "2014-03-06T00:00:00.000000000",
          "2014-03-06T00:00:00.000000000",
          "2014-03-06T00:00:00.000000000",
          "2014-03-06T00:00:00.000000000",
          "2014-03-06T00:00:00.000000000",
          "2014-03-06T00:00:00.000000000",
          "2014-03-06T00:00:00.000000000",
          "2014-03-06T00:00:00.000000000",
          "2014-03-06T00:00:00.000000000",
          "2014-03-06T00:00:00.000000000",
          "2014-03-06T00:00:00.000000000",
          "2014-03-09T00:00:00.000000000",
          "2014-03-09T00:00:00.000000000",
          "2014-03-09T00:00:00.000000000",
          "2014-03-09T00:00:00.000000000",
          "2014-03-09T00:00:00.000000000",
          "2014-03-10T00:00:00.000000000",
          "2014-03-10T00:00:00.000000000",
          "2014-03-10T00:00:00.000000000",
          "2014-03-10T00:00:00.000000000",
          "2014-03-10T00:00:00.000000000",
          "2014-03-10T00:00:00.000000000",
          "2014-03-10T00:00:00.000000000",
          "2014-03-10T00:00:00.000000000",
          "2014-03-11T00:00:00.000000000",
          "2014-03-11T00:00:00.000000000",
          "2014-03-11T00:00:00.000000000",
          "2014-03-11T00:00:00.000000000",
          "2014-03-11T00:00:00.000000000",
          "2014-03-11T00:00:00.000000000",
          "2014-03-11T00:00:00.000000000",
          "2014-03-11T00:00:00.000000000",
          "2014-03-11T00:00:00.000000000",
          "2014-03-11T00:00:00.000000000",
          "2014-03-12T00:00:00.000000000",
          "2014-03-12T00:00:00.000000000",
          "2014-03-12T00:00:00.000000000",
          "2014-03-12T00:00:00.000000000",
          "2014-03-12T00:00:00.000000000",
          "2014-03-12T00:00:00.000000000",
          "2014-03-12T00:00:00.000000000",
          "2014-03-12T00:00:00.000000000",
          "2014-03-13T00:00:00.000000000",
          "2014-03-13T00:00:00.000000000",
          "2014-03-13T00:00:00.000000000",
          "2014-03-13T00:00:00.000000000",
          "2014-03-13T00:00:00.000000000",
          "2014-03-13T00:00:00.000000000",
          "2014-03-13T00:00:00.000000000",
          "2014-03-13T00:00:00.000000000",
          "2014-03-16T00:00:00.000000000",
          "2014-03-16T00:00:00.000000000",
          "2014-03-16T00:00:00.000000000",
          "2014-03-16T00:00:00.000000000",
          "2014-03-16T00:00:00.000000000",
          "2014-03-16T00:00:00.000000000",
          "2014-03-16T00:00:00.000000000",
          "2014-03-16T00:00:00.000000000",
          "2014-03-17T00:00:00.000000000",
          "2014-03-17T00:00:00.000000000",
          "2014-03-17T00:00:00.000000000",
          "2014-03-17T00:00:00.000000000",
          "2014-03-17T00:00:00.000000000",
          "2014-03-17T00:00:00.000000000",
          "2014-03-17T00:00:00.000000000",
          "2014-03-17T00:00:00.000000000",
          "2014-03-18T00:00:00.000000000",
          "2014-03-18T00:00:00.000000000",
          "2014-03-18T00:00:00.000000000",
          "2014-03-18T00:00:00.000000000",
          "2014-03-18T00:00:00.000000000",
          "2014-03-18T00:00:00.000000000",
          "2014-03-18T00:00:00.000000000",
          "2014-03-19T00:00:00.000000000",
          "2014-03-19T00:00:00.000000000",
          "2014-03-19T00:00:00.000000000",
          "2014-03-19T00:00:00.000000000",
          "2014-03-19T00:00:00.000000000",
          "2014-03-19T00:00:00.000000000",
          "2014-03-19T00:00:00.000000000",
          "2014-03-19T00:00:00.000000000",
          "2014-03-19T00:00:00.000000000",
          "2014-03-19T00:00:00.000000000",
          "2014-03-20T00:00:00.000000000",
          "2014-03-20T00:00:00.000000000",
          "2014-03-20T00:00:00.000000000",
          "2014-03-20T00:00:00.000000000",
          "2014-03-20T00:00:00.000000000",
          "2014-03-20T00:00:00.000000000",
          "2014-03-20T00:00:00.000000000",
          "2014-03-23T00:00:00.000000000",
          "2014-03-23T00:00:00.000000000",
          "2014-03-23T00:00:00.000000000",
          "2014-03-23T00:00:00.000000000",
          "2014-03-23T00:00:00.000000000",
          "2014-03-23T00:00:00.000000000",
          "2014-03-24T00:00:00.000000000",
          "2014-03-24T00:00:00.000000000",
          "2014-03-24T00:00:00.000000000",
          "2014-03-24T00:00:00.000000000",
          "2014-03-24T00:00:00.000000000",
          "2014-03-24T00:00:00.000000000",
          "2014-03-24T00:00:00.000000000",
          "2014-03-25T00:00:00.000000000",
          "2014-03-25T00:00:00.000000000",
          "2014-03-25T00:00:00.000000000",
          "2014-03-25T00:00:00.000000000",
          "2014-03-26T00:00:00.000000000",
          "2014-03-26T00:00:00.000000000",
          "2014-03-26T00:00:00.000000000",
          "2014-03-26T00:00:00.000000000",
          "2014-03-26T00:00:00.000000000",
          "2014-03-26T00:00:00.000000000",
          "2014-03-26T00:00:00.000000000",
          "2014-03-26T00:00:00.000000000",
          "2014-03-26T00:00:00.000000000",
          "2014-03-26T00:00:00.000000000",
          "2014-03-26T00:00:00.000000000",
          "2014-03-26T00:00:00.000000000",
          "2014-03-26T00:00:00.000000000",
          "2014-03-26T00:00:00.000000000",
          "2014-03-27T00:00:00.000000000",
          "2014-03-27T00:00:00.000000000",
          "2014-03-27T00:00:00.000000000",
          "2014-03-27T00:00:00.000000000",
          "2014-03-27T00:00:00.000000000",
          "2014-03-30T00:00:00.000000000",
          "2014-03-30T00:00:00.000000000",
          "2014-03-30T00:00:00.000000000",
          "2014-03-30T00:00:00.000000000",
          "2014-03-30T00:00:00.000000000",
          "2014-03-30T00:00:00.000000000",
          "2014-03-30T00:00:00.000000000",
          "2014-03-30T00:00:00.000000000",
          "2014-03-30T00:00:00.000000000",
          "2014-03-30T00:00:00.000000000",
          "2014-03-31T00:00:00.000000000",
          "2014-03-31T00:00:00.000000000",
          "2014-03-31T00:00:00.000000000",
          "2014-03-31T00:00:00.000000000",
          "2014-03-31T00:00:00.000000000",
          "2014-03-31T00:00:00.000000000",
          "2014-03-31T00:00:00.000000000",
          "2014-03-31T00:00:00.000000000",
          "2014-04-01T00:00:00.000000000",
          "2014-04-01T00:00:00.000000000",
          "2014-04-01T00:00:00.000000000",
          "2014-04-01T00:00:00.000000000",
          "2014-04-01T00:00:00.000000000",
          "2014-04-01T00:00:00.000000000",
          "2014-04-01T00:00:00.000000000",
          "2014-04-01T00:00:00.000000000",
          "2014-04-01T00:00:00.000000000",
          "2014-04-01T00:00:00.000000000",
          "2014-04-02T00:00:00.000000000",
          "2014-04-02T00:00:00.000000000",
          "2014-04-02T00:00:00.000000000",
          "2014-04-02T00:00:00.000000000",
          "2014-04-03T00:00:00.000000000",
          "2014-04-03T00:00:00.000000000",
          "2014-04-03T00:00:00.000000000",
          "2014-04-03T00:00:00.000000000",
          "2014-04-03T00:00:00.000000000",
          "2014-04-03T00:00:00.000000000",
          "2014-04-03T00:00:00.000000000",
          "2014-04-03T00:00:00.000000000",
          "2014-04-03T00:00:00.000000000",
          "2014-04-03T00:00:00.000000000",
          "2014-04-06T00:00:00.000000000",
          "2014-04-06T00:00:00.000000000",
          "2014-04-06T00:00:00.000000000",
          "2014-04-06T00:00:00.000000000",
          "2014-04-06T00:00:00.000000000",
          "2014-04-06T00:00:00.000000000",
          "2014-04-06T00:00:00.000000000",
          "2014-04-06T00:00:00.000000000",
          "2014-04-06T00:00:00.000000000",
          "2014-04-06T00:00:00.000000000",
          "2014-04-06T00:00:00.000000000",
          "2014-04-06T00:00:00.000000000",
          "2014-04-06T00:00:00.000000000",
          "2014-04-06T00:00:00.000000000",
          "2014-04-07T00:00:00.000000000",
          "2014-04-07T00:00:00.000000000",
          "2014-04-07T00:00:00.000000000",
          "2014-04-07T00:00:00.000000000",
          "2014-04-07T00:00:00.000000000",
          "2014-04-07T00:00:00.000000000",
          "2014-04-08T00:00:00.000000000",
          "2014-04-08T00:00:00.000000000",
          "2014-04-08T00:00:00.000000000",
          "2014-04-08T00:00:00.000000000",
          "2014-04-08T00:00:00.000000000",
          "2014-04-08T00:00:00.000000000",
          "2014-04-08T00:00:00.000000000",
          "2014-04-08T00:00:00.000000000",
          "2014-04-08T00:00:00.000000000",
          "2014-04-09T00:00:00.000000000",
          "2014-04-09T00:00:00.000000000",
          "2014-04-09T00:00:00.000000000",
          "2014-04-09T00:00:00.000000000",
          "2014-04-09T00:00:00.000000000",
          "2014-04-09T00:00:00.000000000",
          "2014-04-09T00:00:00.000000000",
          "2014-04-09T00:00:00.000000000",
          "2014-04-09T00:00:00.000000000",
          "2014-04-09T00:00:00.000000000",
          "2014-04-09T00:00:00.000000000",
          "2014-04-10T00:00:00.000000000",
          "2014-04-10T00:00:00.000000000",
          "2014-04-10T00:00:00.000000000",
          "2014-04-10T00:00:00.000000000",
          "2014-04-10T00:00:00.000000000",
          "2014-04-13T00:00:00.000000000",
          "2014-04-13T00:00:00.000000000",
          "2014-04-13T00:00:00.000000000",
          "2014-04-13T00:00:00.000000000",
          "2014-04-13T00:00:00.000000000",
          "2014-04-13T00:00:00.000000000",
          "2014-04-13T00:00:00.000000000",
          "2014-04-13T00:00:00.000000000",
          "2014-04-14T00:00:00.000000000",
          "2014-04-14T00:00:00.000000000",
          "2014-04-14T00:00:00.000000000",
          "2014-04-14T00:00:00.000000000",
          "2014-04-14T00:00:00.000000000",
          "2014-04-14T00:00:00.000000000",
          "2014-04-14T00:00:00.000000000",
          "2014-04-14T00:00:00.000000000",
          "2014-04-14T00:00:00.000000000",
          "2014-04-14T00:00:00.000000000",
          "2014-04-15T00:00:00.000000000",
          "2014-04-15T00:00:00.000000000",
          "2014-04-15T00:00:00.000000000",
          "2014-04-15T00:00:00.000000000",
          "2014-04-15T00:00:00.000000000",
          "2014-04-15T00:00:00.000000000",
          "2014-04-15T00:00:00.000000000",
          "2014-04-15T00:00:00.000000000",
          "2014-04-16T00:00:00.000000000",
          "2014-04-16T00:00:00.000000000",
          "2014-04-16T00:00:00.000000000",
          "2014-04-16T00:00:00.000000000",
          "2014-04-16T00:00:00.000000000",
          "2014-04-16T00:00:00.000000000",
          "2014-04-17T00:00:00.000000000",
          "2014-04-17T00:00:00.000000000",
          "2014-04-17T00:00:00.000000000",
          "2014-04-17T00:00:00.000000000",
          "2014-04-17T00:00:00.000000000",
          "2014-04-17T00:00:00.000000000",
          "2014-04-17T00:00:00.000000000",
          "2014-04-17T00:00:00.000000000",
          "2014-04-17T00:00:00.000000000",
          "2014-04-17T00:00:00.000000000",
          "2014-04-20T00:00:00.000000000",
          "2014-04-20T00:00:00.000000000",
          "2014-04-20T00:00:00.000000000",
          "2014-04-20T00:00:00.000000000",
          "2014-04-20T00:00:00.000000000",
          "2014-04-20T00:00:00.000000000",
          "2014-04-20T00:00:00.000000000",
          "2014-04-20T00:00:00.000000000",
          "2014-04-20T00:00:00.000000000",
          "2014-04-21T00:00:00.000000000",
          "2014-04-21T00:00:00.000000000",
          "2014-04-21T00:00:00.000000000",
          "2014-04-21T00:00:00.000000000",
          "2014-04-21T00:00:00.000000000",
          "2014-04-21T00:00:00.000000000",
          "2014-04-21T00:00:00.000000000",
          "2014-04-21T00:00:00.000000000",
          "2014-04-22T00:00:00.000000000",
          "2014-04-22T00:00:00.000000000",
          "2014-04-22T00:00:00.000000000",
          "2014-04-22T00:00:00.000000000",
          "2014-04-22T00:00:00.000000000",
          "2014-04-22T00:00:00.000000000",
          "2014-04-23T00:00:00.000000000",
          "2014-04-23T00:00:00.000000000",
          "2014-04-23T00:00:00.000000000",
          "2014-04-23T00:00:00.000000000",
          "2014-04-23T00:00:00.000000000",
          "2014-04-23T00:00:00.000000000",
          "2014-04-24T00:00:00.000000000",
          "2014-04-24T00:00:00.000000000",
          "2014-04-24T00:00:00.000000000",
          "2014-04-24T00:00:00.000000000",
          "2014-04-24T00:00:00.000000000",
          "2014-04-27T00:00:00.000000000",
          "2014-04-27T00:00:00.000000000",
          "2014-04-27T00:00:00.000000000",
          "2014-04-27T00:00:00.000000000",
          "2014-04-27T00:00:00.000000000",
          "2014-04-27T00:00:00.000000000",
          "2014-04-27T00:00:00.000000000",
          "2014-04-28T00:00:00.000000000",
          "2014-04-28T00:00:00.000000000",
          "2014-04-28T00:00:00.000000000",
          "2014-04-28T00:00:00.000000000",
          "2014-04-28T00:00:00.000000000",
          "2014-04-28T00:00:00.000000000",
          "2014-04-28T00:00:00.000000000",
          "2014-04-28T00:00:00.000000000",
          "2014-04-28T00:00:00.000000000",
          "2014-04-29T00:00:00.000000000",
          "2014-04-29T00:00:00.000000000",
          "2014-04-29T00:00:00.000000000",
          "2014-04-29T00:00:00.000000000",
          "2014-04-29T00:00:00.000000000",
          "2014-04-29T00:00:00.000000000",
          "2014-04-29T00:00:00.000000000",
          "2014-04-30T00:00:00.000000000",
          "2014-04-30T00:00:00.000000000",
          "2014-04-30T00:00:00.000000000",
          "2014-04-30T00:00:00.000000000",
          "2014-04-30T00:00:00.000000000",
          "2014-04-30T00:00:00.000000000",
          "2014-04-30T00:00:00.000000000",
          "2014-04-30T00:00:00.000000000",
          "2014-05-01T00:00:00.000000000",
          "2014-05-01T00:00:00.000000000",
          "2014-05-01T00:00:00.000000000",
          "2014-05-01T00:00:00.000000000",
          "2014-05-01T00:00:00.000000000",
          "2014-05-01T00:00:00.000000000",
          "2014-05-01T00:00:00.000000000",
          "2014-05-01T00:00:00.000000000",
          "2014-05-01T00:00:00.000000000",
          "2014-05-01T00:00:00.000000000",
          "2014-05-04T00:00:00.000000000",
          "2014-05-04T00:00:00.000000000",
          "2014-05-04T00:00:00.000000000",
          "2014-05-04T00:00:00.000000000",
          "2014-05-04T00:00:00.000000000",
          "2014-05-05T00:00:00.000000000",
          "2014-05-05T00:00:00.000000000",
          "2014-05-05T00:00:00.000000000",
          "2014-05-05T00:00:00.000000000",
          "2014-05-05T00:00:00.000000000",
          "2014-05-05T00:00:00.000000000",
          "2014-05-05T00:00:00.000000000",
          "2014-05-05T00:00:00.000000000",
          "2014-05-05T00:00:00.000000000",
          "2014-05-05T00:00:00.000000000",
          "2014-05-05T00:00:00.000000000",
          "2014-05-05T00:00:00.000000000",
          "2014-05-06T00:00:00.000000000",
          "2014-05-06T00:00:00.000000000",
          "2014-05-06T00:00:00.000000000",
          "2014-05-06T00:00:00.000000000",
          "2014-05-06T00:00:00.000000000",
          "2014-05-06T00:00:00.000000000",
          "2014-05-06T00:00:00.000000000",
          "2014-05-06T00:00:00.000000000",
          "2014-05-06T00:00:00.000000000",
          "2014-05-06T00:00:00.000000000",
          "2014-05-06T00:00:00.000000000",
          "2014-05-06T00:00:00.000000000",
          "2014-05-06T00:00:00.000000000",
          "2014-05-06T00:00:00.000000000",
          "2014-05-06T00:00:00.000000000",
          "2014-05-06T00:00:00.000000000",
          "2014-05-06T00:00:00.000000000",
          "2014-05-06T00:00:00.000000000",
          "2014-05-06T00:00:00.000000000",
          "2014-05-06T00:00:00.000000000",
          "2014-05-06T00:00:00.000000000",
          "2014-05-06T00:00:00.000000000",
          "2014-05-06T00:00:00.000000000",
          "2014-05-06T00:00:00.000000000",
          "2014-05-06T00:00:00.000000000",
          "2014-05-06T00:00:00.000000000",
          "2014-05-06T00:00:00.000000000",
          "2014-05-06T00:00:00.000000000",
          "2014-05-06T00:00:00.000000000",
          "2014-05-06T00:00:00.000000000",
          "2014-05-06T00:00:00.000000000",
          "2014-05-06T00:00:00.000000000"
         ],
         "xaxis": "x",
         "y": {
          "bdata": "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",
          "dtype": "f8"
         },
         "yaxis": "y"
        }
       ],
       "layout": {
        "legend": {
         "title": {
          "text": "variable"
         },
         "tracegroupgap": 0
        },
        "template": {
         "data": {
          "bar": [
           {
            "error_x": {
             "color": "#2a3f5f"
            },
            "error_y": {
             "color": "#2a3f5f"
            },
            "marker": {
             "line": {
              "color": "#E5ECF6",
              "width": 0.5
             },
             "pattern": {
              "fillmode": "overlay",
              "size": 10,
              "solidity": 0.2
             }
            },
            "type": "bar"
           }
          ],
          "barpolar": [
           {
            "marker": {
             "line": {
              "color": "#E5ECF6",
              "width": 0.5
             },
             "pattern": {
              "fillmode": "overlay",
              "size": 10,
              "solidity": 0.2
             }
            },
            "type": "barpolar"
           }
          ],
          "carpet": [
           {
            "aaxis": {
             "endlinecolor": "#2a3f5f",
             "gridcolor": "white",
             "linecolor": "white",
             "minorgridcolor": "white",
             "startlinecolor": "#2a3f5f"
            },
            "baxis": {
             "endlinecolor": "#2a3f5f",
             "gridcolor": "white",
             "linecolor": "white",
             "minorgridcolor": "white",
             "startlinecolor": "#2a3f5f"
            },
            "type": "carpet"
           }
          ],
          "choropleth": [
           {
            "colorbar": {
             "outlinewidth": 0,
             "ticks": ""
            },
            "type": "choropleth"
           }
          ],
          "contour": [
           {
            "colorbar": {
             "outlinewidth": 0,
             "ticks": ""
            },
            "colorscale": [
             [
              0,
              "#0d0887"
             ],
             [
              0.1111111111111111,
              "#46039f"
             ],
             [
              0.2222222222222222,
              "#7201a8"
             ],
             [
              0.3333333333333333,
              "#9c179e"
             ],
             [
              0.4444444444444444,
              "#bd3786"
             ],
             [
              0.5555555555555556,
              "#d8576b"
             ],
             [
              0.6666666666666666,
              "#ed7953"
             ],
             [
              0.7777777777777778,
              "#fb9f3a"
             ],
             [
              0.8888888888888888,
              "#fdca26"
             ],
             [
              1,
              "#f0f921"
             ]
            ],
            "type": "contour"
           }
          ],
          "contourcarpet": [
           {
            "colorbar": {
             "outlinewidth": 0,
             "ticks": ""
            },
            "type": "contourcarpet"
           }
          ],
          "heatmap": [
           {
            "colorbar": {
             "outlinewidth": 0,
             "ticks": ""
            },
            "colorscale": [
             [
              0,
              "#0d0887"
             ],
             [
              0.1111111111111111,
              "#46039f"
             ],
             [
              0.2222222222222222,
              "#7201a8"
             ],
             [
              0.3333333333333333,
              "#9c179e"
             ],
             [
              0.4444444444444444,
              "#bd3786"
             ],
             [
              0.5555555555555556,
              "#d8576b"
             ],
             [
              0.6666666666666666,
              "#ed7953"
             ],
             [
              0.7777777777777778,
              "#fb9f3a"
             ],
             [
              0.8888888888888888,
              "#fdca26"
             ],
             [
              1,
              "#f0f921"
             ]
            ],
            "type": "heatmap"
           }
          ],
          "histogram": [
           {
            "marker": {
             "pattern": {
              "fillmode": "overlay",
              "size": 10,
              "solidity": 0.2
             }
            },
            "type": "histogram"
           }
          ],
          "histogram2d": [
           {
            "colorbar": {
             "outlinewidth": 0,
             "ticks": ""
            },
            "colorscale": [
             [
              0,
              "#0d0887"
             ],
             [
              0.1111111111111111,
              "#46039f"
             ],
             [
              0.2222222222222222,
              "#7201a8"
             ],
             [
              0.3333333333333333,
              "#9c179e"
             ],
             [
              0.4444444444444444,
              "#bd3786"
             ],
             [
              0.5555555555555556,
              "#d8576b"
             ],
             [
              0.6666666666666666,
              "#ed7953"
             ],
             [
              0.7777777777777778,
              "#fb9f3a"
             ],
             [
              0.8888888888888888,
              "#fdca26"
             ],
             [
              1,
              "#f0f921"
             ]
            ],
            "type": "histogram2d"
           }
          ],
          "histogram2dcontour": [
           {
            "colorbar": {
             "outlinewidth": 0,
             "ticks": ""
            },
            "colorscale": [
             [
              0,
              "#0d0887"
             ],
             [
              0.1111111111111111,
              "#46039f"
             ],
             [
              0.2222222222222222,
              "#7201a8"
             ],
             [
              0.3333333333333333,
              "#9c179e"
             ],
             [
              0.4444444444444444,
              "#bd3786"
             ],
             [
              0.5555555555555556,
              "#d8576b"
             ],
             [
              0.6666666666666666,
              "#ed7953"
             ],
             [
              0.7777777777777778,
              "#fb9f3a"
             ],
             [
              0.8888888888888888,
              "#fdca26"
             ],
             [
              1,
              "#f0f921"
             ]
            ],
            "type": "histogram2dcontour"
           }
          ],
          "mesh3d": [
           {
            "colorbar": {
             "outlinewidth": 0,
             "ticks": ""
            },
            "type": "mesh3d"
           }
          ],
          "parcoords": [
           {
            "line": {
             "colorbar": {
              "outlinewidth": 0,
              "ticks": ""
             }
            },
            "type": "parcoords"
           }
          ],
          "pie": [
           {
            "automargin": true,
            "type": "pie"
           }
          ],
          "scatter": [
           {
            "fillpattern": {
             "fillmode": "overlay",
             "size": 10,
             "solidity": 0.2
            },
            "type": "scatter"
           }
          ],
          "scatter3d": [
           {
            "line": {
             "colorbar": {
              "outlinewidth": 0,
              "ticks": ""
             }
            },
            "marker": {
             "colorbar": {
              "outlinewidth": 0,
              "ticks": ""
             }
            },
            "type": "scatter3d"
           }
          ],
          "scattercarpet": [
           {
            "marker": {
             "colorbar": {
              "outlinewidth": 0,
              "ticks": ""
             }
            },
            "type": "scattercarpet"
           }
          ],
          "scattergeo": [
           {
            "marker": {
             "colorbar": {
              "outlinewidth": 0,
              "ticks": ""
             }
            },
            "type": "scattergeo"
           }
          ],
          "scattergl": [
           {
            "marker": {
             "colorbar": {
              "outlinewidth": 0,
              "ticks": ""
             }
            },
            "type": "scattergl"
           }
          ],
          "scattermap": [
           {
            "marker": {
             "colorbar": {
              "outlinewidth": 0,
              "ticks": ""
             }
            },
            "type": "scattermap"
           }
          ],
          "scattermapbox": [
           {
            "marker": {
             "colorbar": {
              "outlinewidth": 0,
              "ticks": ""
             }
            },
            "type": "scattermapbox"
           }
          ],
          "scatterpolar": [
           {
            "marker": {
             "colorbar": {
              "outlinewidth": 0,
              "ticks": ""
             }
            },
            "type": "scatterpolar"
           }
          ],
          "scatterpolargl": [
           {
            "marker": {
             "colorbar": {
              "outlinewidth": 0,
              "ticks": ""
             }
            },
            "type": "scatterpolargl"
           }
          ],
          "scatterternary": [
           {
            "marker": {
             "colorbar": {
              "outlinewidth": 0,
              "ticks": ""
             }
            },
            "type": "scatterternary"
           }
          ],
          "surface": [
           {
            "colorbar": {
             "outlinewidth": 0,
             "ticks": ""
            },
            "colorscale": [
             [
              0,
              "#0d0887"
             ],
             [
              0.1111111111111111,
              "#46039f"
             ],
             [
              0.2222222222222222,
              "#7201a8"
             ],
             [
              0.3333333333333333,
              "#9c179e"
             ],
             [
              0.4444444444444444,
              "#bd3786"
             ],
             [
              0.5555555555555556,
              "#d8576b"
             ],
             [
              0.6666666666666666,
              "#ed7953"
             ],
             [
              0.7777777777777778,
              "#fb9f3a"
             ],
             [
              0.8888888888888888,
              "#fdca26"
             ],
             [
              1,
              "#f0f921"
             ]
            ],
            "type": "surface"
           }
          ],
          "table": [
           {
            "cells": {
             "fill": {
              "color": "#EBF0F8"
             },
             "line": {
              "color": "white"
             }
            },
            "header": {
             "fill": {
              "color": "#C8D4E3"
             },
             "line": {
              "color": "white"
             }
            },
            "type": "table"
           }
          ]
         },
         "layout": {
          "annotationdefaults": {
           "arrowcolor": "#2a3f5f",
           "arrowhead": 0,
           "arrowwidth": 1
          },
          "autotypenumbers": "strict",
          "coloraxis": {
           "colorbar": {
            "outlinewidth": 0,
            "ticks": ""
           }
          },
          "colorscale": {
           "diverging": [
            [
             0,
             "#8e0152"
            ],
            [
             0.1,
             "#c51b7d"
            ],
            [
             0.2,
             "#de77ae"
            ],
            [
             0.3,
             "#f1b6da"
            ],
            [
             0.4,
             "#fde0ef"
            ],
            [
             0.5,
             "#f7f7f7"
            ],
            [
             0.6,
             "#e6f5d0"
            ],
            [
             0.7,
             "#b8e186"
            ],
            [
             0.8,
             "#7fbc41"
            ],
            [
             0.9,
             "#4d9221"
            ],
            [
             1,
             "#276419"
            ]
           ],
           "sequential": [
            [
             0,
             "#0d0887"
            ],
            [
             0.1111111111111111,
             "#46039f"
            ],
            [
             0.2222222222222222,
             "#7201a8"
            ],
            [
             0.3333333333333333,
             "#9c179e"
            ],
            [
             0.4444444444444444,
             "#bd3786"
            ],
            [
             0.5555555555555556,
             "#d8576b"
            ],
            [
             0.6666666666666666,
             "#ed7953"
            ],
            [
             0.7777777777777778,
             "#fb9f3a"
            ],
            [
             0.8888888888888888,
             "#fdca26"
            ],
            [
             1,
             "#f0f921"
            ]
           ],
           "sequentialminus": [
            [
             0,
             "#0d0887"
            ],
            [
             0.1111111111111111,
             "#46039f"
            ],
            [
             0.2222222222222222,
             "#7201a8"
            ],
            [
             0.3333333333333333,
             "#9c179e"
            ],
            [
             0.4444444444444444,
             "#bd3786"
            ],
            [
             0.5555555555555556,
             "#d8576b"
            ],
            [
             0.6666666666666666,
             "#ed7953"
            ],
            [
             0.7777777777777778,
             "#fb9f3a"
            ],
            [
             0.8888888888888888,
             "#fdca26"
            ],
            [
             1,
             "#f0f921"
            ]
           ]
          },
          "colorway": [
           "#636efa",
           "#EF553B",
           "#00cc96",
           "#ab63fa",
           "#FFA15A",
           "#19d3f3",
           "#FF6692",
           "#B6E880",
           "#FF97FF",
           "#FECB52"
          ],
          "font": {
           "color": "#2a3f5f"
          },
          "geo": {
           "bgcolor": "white",
           "lakecolor": "white",
           "landcolor": "#E5ECF6",
           "showlakes": true,
           "showland": true,
           "subunitcolor": "white"
          },
          "hoverlabel": {
           "align": "left"
          },
          "hovermode": "closest",
          "mapbox": {
           "style": "light"
          },
          "paper_bgcolor": "white",
          "plot_bgcolor": "#E5ECF6",
          "polar": {
           "angularaxis": {
            "gridcolor": "white",
            "linecolor": "white",
            "ticks": ""
           },
           "bgcolor": "#E5ECF6",
           "radialaxis": {
            "gridcolor": "white",
            "linecolor": "white",
            "ticks": ""
           }
          },
          "scene": {
           "xaxis": {
            "backgroundcolor": "#E5ECF6",
            "gridcolor": "white",
            "gridwidth": 2,
            "linecolor": "white",
            "showbackground": true,
            "ticks": "",
            "zerolinecolor": "white"
           },
           "yaxis": {
            "backgroundcolor": "#E5ECF6",
            "gridcolor": "white",
            "gridwidth": 2,
            "linecolor": "white",
            "showbackground": true,
            "ticks": "",
            "zerolinecolor": "white"
           },
           "zaxis": {
            "backgroundcolor": "#E5ECF6",
            "gridcolor": "white",
            "gridwidth": 2,
            "linecolor": "white",
            "showbackground": true,
            "ticks": "",
            "zerolinecolor": "white"
           }
          },
          "shapedefaults": {
           "line": {
            "color": "#2a3f5f"
           }
          },
          "ternary": {
           "aaxis": {
            "gridcolor": "white",
            "linecolor": "white",
            "ticks": ""
           },
           "baxis": {
            "gridcolor": "white",
            "linecolor": "white",
            "ticks": ""
           },
           "bgcolor": "#E5ECF6",
           "caxis": {
            "gridcolor": "white",
            "linecolor": "white",
            "ticks": ""
           }
          },
          "title": {
           "x": 0.05
          },
          "xaxis": {
           "automargin": true,
           "gridcolor": "white",
           "linecolor": "white",
           "ticks": "",
           "title": {
            "standoff": 15
           },
           "zerolinecolor": "white",
           "zerolinewidth": 2
          },
          "yaxis": {
           "automargin": true,
           "gridcolor": "white",
           "linecolor": "white",
           "ticks": "",
           "title": {
            "standoff": 15
           },
           "zerolinecolor": "white",
           "zerolinewidth": 2
          }
         }
        },
        "title": {
         "text": "Total Amount Over Time"
        },
        "xaxis": {
         "anchor": "y",
         "domain": [
          0,
          1
         ],
         "title": {
          "text": "OrderDate"
         }
        },
        "yaxis": {
         "anchor": "x",
         "domain": [
          0,
          1
         ],
         "title": {
          "text": "value"
         }
        }
       }
      }
     },
     "metadata": {},
     "output_type": "display_data"
    }
   ],
   "source": [
    "px.line(data_frame=date_total, title='Total Amount Over Time')"
   ]
  },
  {
   "cell_type": "markdown",
   "metadata": {},
   "source": [
    "#### Oder Date vs Country"
   ]
  },
  {
   "cell_type": "code",
   "execution_count": 34,
   "metadata": {},
   "outputs": [
    {
     "data": {
      "text/plain": [
       "OrderDate\n",
       "2012-07-31    11\n",
       "2012-08-31    11\n",
       "2012-09-30    11\n",
       "2012-10-31    13\n",
       "2012-11-30    11\n",
       "Freq: ME, Name: Country, dtype: int64"
      ]
     },
     "execution_count": 34,
     "metadata": {},
     "output_type": "execute_result"
    }
   ],
   "source": [
    "# Ensure 'OrderDate' is in datetime format\n",
    "df['OrderDate'] = pd.to_datetime(df['OrderDate'])\n",
    "\n",
    "# Select relevant columns and set 'OrderDate' as the index\n",
    "date_country = df[['OrderDate', 'Country']].set_index('OrderDate')\n",
    "\n",
    "# Resample by month-end ('ME') and aggregate unique countries into a list\n",
    "date_country = date_country.resample('ME')['Country'].nunique()\n",
    "\n",
    "# Display the first few rows of the result\n",
    "date_country.head()"
   ]
  },
  {
   "cell_type": "code",
   "execution_count": 35,
   "metadata": {},
   "outputs": [
    {
     "data": {
      "application/vnd.plotly.v1+json": {
       "config": {
        "plotlyServerURL": "https://plot.ly"
       },
       "data": [
        {
         "hovertemplate": "variable=Country<br>OrderDate=%{x}<br>value=%{y}<extra></extra>",
         "legendgroup": "Country",
         "line": {
          "color": "#636efa",
          "dash": "solid"
         },
         "marker": {
          "symbol": "circle"
         },
         "mode": "lines",
         "name": "Country",
         "orientation": "v",
         "showlegend": true,
         "type": "scatter",
         "x": [
          "2012-07-31T00:00:00.000000000",
          "2012-08-31T00:00:00.000000000",
          "2012-09-30T00:00:00.000000000",
          "2012-10-31T00:00:00.000000000",
          "2012-11-30T00:00:00.000000000",
          "2012-12-31T00:00:00.000000000",
          "2013-01-31T00:00:00.000000000",
          "2013-02-28T00:00:00.000000000",
          "2013-03-31T00:00:00.000000000",
          "2013-04-30T00:00:00.000000000",
          "2013-05-31T00:00:00.000000000",
          "2013-06-30T00:00:00.000000000",
          "2013-07-31T00:00:00.000000000",
          "2013-08-31T00:00:00.000000000",
          "2013-09-30T00:00:00.000000000",
          "2013-10-31T00:00:00.000000000",
          "2013-11-30T00:00:00.000000000",
          "2013-12-31T00:00:00.000000000",
          "2014-01-31T00:00:00.000000000",
          "2014-02-28T00:00:00.000000000",
          "2014-03-31T00:00:00.000000000",
          "2014-04-30T00:00:00.000000000",
          "2014-05-31T00:00:00.000000000"
         ],
         "xaxis": "x",
         "y": {
          "bdata": "CwsLDQsPDw4MDQ8ODREODg8PDhESFQk=",
          "dtype": "i1"
         },
         "yaxis": "y"
        }
       ],
       "layout": {
        "legend": {
         "title": {
          "text": "variable"
         },
         "tracegroupgap": 0
        },
        "template": {
         "data": {
          "bar": [
           {
            "error_x": {
             "color": "#2a3f5f"
            },
            "error_y": {
             "color": "#2a3f5f"
            },
            "marker": {
             "line": {
              "color": "#E5ECF6",
              "width": 0.5
             },
             "pattern": {
              "fillmode": "overlay",
              "size": 10,
              "solidity": 0.2
             }
            },
            "type": "bar"
           }
          ],
          "barpolar": [
           {
            "marker": {
             "line": {
              "color": "#E5ECF6",
              "width": 0.5
             },
             "pattern": {
              "fillmode": "overlay",
              "size": 10,
              "solidity": 0.2
             }
            },
            "type": "barpolar"
           }
          ],
          "carpet": [
           {
            "aaxis": {
             "endlinecolor": "#2a3f5f",
             "gridcolor": "white",
             "linecolor": "white",
             "minorgridcolor": "white",
             "startlinecolor": "#2a3f5f"
            },
            "baxis": {
             "endlinecolor": "#2a3f5f",
             "gridcolor": "white",
             "linecolor": "white",
             "minorgridcolor": "white",
             "startlinecolor": "#2a3f5f"
            },
            "type": "carpet"
           }
          ],
          "choropleth": [
           {
            "colorbar": {
             "outlinewidth": 0,
             "ticks": ""
            },
            "type": "choropleth"
           }
          ],
          "contour": [
           {
            "colorbar": {
             "outlinewidth": 0,
             "ticks": ""
            },
            "colorscale": [
             [
              0,
              "#0d0887"
             ],
             [
              0.1111111111111111,
              "#46039f"
             ],
             [
              0.2222222222222222,
              "#7201a8"
             ],
             [
              0.3333333333333333,
              "#9c179e"
             ],
             [
              0.4444444444444444,
              "#bd3786"
             ],
             [
              0.5555555555555556,
              "#d8576b"
             ],
             [
              0.6666666666666666,
              "#ed7953"
             ],
             [
              0.7777777777777778,
              "#fb9f3a"
             ],
             [
              0.8888888888888888,
              "#fdca26"
             ],
             [
              1,
              "#f0f921"
             ]
            ],
            "type": "contour"
           }
          ],
          "contourcarpet": [
           {
            "colorbar": {
             "outlinewidth": 0,
             "ticks": ""
            },
            "type": "contourcarpet"
           }
          ],
          "heatmap": [
           {
            "colorbar": {
             "outlinewidth": 0,
             "ticks": ""
            },
            "colorscale": [
             [
              0,
              "#0d0887"
             ],
             [
              0.1111111111111111,
              "#46039f"
             ],
             [
              0.2222222222222222,
              "#7201a8"
             ],
             [
              0.3333333333333333,
              "#9c179e"
             ],
             [
              0.4444444444444444,
              "#bd3786"
             ],
             [
              0.5555555555555556,
              "#d8576b"
             ],
             [
              0.6666666666666666,
              "#ed7953"
             ],
             [
              0.7777777777777778,
              "#fb9f3a"
             ],
             [
              0.8888888888888888,
              "#fdca26"
             ],
             [
              1,
              "#f0f921"
             ]
            ],
            "type": "heatmap"
           }
          ],
          "histogram": [
           {
            "marker": {
             "pattern": {
              "fillmode": "overlay",
              "size": 10,
              "solidity": 0.2
             }
            },
            "type": "histogram"
           }
          ],
          "histogram2d": [
           {
            "colorbar": {
             "outlinewidth": 0,
             "ticks": ""
            },
            "colorscale": [
             [
              0,
              "#0d0887"
             ],
             [
              0.1111111111111111,
              "#46039f"
             ],
             [
              0.2222222222222222,
              "#7201a8"
             ],
             [
              0.3333333333333333,
              "#9c179e"
             ],
             [
              0.4444444444444444,
              "#bd3786"
             ],
             [
              0.5555555555555556,
              "#d8576b"
             ],
             [
              0.6666666666666666,
              "#ed7953"
             ],
             [
              0.7777777777777778,
              "#fb9f3a"
             ],
             [
              0.8888888888888888,
              "#fdca26"
             ],
             [
              1,
              "#f0f921"
             ]
            ],
            "type": "histogram2d"
           }
          ],
          "histogram2dcontour": [
           {
            "colorbar": {
             "outlinewidth": 0,
             "ticks": ""
            },
            "colorscale": [
             [
              0,
              "#0d0887"
             ],
             [
              0.1111111111111111,
              "#46039f"
             ],
             [
              0.2222222222222222,
              "#7201a8"
             ],
             [
              0.3333333333333333,
              "#9c179e"
             ],
             [
              0.4444444444444444,
              "#bd3786"
             ],
             [
              0.5555555555555556,
              "#d8576b"
             ],
             [
              0.6666666666666666,
              "#ed7953"
             ],
             [
              0.7777777777777778,
              "#fb9f3a"
             ],
             [
              0.8888888888888888,
              "#fdca26"
             ],
             [
              1,
              "#f0f921"
             ]
            ],
            "type": "histogram2dcontour"
           }
          ],
          "mesh3d": [
           {
            "colorbar": {
             "outlinewidth": 0,
             "ticks": ""
            },
            "type": "mesh3d"
           }
          ],
          "parcoords": [
           {
            "line": {
             "colorbar": {
              "outlinewidth": 0,
              "ticks": ""
             }
            },
            "type": "parcoords"
           }
          ],
          "pie": [
           {
            "automargin": true,
            "type": "pie"
           }
          ],
          "scatter": [
           {
            "fillpattern": {
             "fillmode": "overlay",
             "size": 10,
             "solidity": 0.2
            },
            "type": "scatter"
           }
          ],
          "scatter3d": [
           {
            "line": {
             "colorbar": {
              "outlinewidth": 0,
              "ticks": ""
             }
            },
            "marker": {
             "colorbar": {
              "outlinewidth": 0,
              "ticks": ""
             }
            },
            "type": "scatter3d"
           }
          ],
          "scattercarpet": [
           {
            "marker": {
             "colorbar": {
              "outlinewidth": 0,
              "ticks": ""
             }
            },
            "type": "scattercarpet"
           }
          ],
          "scattergeo": [
           {
            "marker": {
             "colorbar": {
              "outlinewidth": 0,
              "ticks": ""
             }
            },
            "type": "scattergeo"
           }
          ],
          "scattergl": [
           {
            "marker": {
             "colorbar": {
              "outlinewidth": 0,
              "ticks": ""
             }
            },
            "type": "scattergl"
           }
          ],
          "scattermap": [
           {
            "marker": {
             "colorbar": {
              "outlinewidth": 0,
              "ticks": ""
             }
            },
            "type": "scattermap"
           }
          ],
          "scattermapbox": [
           {
            "marker": {
             "colorbar": {
              "outlinewidth": 0,
              "ticks": ""
             }
            },
            "type": "scattermapbox"
           }
          ],
          "scatterpolar": [
           {
            "marker": {
             "colorbar": {
              "outlinewidth": 0,
              "ticks": ""
             }
            },
            "type": "scatterpolar"
           }
          ],
          "scatterpolargl": [
           {
            "marker": {
             "colorbar": {
              "outlinewidth": 0,
              "ticks": ""
             }
            },
            "type": "scatterpolargl"
           }
          ],
          "scatterternary": [
           {
            "marker": {
             "colorbar": {
              "outlinewidth": 0,
              "ticks": ""
             }
            },
            "type": "scatterternary"
           }
          ],
          "surface": [
           {
            "colorbar": {
             "outlinewidth": 0,
             "ticks": ""
            },
            "colorscale": [
             [
              0,
              "#0d0887"
             ],
             [
              0.1111111111111111,
              "#46039f"
             ],
             [
              0.2222222222222222,
              "#7201a8"
             ],
             [
              0.3333333333333333,
              "#9c179e"
             ],
             [
              0.4444444444444444,
              "#bd3786"
             ],
             [
              0.5555555555555556,
              "#d8576b"
             ],
             [
              0.6666666666666666,
              "#ed7953"
             ],
             [
              0.7777777777777778,
              "#fb9f3a"
             ],
             [
              0.8888888888888888,
              "#fdca26"
             ],
             [
              1,
              "#f0f921"
             ]
            ],
            "type": "surface"
           }
          ],
          "table": [
           {
            "cells": {
             "fill": {
              "color": "#EBF0F8"
             },
             "line": {
              "color": "white"
             }
            },
            "header": {
             "fill": {
              "color": "#C8D4E3"
             },
             "line": {
              "color": "white"
             }
            },
            "type": "table"
           }
          ]
         },
         "layout": {
          "annotationdefaults": {
           "arrowcolor": "#2a3f5f",
           "arrowhead": 0,
           "arrowwidth": 1
          },
          "autotypenumbers": "strict",
          "coloraxis": {
           "colorbar": {
            "outlinewidth": 0,
            "ticks": ""
           }
          },
          "colorscale": {
           "diverging": [
            [
             0,
             "#8e0152"
            ],
            [
             0.1,
             "#c51b7d"
            ],
            [
             0.2,
             "#de77ae"
            ],
            [
             0.3,
             "#f1b6da"
            ],
            [
             0.4,
             "#fde0ef"
            ],
            [
             0.5,
             "#f7f7f7"
            ],
            [
             0.6,
             "#e6f5d0"
            ],
            [
             0.7,
             "#b8e186"
            ],
            [
             0.8,
             "#7fbc41"
            ],
            [
             0.9,
             "#4d9221"
            ],
            [
             1,
             "#276419"
            ]
           ],
           "sequential": [
            [
             0,
             "#0d0887"
            ],
            [
             0.1111111111111111,
             "#46039f"
            ],
            [
             0.2222222222222222,
             "#7201a8"
            ],
            [
             0.3333333333333333,
             "#9c179e"
            ],
            [
             0.4444444444444444,
             "#bd3786"
            ],
            [
             0.5555555555555556,
             "#d8576b"
            ],
            [
             0.6666666666666666,
             "#ed7953"
            ],
            [
             0.7777777777777778,
             "#fb9f3a"
            ],
            [
             0.8888888888888888,
             "#fdca26"
            ],
            [
             1,
             "#f0f921"
            ]
           ],
           "sequentialminus": [
            [
             0,
             "#0d0887"
            ],
            [
             0.1111111111111111,
             "#46039f"
            ],
            [
             0.2222222222222222,
             "#7201a8"
            ],
            [
             0.3333333333333333,
             "#9c179e"
            ],
            [
             0.4444444444444444,
             "#bd3786"
            ],
            [
             0.5555555555555556,
             "#d8576b"
            ],
            [
             0.6666666666666666,
             "#ed7953"
            ],
            [
             0.7777777777777778,
             "#fb9f3a"
            ],
            [
             0.8888888888888888,
             "#fdca26"
            ],
            [
             1,
             "#f0f921"
            ]
           ]
          },
          "colorway": [
           "#636efa",
           "#EF553B",
           "#00cc96",
           "#ab63fa",
           "#FFA15A",
           "#19d3f3",
           "#FF6692",
           "#B6E880",
           "#FF97FF",
           "#FECB52"
          ],
          "font": {
           "color": "#2a3f5f"
          },
          "geo": {
           "bgcolor": "white",
           "lakecolor": "white",
           "landcolor": "#E5ECF6",
           "showlakes": true,
           "showland": true,
           "subunitcolor": "white"
          },
          "hoverlabel": {
           "align": "left"
          },
          "hovermode": "closest",
          "mapbox": {
           "style": "light"
          },
          "paper_bgcolor": "white",
          "plot_bgcolor": "#E5ECF6",
          "polar": {
           "angularaxis": {
            "gridcolor": "white",
            "linecolor": "white",
            "ticks": ""
           },
           "bgcolor": "#E5ECF6",
           "radialaxis": {
            "gridcolor": "white",
            "linecolor": "white",
            "ticks": ""
           }
          },
          "scene": {
           "xaxis": {
            "backgroundcolor": "#E5ECF6",
            "gridcolor": "white",
            "gridwidth": 2,
            "linecolor": "white",
            "showbackground": true,
            "ticks": "",
            "zerolinecolor": "white"
           },
           "yaxis": {
            "backgroundcolor": "#E5ECF6",
            "gridcolor": "white",
            "gridwidth": 2,
            "linecolor": "white",
            "showbackground": true,
            "ticks": "",
            "zerolinecolor": "white"
           },
           "zaxis": {
            "backgroundcolor": "#E5ECF6",
            "gridcolor": "white",
            "gridwidth": 2,
            "linecolor": "white",
            "showbackground": true,
            "ticks": "",
            "zerolinecolor": "white"
           }
          },
          "shapedefaults": {
           "line": {
            "color": "#2a3f5f"
           }
          },
          "ternary": {
           "aaxis": {
            "gridcolor": "white",
            "linecolor": "white",
            "ticks": ""
           },
           "baxis": {
            "gridcolor": "white",
            "linecolor": "white",
            "ticks": ""
           },
           "bgcolor": "#E5ECF6",
           "caxis": {
            "gridcolor": "white",
            "linecolor": "white",
            "ticks": ""
           }
          },
          "title": {
           "x": 0.05
          },
          "xaxis": {
           "automargin": true,
           "gridcolor": "white",
           "linecolor": "white",
           "ticks": "",
           "title": {
            "standoff": 15
           },
           "zerolinecolor": "white",
           "zerolinewidth": 2
          },
          "yaxis": {
           "automargin": true,
           "gridcolor": "white",
           "linecolor": "white",
           "ticks": "",
           "title": {
            "standoff": 15
           },
           "zerolinecolor": "white",
           "zerolinewidth": 2
          }
         }
        },
        "title": {
         "text": "Number of Countries Ordering Over Time"
        },
        "xaxis": {
         "anchor": "y",
         "domain": [
          0,
          1
         ],
         "title": {
          "text": "OrderDate"
         }
        },
        "yaxis": {
         "anchor": "x",
         "domain": [
          0,
          1
         ],
         "title": {
          "text": "value"
         }
        }
       }
      }
     },
     "metadata": {},
     "output_type": "display_data"
    }
   ],
   "source": [
    "px.line(data_frame=date_country, title='Number of Countries Ordering Over Time')"
   ]
  },
  {
   "cell_type": "code",
   "execution_count": null,
   "metadata": {},
   "outputs": [],
   "source": []
  }
 ],
 "metadata": {
  "kernelspec": {
   "display_name": "Python 3",
   "language": "python",
   "name": "python3"
  },
  "language_info": {
   "codemirror_mode": {
    "name": "ipython",
    "version": 3
   },
   "file_extension": ".py",
   "mimetype": "text/x-python",
   "name": "python",
   "nbconvert_exporter": "python",
   "pygments_lexer": "ipython3",
   "version": "3.13.0"
  }
 },
 "nbformat": 4,
 "nbformat_minor": 2
}
